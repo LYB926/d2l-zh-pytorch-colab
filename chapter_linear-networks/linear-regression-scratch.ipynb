{
  "cells": [
    {
      "cell_type": "markdown",
      "id": "8b2fbfca",
      "metadata": {
        "id": "8b2fbfca"
      },
      "source": [
        "The following additional libraries are needed to run this\n",
        "notebook. Note that running on Colab is experimental, please report a Github\n",
        "issue if you have any problem."
      ]
    },
    {
      "cell_type": "code",
      "execution_count": 2,
      "id": "4d4b16ae",
      "metadata": {
        "id": "4d4b16ae",
        "outputId": "aad48ae7-cdcc-4cdf-be33-6df892181b7b",
        "colab": {
          "base_uri": "https://localhost:8080/",
          "height": 1000
        }
      },
      "outputs": [
        {
          "output_type": "stream",
          "name": "stdout",
          "text": [
            "Collecting d2l\n",
            "  Downloading d2l-1.0.3-py3-none-any.whl.metadata (556 bytes)\n",
            "Collecting jupyter==1.0.0 (from d2l)\n",
            "  Downloading jupyter-1.0.0-py2.py3-none-any.whl.metadata (995 bytes)\n",
            "Collecting numpy==1.23.5 (from d2l)\n",
            "  Downloading numpy-1.23.5-cp310-cp310-manylinux_2_17_x86_64.manylinux2014_x86_64.whl.metadata (2.3 kB)\n",
            "Collecting matplotlib==3.7.2 (from d2l)\n",
            "  Downloading matplotlib-3.7.2-cp310-cp310-manylinux_2_17_x86_64.manylinux2014_x86_64.whl.metadata (5.6 kB)\n",
            "Collecting matplotlib-inline==0.1.6 (from d2l)\n",
            "  Downloading matplotlib_inline-0.1.6-py3-none-any.whl.metadata (2.8 kB)\n",
            "Collecting requests==2.31.0 (from d2l)\n",
            "  Downloading requests-2.31.0-py3-none-any.whl.metadata (4.6 kB)\n",
            "Collecting pandas==2.0.3 (from d2l)\n",
            "  Downloading pandas-2.0.3-cp310-cp310-manylinux_2_17_x86_64.manylinux2014_x86_64.whl.metadata (18 kB)\n",
            "Collecting scipy==1.10.1 (from d2l)\n",
            "  Downloading scipy-1.10.1-cp310-cp310-manylinux_2_17_x86_64.manylinux2014_x86_64.whl.metadata (58 kB)\n",
            "\u001b[2K     \u001b[90m━━━━━━━━━━━━━━━━━━━━━━━━━━━━━━━━━━━━━━━━\u001b[0m \u001b[32m58.9/58.9 kB\u001b[0m \u001b[31m1.6 MB/s\u001b[0m eta \u001b[36m0:00:00\u001b[0m\n",
            "\u001b[?25hRequirement already satisfied: notebook in /usr/local/lib/python3.10/dist-packages (from jupyter==1.0.0->d2l) (6.5.5)\n",
            "Collecting qtconsole (from jupyter==1.0.0->d2l)\n",
            "  Downloading qtconsole-5.6.1-py3-none-any.whl.metadata (5.0 kB)\n",
            "Requirement already satisfied: jupyter-console in /usr/local/lib/python3.10/dist-packages (from jupyter==1.0.0->d2l) (6.1.0)\n",
            "Requirement already satisfied: nbconvert in /usr/local/lib/python3.10/dist-packages (from jupyter==1.0.0->d2l) (7.16.4)\n",
            "Requirement already satisfied: ipykernel in /usr/local/lib/python3.10/dist-packages (from jupyter==1.0.0->d2l) (5.5.6)\n",
            "Requirement already satisfied: ipywidgets in /usr/local/lib/python3.10/dist-packages (from jupyter==1.0.0->d2l) (7.7.1)\n",
            "Requirement already satisfied: contourpy>=1.0.1 in /usr/local/lib/python3.10/dist-packages (from matplotlib==3.7.2->d2l) (1.3.0)\n",
            "Requirement already satisfied: cycler>=0.10 in /usr/local/lib/python3.10/dist-packages (from matplotlib==3.7.2->d2l) (0.12.1)\n",
            "Requirement already satisfied: fonttools>=4.22.0 in /usr/local/lib/python3.10/dist-packages (from matplotlib==3.7.2->d2l) (4.54.1)\n",
            "Requirement already satisfied: kiwisolver>=1.0.1 in /usr/local/lib/python3.10/dist-packages (from matplotlib==3.7.2->d2l) (1.4.7)\n",
            "Requirement already satisfied: packaging>=20.0 in /usr/local/lib/python3.10/dist-packages (from matplotlib==3.7.2->d2l) (24.1)\n",
            "Requirement already satisfied: pillow>=6.2.0 in /usr/local/lib/python3.10/dist-packages (from matplotlib==3.7.2->d2l) (10.4.0)\n",
            "Collecting pyparsing<3.1,>=2.3.1 (from matplotlib==3.7.2->d2l)\n",
            "  Downloading pyparsing-3.0.9-py3-none-any.whl.metadata (4.2 kB)\n",
            "Requirement already satisfied: python-dateutil>=2.7 in /usr/local/lib/python3.10/dist-packages (from matplotlib==3.7.2->d2l) (2.8.2)\n",
            "Requirement already satisfied: traitlets in /usr/local/lib/python3.10/dist-packages (from matplotlib-inline==0.1.6->d2l) (5.7.1)\n",
            "Requirement already satisfied: pytz>=2020.1 in /usr/local/lib/python3.10/dist-packages (from pandas==2.0.3->d2l) (2024.2)\n",
            "Requirement already satisfied: tzdata>=2022.1 in /usr/local/lib/python3.10/dist-packages (from pandas==2.0.3->d2l) (2024.2)\n",
            "Requirement already satisfied: charset-normalizer<4,>=2 in /usr/local/lib/python3.10/dist-packages (from requests==2.31.0->d2l) (3.4.0)\n",
            "Requirement already satisfied: idna<4,>=2.5 in /usr/local/lib/python3.10/dist-packages (from requests==2.31.0->d2l) (3.10)\n",
            "Requirement already satisfied: urllib3<3,>=1.21.1 in /usr/local/lib/python3.10/dist-packages (from requests==2.31.0->d2l) (2.2.3)\n",
            "Requirement already satisfied: certifi>=2017.4.17 in /usr/local/lib/python3.10/dist-packages (from requests==2.31.0->d2l) (2024.8.30)\n",
            "Requirement already satisfied: six>=1.5 in /usr/local/lib/python3.10/dist-packages (from python-dateutil>=2.7->matplotlib==3.7.2->d2l) (1.16.0)\n",
            "Requirement already satisfied: ipython-genutils in /usr/local/lib/python3.10/dist-packages (from ipykernel->jupyter==1.0.0->d2l) (0.2.0)\n",
            "Requirement already satisfied: ipython>=5.0.0 in /usr/local/lib/python3.10/dist-packages (from ipykernel->jupyter==1.0.0->d2l) (7.34.0)\n",
            "Requirement already satisfied: jupyter-client in /usr/local/lib/python3.10/dist-packages (from ipykernel->jupyter==1.0.0->d2l) (6.1.12)\n",
            "Requirement already satisfied: tornado>=4.2 in /usr/local/lib/python3.10/dist-packages (from ipykernel->jupyter==1.0.0->d2l) (6.3.3)\n",
            "Requirement already satisfied: widgetsnbextension~=3.6.0 in /usr/local/lib/python3.10/dist-packages (from ipywidgets->jupyter==1.0.0->d2l) (3.6.10)\n",
            "Requirement already satisfied: jupyterlab-widgets>=1.0.0 in /usr/local/lib/python3.10/dist-packages (from ipywidgets->jupyter==1.0.0->d2l) (3.0.13)\n",
            "Requirement already satisfied: prompt-toolkit!=3.0.0,!=3.0.1,<3.1.0,>=2.0.0 in /usr/local/lib/python3.10/dist-packages (from jupyter-console->jupyter==1.0.0->d2l) (3.0.48)\n",
            "Requirement already satisfied: pygments in /usr/local/lib/python3.10/dist-packages (from jupyter-console->jupyter==1.0.0->d2l) (2.18.0)\n",
            "Requirement already satisfied: beautifulsoup4 in /usr/local/lib/python3.10/dist-packages (from nbconvert->jupyter==1.0.0->d2l) (4.12.3)\n",
            "Requirement already satisfied: bleach!=5.0.0 in /usr/local/lib/python3.10/dist-packages (from nbconvert->jupyter==1.0.0->d2l) (6.2.0)\n",
            "Requirement already satisfied: defusedxml in /usr/local/lib/python3.10/dist-packages (from nbconvert->jupyter==1.0.0->d2l) (0.7.1)\n",
            "Requirement already satisfied: jinja2>=3.0 in /usr/local/lib/python3.10/dist-packages (from nbconvert->jupyter==1.0.0->d2l) (3.1.4)\n",
            "Requirement already satisfied: jupyter-core>=4.7 in /usr/local/lib/python3.10/dist-packages (from nbconvert->jupyter==1.0.0->d2l) (5.7.2)\n",
            "Requirement already satisfied: jupyterlab-pygments in /usr/local/lib/python3.10/dist-packages (from nbconvert->jupyter==1.0.0->d2l) (0.3.0)\n",
            "Requirement already satisfied: markupsafe>=2.0 in /usr/local/lib/python3.10/dist-packages (from nbconvert->jupyter==1.0.0->d2l) (3.0.2)\n",
            "Requirement already satisfied: mistune<4,>=2.0.3 in /usr/local/lib/python3.10/dist-packages (from nbconvert->jupyter==1.0.0->d2l) (3.0.2)\n",
            "Requirement already satisfied: nbclient>=0.5.0 in /usr/local/lib/python3.10/dist-packages (from nbconvert->jupyter==1.0.0->d2l) (0.10.0)\n",
            "Requirement already satisfied: nbformat>=5.7 in /usr/local/lib/python3.10/dist-packages (from nbconvert->jupyter==1.0.0->d2l) (5.10.4)\n",
            "Requirement already satisfied: pandocfilters>=1.4.1 in /usr/local/lib/python3.10/dist-packages (from nbconvert->jupyter==1.0.0->d2l) (1.5.1)\n",
            "Requirement already satisfied: tinycss2 in /usr/local/lib/python3.10/dist-packages (from nbconvert->jupyter==1.0.0->d2l) (1.4.0)\n",
            "Requirement already satisfied: pyzmq<25,>=17 in /usr/local/lib/python3.10/dist-packages (from notebook->jupyter==1.0.0->d2l) (24.0.1)\n",
            "Requirement already satisfied: argon2-cffi in /usr/local/lib/python3.10/dist-packages (from notebook->jupyter==1.0.0->d2l) (23.1.0)\n",
            "Requirement already satisfied: nest-asyncio>=1.5 in /usr/local/lib/python3.10/dist-packages (from notebook->jupyter==1.0.0->d2l) (1.6.0)\n",
            "Requirement already satisfied: Send2Trash>=1.8.0 in /usr/local/lib/python3.10/dist-packages (from notebook->jupyter==1.0.0->d2l) (1.8.3)\n",
            "Requirement already satisfied: terminado>=0.8.3 in /usr/local/lib/python3.10/dist-packages (from notebook->jupyter==1.0.0->d2l) (0.18.1)\n",
            "Requirement already satisfied: prometheus-client in /usr/local/lib/python3.10/dist-packages (from notebook->jupyter==1.0.0->d2l) (0.21.0)\n",
            "Requirement already satisfied: nbclassic>=0.4.7 in /usr/local/lib/python3.10/dist-packages (from notebook->jupyter==1.0.0->d2l) (1.1.0)\n",
            "Collecting qtpy>=2.4.0 (from qtconsole->jupyter==1.0.0->d2l)\n",
            "  Downloading QtPy-2.4.2-py3-none-any.whl.metadata (12 kB)\n",
            "Requirement already satisfied: webencodings in /usr/local/lib/python3.10/dist-packages (from bleach!=5.0.0->nbconvert->jupyter==1.0.0->d2l) (0.5.1)\n",
            "Requirement already satisfied: setuptools>=18.5 in /usr/local/lib/python3.10/dist-packages (from ipython>=5.0.0->ipykernel->jupyter==1.0.0->d2l) (75.1.0)\n",
            "Collecting jedi>=0.16 (from ipython>=5.0.0->ipykernel->jupyter==1.0.0->d2l)\n",
            "  Downloading jedi-0.19.2-py2.py3-none-any.whl.metadata (22 kB)\n",
            "Requirement already satisfied: decorator in /usr/local/lib/python3.10/dist-packages (from ipython>=5.0.0->ipykernel->jupyter==1.0.0->d2l) (4.4.2)\n",
            "Requirement already satisfied: pickleshare in /usr/local/lib/python3.10/dist-packages (from ipython>=5.0.0->ipykernel->jupyter==1.0.0->d2l) (0.7.5)\n",
            "Requirement already satisfied: backcall in /usr/local/lib/python3.10/dist-packages (from ipython>=5.0.0->ipykernel->jupyter==1.0.0->d2l) (0.2.0)\n",
            "Requirement already satisfied: pexpect>4.3 in /usr/local/lib/python3.10/dist-packages (from ipython>=5.0.0->ipykernel->jupyter==1.0.0->d2l) (4.9.0)\n",
            "Requirement already satisfied: platformdirs>=2.5 in /usr/local/lib/python3.10/dist-packages (from jupyter-core>=4.7->nbconvert->jupyter==1.0.0->d2l) (4.3.6)\n",
            "Requirement already satisfied: notebook-shim>=0.2.3 in /usr/local/lib/python3.10/dist-packages (from nbclassic>=0.4.7->notebook->jupyter==1.0.0->d2l) (0.2.4)\n",
            "Requirement already satisfied: fastjsonschema>=2.15 in /usr/local/lib/python3.10/dist-packages (from nbformat>=5.7->nbconvert->jupyter==1.0.0->d2l) (2.20.0)\n",
            "Requirement already satisfied: jsonschema>=2.6 in /usr/local/lib/python3.10/dist-packages (from nbformat>=5.7->nbconvert->jupyter==1.0.0->d2l) (4.23.0)\n",
            "Requirement already satisfied: wcwidth in /usr/local/lib/python3.10/dist-packages (from prompt-toolkit!=3.0.0,!=3.0.1,<3.1.0,>=2.0.0->jupyter-console->jupyter==1.0.0->d2l) (0.2.13)\n",
            "Requirement already satisfied: ptyprocess in /usr/local/lib/python3.10/dist-packages (from terminado>=0.8.3->notebook->jupyter==1.0.0->d2l) (0.7.0)\n",
            "Requirement already satisfied: argon2-cffi-bindings in /usr/local/lib/python3.10/dist-packages (from argon2-cffi->notebook->jupyter==1.0.0->d2l) (21.2.0)\n",
            "Requirement already satisfied: soupsieve>1.2 in /usr/local/lib/python3.10/dist-packages (from beautifulsoup4->nbconvert->jupyter==1.0.0->d2l) (2.6)\n",
            "Requirement already satisfied: parso<0.9.0,>=0.8.4 in /usr/local/lib/python3.10/dist-packages (from jedi>=0.16->ipython>=5.0.0->ipykernel->jupyter==1.0.0->d2l) (0.8.4)\n",
            "Requirement already satisfied: attrs>=22.2.0 in /usr/local/lib/python3.10/dist-packages (from jsonschema>=2.6->nbformat>=5.7->nbconvert->jupyter==1.0.0->d2l) (24.2.0)\n",
            "Requirement already satisfied: jsonschema-specifications>=2023.03.6 in /usr/local/lib/python3.10/dist-packages (from jsonschema>=2.6->nbformat>=5.7->nbconvert->jupyter==1.0.0->d2l) (2024.10.1)\n",
            "Requirement already satisfied: referencing>=0.28.4 in /usr/local/lib/python3.10/dist-packages (from jsonschema>=2.6->nbformat>=5.7->nbconvert->jupyter==1.0.0->d2l) (0.35.1)\n",
            "Requirement already satisfied: rpds-py>=0.7.1 in /usr/local/lib/python3.10/dist-packages (from jsonschema>=2.6->nbformat>=5.7->nbconvert->jupyter==1.0.0->d2l) (0.20.1)\n",
            "Requirement already satisfied: jupyter-server<3,>=1.8 in /usr/local/lib/python3.10/dist-packages (from notebook-shim>=0.2.3->nbclassic>=0.4.7->notebook->jupyter==1.0.0->d2l) (1.24.0)\n",
            "Requirement already satisfied: cffi>=1.0.1 in /usr/local/lib/python3.10/dist-packages (from argon2-cffi-bindings->argon2-cffi->notebook->jupyter==1.0.0->d2l) (1.17.1)\n",
            "Requirement already satisfied: pycparser in /usr/local/lib/python3.10/dist-packages (from cffi>=1.0.1->argon2-cffi-bindings->argon2-cffi->notebook->jupyter==1.0.0->d2l) (2.22)\n",
            "Requirement already satisfied: anyio<4,>=3.1.0 in /usr/local/lib/python3.10/dist-packages (from jupyter-server<3,>=1.8->notebook-shim>=0.2.3->nbclassic>=0.4.7->notebook->jupyter==1.0.0->d2l) (3.7.1)\n",
            "Requirement already satisfied: websocket-client in /usr/local/lib/python3.10/dist-packages (from jupyter-server<3,>=1.8->notebook-shim>=0.2.3->nbclassic>=0.4.7->notebook->jupyter==1.0.0->d2l) (1.8.0)\n",
            "Requirement already satisfied: sniffio>=1.1 in /usr/local/lib/python3.10/dist-packages (from anyio<4,>=3.1.0->jupyter-server<3,>=1.8->notebook-shim>=0.2.3->nbclassic>=0.4.7->notebook->jupyter==1.0.0->d2l) (1.3.1)\n",
            "Requirement already satisfied: exceptiongroup in /usr/local/lib/python3.10/dist-packages (from anyio<4,>=3.1.0->jupyter-server<3,>=1.8->notebook-shim>=0.2.3->nbclassic>=0.4.7->notebook->jupyter==1.0.0->d2l) (1.2.2)\n",
            "Downloading d2l-1.0.3-py3-none-any.whl (111 kB)\n",
            "\u001b[2K   \u001b[90m━━━━━━━━━━━━━━━━━━━━━━━━━━━━━━━━━━━━━━━━\u001b[0m \u001b[32m111.7/111.7 kB\u001b[0m \u001b[31m4.0 MB/s\u001b[0m eta \u001b[36m0:00:00\u001b[0m\n",
            "\u001b[?25hDownloading jupyter-1.0.0-py2.py3-none-any.whl (2.7 kB)\n",
            "Downloading matplotlib-3.7.2-cp310-cp310-manylinux_2_17_x86_64.manylinux2014_x86_64.whl (11.6 MB)\n",
            "\u001b[2K   \u001b[90m━━━━━━━━━━━━━━━━━━━━━━━━━━━━━━━━━━━━━━━━\u001b[0m \u001b[32m11.6/11.6 MB\u001b[0m \u001b[31m58.5 MB/s\u001b[0m eta \u001b[36m0:00:00\u001b[0m\n",
            "\u001b[?25hDownloading matplotlib_inline-0.1.6-py3-none-any.whl (9.4 kB)\n",
            "Downloading numpy-1.23.5-cp310-cp310-manylinux_2_17_x86_64.manylinux2014_x86_64.whl (17.1 MB)\n",
            "\u001b[2K   \u001b[90m━━━━━━━━━━━━━━━━━━━━━━━━━━━━━━━━━━━━━━━━\u001b[0m \u001b[32m17.1/17.1 MB\u001b[0m \u001b[31m45.9 MB/s\u001b[0m eta \u001b[36m0:00:00\u001b[0m\n",
            "\u001b[?25hDownloading pandas-2.0.3-cp310-cp310-manylinux_2_17_x86_64.manylinux2014_x86_64.whl (12.3 MB)\n",
            "\u001b[2K   \u001b[90m━━━━━━━━━━━━━━━━━━━━━━━━━━━━━━━━━━━━━━━━\u001b[0m \u001b[32m12.3/12.3 MB\u001b[0m \u001b[31m62.8 MB/s\u001b[0m eta \u001b[36m0:00:00\u001b[0m\n",
            "\u001b[?25hDownloading requests-2.31.0-py3-none-any.whl (62 kB)\n",
            "\u001b[2K   \u001b[90m━━━━━━━━━━━━━━━━━━━━━━━━━━━━━━━━━━━━━━━━\u001b[0m \u001b[32m62.6/62.6 kB\u001b[0m \u001b[31m4.0 MB/s\u001b[0m eta \u001b[36m0:00:00\u001b[0m\n",
            "\u001b[?25hDownloading scipy-1.10.1-cp310-cp310-manylinux_2_17_x86_64.manylinux2014_x86_64.whl (34.4 MB)\n",
            "\u001b[2K   \u001b[90m━━━━━━━━━━━━━━━━━━━━━━━━━━━━━━━━━━━━━━━━\u001b[0m \u001b[32m34.4/34.4 MB\u001b[0m \u001b[31m16.9 MB/s\u001b[0m eta \u001b[36m0:00:00\u001b[0m\n",
            "\u001b[?25hDownloading pyparsing-3.0.9-py3-none-any.whl (98 kB)\n",
            "\u001b[2K   \u001b[90m━━━━━━━━━━━━━━━━━━━━━━━━━━━━━━━━━━━━━━━━\u001b[0m \u001b[32m98.3/98.3 kB\u001b[0m \u001b[31m4.8 MB/s\u001b[0m eta \u001b[36m0:00:00\u001b[0m\n",
            "\u001b[?25hDownloading qtconsole-5.6.1-py3-none-any.whl (125 kB)\n",
            "\u001b[2K   \u001b[90m━━━━━━━━━━━━━━━━━━━━━━━━━━━━━━━━━━━━━━━━\u001b[0m \u001b[32m125.0/125.0 kB\u001b[0m \u001b[31m7.9 MB/s\u001b[0m eta \u001b[36m0:00:00\u001b[0m\n",
            "\u001b[?25hDownloading QtPy-2.4.2-py3-none-any.whl (95 kB)\n",
            "\u001b[2K   \u001b[90m━━━━━━━━━━━━━━━━━━━━━━━━━━━━━━━━━━━━━━━━\u001b[0m \u001b[32m95.2/95.2 kB\u001b[0m \u001b[31m5.6 MB/s\u001b[0m eta \u001b[36m0:00:00\u001b[0m\n",
            "\u001b[?25hDownloading jedi-0.19.2-py2.py3-none-any.whl (1.6 MB)\n",
            "\u001b[2K   \u001b[90m━━━━━━━━━━━━━━━━━━━━━━━━━━━━━━━━━━━━━━━━\u001b[0m \u001b[32m1.6/1.6 MB\u001b[0m \u001b[31m33.8 MB/s\u001b[0m eta \u001b[36m0:00:00\u001b[0m\n",
            "\u001b[?25hInstalling collected packages: requests, qtpy, pyparsing, numpy, matplotlib-inline, jedi, scipy, pandas, matplotlib, qtconsole, jupyter, d2l\n",
            "  Attempting uninstall: requests\n",
            "    Found existing installation: requests 2.32.3\n",
            "    Uninstalling requests-2.32.3:\n",
            "      Successfully uninstalled requests-2.32.3\n",
            "  Attempting uninstall: pyparsing\n",
            "    Found existing installation: pyparsing 3.2.0\n",
            "    Uninstalling pyparsing-3.2.0:\n",
            "      Successfully uninstalled pyparsing-3.2.0\n",
            "  Attempting uninstall: numpy\n",
            "    Found existing installation: numpy 1.26.4\n",
            "    Uninstalling numpy-1.26.4:\n",
            "      Successfully uninstalled numpy-1.26.4\n",
            "  Attempting uninstall: matplotlib-inline\n",
            "    Found existing installation: matplotlib-inline 0.1.7\n",
            "    Uninstalling matplotlib-inline-0.1.7:\n",
            "      Successfully uninstalled matplotlib-inline-0.1.7\n",
            "  Attempting uninstall: scipy\n",
            "    Found existing installation: scipy 1.13.1\n",
            "    Uninstalling scipy-1.13.1:\n",
            "      Successfully uninstalled scipy-1.13.1\n",
            "  Attempting uninstall: pandas\n",
            "    Found existing installation: pandas 2.2.2\n",
            "    Uninstalling pandas-2.2.2:\n",
            "      Successfully uninstalled pandas-2.2.2\n",
            "  Attempting uninstall: matplotlib\n",
            "    Found existing installation: matplotlib 3.8.0\n",
            "    Uninstalling matplotlib-3.8.0:\n",
            "      Successfully uninstalled matplotlib-3.8.0\n",
            "\u001b[31mERROR: pip's dependency resolver does not currently take into account all the packages that are installed. This behaviour is the source of the following dependency conflicts.\n",
            "albucore 0.0.19 requires numpy>=1.24.4, but you have numpy 1.23.5 which is incompatible.\n",
            "albumentations 1.4.20 requires numpy>=1.24.4, but you have numpy 1.23.5 which is incompatible.\n",
            "bigframes 1.25.0 requires numpy>=1.24.0, but you have numpy 1.23.5 which is incompatible.\n",
            "chex 0.1.87 requires numpy>=1.24.1, but you have numpy 1.23.5 which is incompatible.\n",
            "google-colab 1.0.0 requires pandas==2.2.2, but you have pandas 2.0.3 which is incompatible.\n",
            "google-colab 1.0.0 requires requests==2.32.3, but you have requests 2.31.0 which is incompatible.\n",
            "jax 0.4.33 requires numpy>=1.24, but you have numpy 1.23.5 which is incompatible.\n",
            "jaxlib 0.4.33 requires numpy>=1.24, but you have numpy 1.23.5 which is incompatible.\n",
            "mizani 0.13.0 requires pandas>=2.2.0, but you have pandas 2.0.3 which is incompatible.\n",
            "plotnine 0.14.1 requires matplotlib>=3.8.0, but you have matplotlib 3.7.2 which is incompatible.\n",
            "plotnine 0.14.1 requires pandas>=2.2.0, but you have pandas 2.0.3 which is incompatible.\n",
            "xarray 2024.10.0 requires numpy>=1.24, but you have numpy 1.23.5 which is incompatible.\n",
            "xarray 2024.10.0 requires pandas>=2.1, but you have pandas 2.0.3 which is incompatible.\u001b[0m\u001b[31m\n",
            "\u001b[0mSuccessfully installed d2l-1.0.3 jedi-0.19.2 jupyter-1.0.0 matplotlib-3.7.2 matplotlib-inline-0.1.6 numpy-1.23.5 pandas-2.0.3 pyparsing-3.0.9 qtconsole-5.6.1 qtpy-2.4.2 requests-2.31.0 scipy-1.10.1\n"
          ]
        },
        {
          "output_type": "display_data",
          "data": {
            "application/vnd.colab-display-data+json": {
              "pip_warning": {
                "packages": [
                  "matplotlib",
                  "matplotlib_inline",
                  "mpl_toolkits",
                  "numpy"
                ]
              },
              "id": "dc698da361004461ade29bef6c50cab2"
            }
          },
          "metadata": {}
        }
      ],
      "source": [
        "#!pip install git+https://github.com/d2l-ai/d2l-zh@release  # installing d2l\n",
        "!pip install d2l"
      ]
    },
    {
      "cell_type": "markdown",
      "id": "3b3e0a72",
      "metadata": {
        "origin_pos": 0,
        "id": "3b3e0a72"
      },
      "source": [
        "# 线性回归的从零开始实现\n",
        ":label:`sec_linear_scratch`\n",
        "\n",
        "在了解线性回归的关键思想之后，我们可以开始通过代码来动手实现线性回归了。\n",
        "在这一节中，(**我们将从零开始实现整个方法，\n",
        "包括数据流水线、模型、损失函数和小批量随机梯度下降优化器**)。\n",
        "虽然现代的深度学习框架几乎可以自动化地进行所有这些工作，但从零开始实现可以确保我们真正知道自己在做什么。\n",
        "同时，了解更细致的工作原理将方便我们自定义模型、自定义层或自定义损失函数。\n",
        "在这一节中，我们将只使用张量和自动求导。\n",
        "在之后的章节中，我们会充分利用深度学习框架的优势，介绍更简洁的实现方式。\n"
      ]
    },
    {
      "cell_type": "code",
      "execution_count": 1,
      "id": "c6f4cd71",
      "metadata": {
        "execution": {
          "iopub.execute_input": "2023-08-18T07:02:01.462670Z",
          "iopub.status.busy": "2023-08-18T07:02:01.461918Z",
          "iopub.status.idle": "2023-08-18T07:02:04.547486Z",
          "shell.execute_reply": "2023-08-18T07:02:04.546281Z"
        },
        "origin_pos": 2,
        "tab": [
          "pytorch"
        ],
        "id": "c6f4cd71"
      },
      "outputs": [],
      "source": [
        "%matplotlib inline\n",
        "import random\n",
        "import torch\n",
        "from d2l import torch as d2l"
      ]
    },
    {
      "cell_type": "markdown",
      "id": "18283191",
      "metadata": {
        "origin_pos": 5,
        "id": "18283191"
      },
      "source": [
        "## 生成数据集\n",
        "\n",
        "为了简单起见，我们将[**根据带有噪声的线性模型构造一个人造数据集。**]\n",
        "我们的任务是使用这个有限样本的数据集来恢复这个模型的参数。\n",
        "我们将使用低维数据，这样可以很容易地将其可视化。\n",
        "在下面的代码中，我们生成一个包含1000个样本的数据集，\n",
        "每个样本包含从标准正态分布中采样的2个特征。\n",
        "我们的合成数据集是一个矩阵$\\mathbf{X}\\in \\mathbb{R}^{1000 \\times 2}$。\n",
        "\n",
        "(**我们使用线性模型参数$\\mathbf{w} = [2, -3.4]^\\top$、$b = 4.2$\n",
        "和噪声项$\\epsilon$生成数据集及其标签：\n",
        "\n",
        "$$\\mathbf{y}= \\mathbf{X} \\mathbf{w} + b + \\mathbf\\epsilon.$$\n",
        "**)\n",
        "\n",
        "$\\epsilon$可以视为模型预测和标签时的潜在观测误差。\n",
        "在这里我们认为标准假设成立，即$\\epsilon$服从均值为0的正态分布。\n",
        "为了简化问题，我们将标准差设为0.01。\n",
        "下面的代码生成合成数据集。\n"
      ]
    },
    {
      "cell_type": "code",
      "execution_count": 2,
      "id": "54efeafe",
      "metadata": {
        "execution": {
          "iopub.execute_input": "2023-08-18T07:02:04.553500Z",
          "iopub.status.busy": "2023-08-18T07:02:04.552544Z",
          "iopub.status.idle": "2023-08-18T07:02:04.560226Z",
          "shell.execute_reply": "2023-08-18T07:02:04.559125Z"
        },
        "origin_pos": 6,
        "tab": [
          "pytorch"
        ],
        "id": "54efeafe"
      },
      "outputs": [],
      "source": [
        "def synthetic_data(w, b, num_examples):\n",
        "    \"\"\"生成y=Xw+b+噪声\"\"\"\n",
        "    X = torch.normal(0, 1, (num_examples, len(w)))\n",
        "    y = torch.matmul(X, w) + b\n",
        "    y += torch.normal(0, 0.01, y.shape)\n",
        "    return X, y.reshape((-1, 1))"
      ]
    },
    {
      "cell_type": "code",
      "execution_count": 3,
      "id": "1e60261c",
      "metadata": {
        "execution": {
          "iopub.execute_input": "2023-08-18T07:02:04.564932Z",
          "iopub.status.busy": "2023-08-18T07:02:04.564190Z",
          "iopub.status.idle": "2023-08-18T07:02:04.575309Z",
          "shell.execute_reply": "2023-08-18T07:02:04.574216Z"
        },
        "origin_pos": 8,
        "tab": [
          "pytorch"
        ],
        "id": "1e60261c"
      },
      "outputs": [],
      "source": [
        "true_w = torch.tensor([2, -3.4])\n",
        "true_b = 4.2\n",
        "features, labels = synthetic_data(true_w, true_b, 1000)"
      ]
    },
    {
      "cell_type": "markdown",
      "id": "772256cb",
      "metadata": {
        "origin_pos": 9,
        "id": "772256cb"
      },
      "source": [
        "注意，[**`features`中的每一行都包含一个二维数据样本，\n",
        "`labels`中的每一行都包含一维标签值（一个标量）**]。\n"
      ]
    },
    {
      "cell_type": "code",
      "execution_count": 4,
      "id": "ec13e4f8",
      "metadata": {
        "execution": {
          "iopub.execute_input": "2023-08-18T07:02:04.580067Z",
          "iopub.status.busy": "2023-08-18T07:02:04.579449Z",
          "iopub.status.idle": "2023-08-18T07:02:04.587391Z",
          "shell.execute_reply": "2023-08-18T07:02:04.586306Z"
        },
        "origin_pos": 10,
        "tab": [
          "pytorch"
        ],
        "id": "ec13e4f8",
        "outputId": "39d5dd7d-22fe-4fe8-f489-b554d01b8240",
        "colab": {
          "base_uri": "https://localhost:8080/"
        }
      },
      "outputs": [
        {
          "output_type": "stream",
          "name": "stdout",
          "text": [
            "features: tensor([-0.1461, -0.5518]) \n",
            "label: tensor([5.7821])\n",
            "torch.Size([1000, 2]) torch.Size([1000, 1])\n"
          ]
        }
      ],
      "source": [
        "print('features:', features[0],'\\nlabel:', labels[0])\n",
        "print(features.shape, labels.shape)"
      ]
    },
    {
      "cell_type": "markdown",
      "id": "6b8c624b",
      "metadata": {
        "origin_pos": 11,
        "id": "6b8c624b"
      },
      "source": [
        "通过生成第二个特征`features[:, 1]`和`labels`的散点图，\n",
        "可以直观观察到两者之间的线性关系。\n"
      ]
    },
    {
      "cell_type": "code",
      "execution_count": 7,
      "id": "53ef493c",
      "metadata": {
        "execution": {
          "iopub.execute_input": "2023-08-18T07:02:04.592131Z",
          "iopub.status.busy": "2023-08-18T07:02:04.591402Z",
          "iopub.status.idle": "2023-08-18T07:02:04.829190Z",
          "shell.execute_reply": "2023-08-18T07:02:04.827927Z"
        },
        "origin_pos": 12,
        "tab": [
          "pytorch"
        ],
        "id": "53ef493c",
        "outputId": "87b3f0d0-8fb2-44bd-dcba-d98bd7ed9c55",
        "colab": {
          "base_uri": "https://localhost:8080/",
          "height": 247
        }
      },
      "outputs": [
        {
          "output_type": "display_data",
          "data": {
            "text/plain": [
              "<Figure size 350x250 with 1 Axes>"
            ],
            "image/svg+xml": "<?xml version=\"1.0\" encoding=\"utf-8\" standalone=\"no\"?>\n<!DOCTYPE svg PUBLIC \"-//W3C//DTD SVG 1.1//EN\"\n  \"http://www.w3.org/Graphics/SVG/1.1/DTD/svg11.dtd\">\n<svg xmlns:xlink=\"http://www.w3.org/1999/xlink\" width=\"231.442187pt\" height=\"169.678125pt\" viewBox=\"0 0 231.442187 169.678125\" xmlns=\"http://www.w3.org/2000/svg\" version=\"1.1\">\n <metadata>\n  <rdf:RDF xmlns:dc=\"http://purl.org/dc/elements/1.1/\" xmlns:cc=\"http://creativecommons.org/ns#\" xmlns:rdf=\"http://www.w3.org/1999/02/22-rdf-syntax-ns#\">\n   <cc:Work>\n    <dc:type rdf:resource=\"http://purl.org/dc/dcmitype/StillImage\"/>\n    <dc:date>2024-11-12T13:21:19.200739</dc:date>\n    <dc:format>image/svg+xml</dc:format>\n    <dc:creator>\n     <cc:Agent>\n      <dc:title>Matplotlib v3.7.2, https://matplotlib.org/</dc:title>\n     </cc:Agent>\n    </dc:creator>\n   </cc:Work>\n  </rdf:RDF>\n </metadata>\n <defs>\n  <style type=\"text/css\">*{stroke-linejoin: round; stroke-linecap: butt}</style>\n </defs>\n <g id=\"figure_1\">\n  <g id=\"patch_1\">\n   <path d=\"M 0 169.678125 \nL 231.442187 169.678125 \nL 231.442187 0 \nL 0 0 \nz\n\" style=\"fill: #ffffff\"/>\n  </g>\n  <g id=\"axes_1\">\n   <g id=\"patch_2\">\n    <path d=\"M 28.942188 145.8 \nL 224.242188 145.8 \nL 224.242188 7.2 \nL 28.942188 7.2 \nz\n\" style=\"fill: #ffffff\"/>\n   </g>\n   <g id=\"PathCollection_1\">\n    <defs>\n     <path id=\"ma0cf5655ea\" d=\"M 0 0.5 \nC 0.132602 0.5 0.25979 0.447317 0.353553 0.353553 \nC 0.447317 0.25979 0.5 0.132602 0.5 0 \nC 0.5 -0.132602 0.447317 -0.25979 0.353553 -0.353553 \nC 0.25979 -0.447317 0.132602 -0.5 0 -0.5 \nC -0.132602 -0.5 -0.25979 -0.447317 -0.353553 -0.353553 \nC -0.447317 -0.25979 -0.5 -0.132602 -0.5 0 \nC -0.5 0.132602 -0.447317 0.25979 -0.353553 0.353553 \nC -0.25979 0.447317 -0.132602 0.5 0 0.5 \nz\n\" style=\"stroke: #1f77b4\"/>\n    </defs>\n    <g clip-path=\"url(#p429c04a79f)\">\n     <use xlink:href=\"#ma0cf5655ea\" x=\"106.510834\" y=\"76.232238\" style=\"fill: #1f77b4; stroke: #1f77b4\"/>\n     <use xlink:href=\"#ma0cf5655ea\" x=\"77.80916\" y=\"40.647037\" style=\"fill: #1f77b4; stroke: #1f77b4\"/>\n     <use xlink:href=\"#ma0cf5655ea\" x=\"91.198778\" y=\"56.349261\" style=\"fill: #1f77b4; stroke: #1f77b4\"/>\n     <use xlink:href=\"#ma0cf5655ea\" x=\"101.497666\" y=\"70.404006\" style=\"fill: #1f77b4; stroke: #1f77b4\"/>\n     <use xlink:href=\"#ma0cf5655ea\" x=\"117.618314\" y=\"77.953528\" style=\"fill: #1f77b4; stroke: #1f77b4\"/>\n     <use xlink:href=\"#ma0cf5655ea\" x=\"137.187269\" y=\"73.67845\" style=\"fill: #1f77b4; stroke: #1f77b4\"/>\n     <use xlink:href=\"#ma0cf5655ea\" x=\"146.359544\" y=\"108.731154\" style=\"fill: #1f77b4; stroke: #1f77b4\"/>\n     <use xlink:href=\"#ma0cf5655ea\" x=\"97.074243\" y=\"61.903356\" style=\"fill: #1f77b4; stroke: #1f77b4\"/>\n     <use xlink:href=\"#ma0cf5655ea\" x=\"137.868888\" y=\"80.412952\" style=\"fill: #1f77b4; stroke: #1f77b4\"/>\n     <use xlink:href=\"#ma0cf5655ea\" x=\"129.067667\" y=\"84.045917\" style=\"fill: #1f77b4; stroke: #1f77b4\"/>\n     <use xlink:href=\"#ma0cf5655ea\" x=\"155.154908\" y=\"95.822624\" style=\"fill: #1f77b4; stroke: #1f77b4\"/>\n     <use xlink:href=\"#ma0cf5655ea\" x=\"109.842588\" y=\"80.983926\" style=\"fill: #1f77b4; stroke: #1f77b4\"/>\n     <use xlink:href=\"#ma0cf5655ea\" x=\"155.549866\" y=\"98.932142\" style=\"fill: #1f77b4; stroke: #1f77b4\"/>\n     <use xlink:href=\"#ma0cf5655ea\" x=\"119.067216\" y=\"74.983766\" style=\"fill: #1f77b4; stroke: #1f77b4\"/>\n     <use xlink:href=\"#ma0cf5655ea\" x=\"164.426893\" y=\"91.944884\" style=\"fill: #1f77b4; stroke: #1f77b4\"/>\n     <use xlink:href=\"#ma0cf5655ea\" x=\"115.217615\" y=\"93.396933\" style=\"fill: #1f77b4; stroke: #1f77b4\"/>\n     <use xlink:href=\"#ma0cf5655ea\" x=\"94.845756\" y=\"94.36243\" style=\"fill: #1f77b4; stroke: #1f77b4\"/>\n     <use xlink:href=\"#ma0cf5655ea\" x=\"91.329419\" y=\"62.145069\" style=\"fill: #1f77b4; stroke: #1f77b4\"/>\n     <use xlink:href=\"#ma0cf5655ea\" x=\"135.225758\" y=\"102.497827\" style=\"fill: #1f77b4; stroke: #1f77b4\"/>\n     <use xlink:href=\"#ma0cf5655ea\" x=\"115.098365\" y=\"86.496777\" style=\"fill: #1f77b4; stroke: #1f77b4\"/>\n     <use xlink:href=\"#ma0cf5655ea\" x=\"140.005213\" y=\"109.937188\" style=\"fill: #1f77b4; stroke: #1f77b4\"/>\n     <use xlink:href=\"#ma0cf5655ea\" x=\"163.214228\" y=\"91.660125\" style=\"fill: #1f77b4; stroke: #1f77b4\"/>\n     <use xlink:href=\"#ma0cf5655ea\" x=\"103.915374\" y=\"72.366807\" style=\"fill: #1f77b4; stroke: #1f77b4\"/>\n     <use xlink:href=\"#ma0cf5655ea\" x=\"122.832755\" y=\"68.283907\" style=\"fill: #1f77b4; stroke: #1f77b4\"/>\n     <use xlink:href=\"#ma0cf5655ea\" x=\"124.529033\" y=\"81.226565\" style=\"fill: #1f77b4; stroke: #1f77b4\"/>\n     <use xlink:href=\"#ma0cf5655ea\" x=\"148.651791\" y=\"80.701557\" style=\"fill: #1f77b4; stroke: #1f77b4\"/>\n     <use xlink:href=\"#ma0cf5655ea\" x=\"130.88288\" y=\"84.315892\" style=\"fill: #1f77b4; stroke: #1f77b4\"/>\n     <use xlink:href=\"#ma0cf5655ea\" x=\"64.98038\" y=\"67.185539\" style=\"fill: #1f77b4; stroke: #1f77b4\"/>\n     <use xlink:href=\"#ma0cf5655ea\" x=\"120.406911\" y=\"84.100718\" style=\"fill: #1f77b4; stroke: #1f77b4\"/>\n     <use xlink:href=\"#ma0cf5655ea\" x=\"103.146144\" y=\"88.120953\" style=\"fill: #1f77b4; stroke: #1f77b4\"/>\n     <use xlink:href=\"#ma0cf5655ea\" x=\"75.117494\" y=\"61.512116\" style=\"fill: #1f77b4; stroke: #1f77b4\"/>\n     <use xlink:href=\"#ma0cf5655ea\" x=\"113.753188\" y=\"67.693734\" style=\"fill: #1f77b4; stroke: #1f77b4\"/>\n     <use xlink:href=\"#ma0cf5655ea\" x=\"145.615946\" y=\"98.790007\" style=\"fill: #1f77b4; stroke: #1f77b4\"/>\n     <use xlink:href=\"#ma0cf5655ea\" x=\"93.85825\" y=\"42.806076\" style=\"fill: #1f77b4; stroke: #1f77b4\"/>\n     <use xlink:href=\"#ma0cf5655ea\" x=\"117.629238\" y=\"77.176054\" style=\"fill: #1f77b4; stroke: #1f77b4\"/>\n     <use xlink:href=\"#ma0cf5655ea\" x=\"40.565474\" y=\"13.5\" style=\"fill: #1f77b4; stroke: #1f77b4\"/>\n     <use xlink:href=\"#ma0cf5655ea\" x=\"106.572215\" y=\"88.199405\" style=\"fill: #1f77b4; stroke: #1f77b4\"/>\n     <use xlink:href=\"#ma0cf5655ea\" x=\"125.007811\" y=\"90.480879\" style=\"fill: #1f77b4; stroke: #1f77b4\"/>\n     <use xlink:href=\"#ma0cf5655ea\" x=\"159.655075\" y=\"106.501582\" style=\"fill: #1f77b4; stroke: #1f77b4\"/>\n     <use xlink:href=\"#ma0cf5655ea\" x=\"157.116431\" y=\"95.412126\" style=\"fill: #1f77b4; stroke: #1f77b4\"/>\n     <use xlink:href=\"#ma0cf5655ea\" x=\"114.684584\" y=\"71.273901\" style=\"fill: #1f77b4; stroke: #1f77b4\"/>\n     <use xlink:href=\"#ma0cf5655ea\" x=\"99.079498\" y=\"73.058538\" style=\"fill: #1f77b4; stroke: #1f77b4\"/>\n     <use xlink:href=\"#ma0cf5655ea\" x=\"171.302706\" y=\"125.83191\" style=\"fill: #1f77b4; stroke: #1f77b4\"/>\n     <use xlink:href=\"#ma0cf5655ea\" x=\"123.050952\" y=\"98.722519\" style=\"fill: #1f77b4; stroke: #1f77b4\"/>\n     <use xlink:href=\"#ma0cf5655ea\" x=\"100.967683\" y=\"52.248222\" style=\"fill: #1f77b4; stroke: #1f77b4\"/>\n     <use xlink:href=\"#ma0cf5655ea\" x=\"153.833921\" y=\"111.693279\" style=\"fill: #1f77b4; stroke: #1f77b4\"/>\n     <use xlink:href=\"#ma0cf5655ea\" x=\"139.429975\" y=\"75.076945\" style=\"fill: #1f77b4; stroke: #1f77b4\"/>\n     <use xlink:href=\"#ma0cf5655ea\" x=\"124.812993\" y=\"84.651885\" style=\"fill: #1f77b4; stroke: #1f77b4\"/>\n     <use xlink:href=\"#ma0cf5655ea\" x=\"61.051479\" y=\"44.418682\" style=\"fill: #1f77b4; stroke: #1f77b4\"/>\n     <use xlink:href=\"#ma0cf5655ea\" x=\"139.58686\" y=\"86.920891\" style=\"fill: #1f77b4; stroke: #1f77b4\"/>\n     <use xlink:href=\"#ma0cf5655ea\" x=\"70.427818\" y=\"55.18932\" style=\"fill: #1f77b4; stroke: #1f77b4\"/>\n     <use xlink:href=\"#ma0cf5655ea\" x=\"69.864193\" y=\"58.674439\" style=\"fill: #1f77b4; stroke: #1f77b4\"/>\n     <use xlink:href=\"#ma0cf5655ea\" x=\"115.823998\" y=\"71.465487\" style=\"fill: #1f77b4; stroke: #1f77b4\"/>\n     <use xlink:href=\"#ma0cf5655ea\" x=\"184.024102\" y=\"112.723345\" style=\"fill: #1f77b4; stroke: #1f77b4\"/>\n     <use xlink:href=\"#ma0cf5655ea\" x=\"102.868666\" y=\"70.34355\" style=\"fill: #1f77b4; stroke: #1f77b4\"/>\n     <use xlink:href=\"#ma0cf5655ea\" x=\"123.448605\" y=\"84.016913\" style=\"fill: #1f77b4; stroke: #1f77b4\"/>\n     <use xlink:href=\"#ma0cf5655ea\" x=\"194.413645\" y=\"109.399176\" style=\"fill: #1f77b4; stroke: #1f77b4\"/>\n     <use xlink:href=\"#ma0cf5655ea\" x=\"116.037891\" y=\"70.266721\" style=\"fill: #1f77b4; stroke: #1f77b4\"/>\n     <use xlink:href=\"#ma0cf5655ea\" x=\"97.921059\" y=\"92.170813\" style=\"fill: #1f77b4; stroke: #1f77b4\"/>\n     <use xlink:href=\"#ma0cf5655ea\" x=\"116.565043\" y=\"89.652522\" style=\"fill: #1f77b4; stroke: #1f77b4\"/>\n     <use xlink:href=\"#ma0cf5655ea\" x=\"117.049967\" y=\"81.492853\" style=\"fill: #1f77b4; stroke: #1f77b4\"/>\n     <use xlink:href=\"#ma0cf5655ea\" x=\"116.349813\" y=\"80.940135\" style=\"fill: #1f77b4; stroke: #1f77b4\"/>\n     <use xlink:href=\"#ma0cf5655ea\" x=\"145.045599\" y=\"73.136362\" style=\"fill: #1f77b4; stroke: #1f77b4\"/>\n     <use xlink:href=\"#ma0cf5655ea\" x=\"94.074624\" y=\"65.388364\" style=\"fill: #1f77b4; stroke: #1f77b4\"/>\n     <use xlink:href=\"#ma0cf5655ea\" x=\"120.091706\" y=\"86.018495\" style=\"fill: #1f77b4; stroke: #1f77b4\"/>\n     <use xlink:href=\"#ma0cf5655ea\" x=\"116.490139\" y=\"67.993606\" style=\"fill: #1f77b4; stroke: #1f77b4\"/>\n     <use xlink:href=\"#ma0cf5655ea\" x=\"134.747202\" y=\"81.554788\" style=\"fill: #1f77b4; stroke: #1f77b4\"/>\n     <use xlink:href=\"#ma0cf5655ea\" x=\"141.684527\" y=\"96.359112\" style=\"fill: #1f77b4; stroke: #1f77b4\"/>\n     <use xlink:href=\"#ma0cf5655ea\" x=\"61.438964\" y=\"39.681059\" style=\"fill: #1f77b4; stroke: #1f77b4\"/>\n     <use xlink:href=\"#ma0cf5655ea\" x=\"166.428815\" y=\"103.238266\" style=\"fill: #1f77b4; stroke: #1f77b4\"/>\n     <use xlink:href=\"#ma0cf5655ea\" x=\"151.5341\" y=\"107.746809\" style=\"fill: #1f77b4; stroke: #1f77b4\"/>\n     <use xlink:href=\"#ma0cf5655ea\" x=\"123.822229\" y=\"88.043424\" style=\"fill: #1f77b4; stroke: #1f77b4\"/>\n     <use xlink:href=\"#ma0cf5655ea\" x=\"71.560276\" y=\"46.274186\" style=\"fill: #1f77b4; stroke: #1f77b4\"/>\n     <use xlink:href=\"#ma0cf5655ea\" x=\"152.371703\" y=\"130.00341\" style=\"fill: #1f77b4; stroke: #1f77b4\"/>\n     <use xlink:href=\"#ma0cf5655ea\" x=\"101.007302\" y=\"67.647865\" style=\"fill: #1f77b4; stroke: #1f77b4\"/>\n     <use xlink:href=\"#ma0cf5655ea\" x=\"167.995246\" y=\"125.853707\" style=\"fill: #1f77b4; stroke: #1f77b4\"/>\n     <use xlink:href=\"#ma0cf5655ea\" x=\"80.458196\" y=\"73.566479\" style=\"fill: #1f77b4; stroke: #1f77b4\"/>\n     <use xlink:href=\"#ma0cf5655ea\" x=\"76.780603\" y=\"27.682878\" style=\"fill: #1f77b4; stroke: #1f77b4\"/>\n     <use xlink:href=\"#ma0cf5655ea\" x=\"101.121048\" y=\"62.319626\" style=\"fill: #1f77b4; stroke: #1f77b4\"/>\n     <use xlink:href=\"#ma0cf5655ea\" x=\"122.616809\" y=\"67.138466\" style=\"fill: #1f77b4; stroke: #1f77b4\"/>\n     <use xlink:href=\"#ma0cf5655ea\" x=\"100.978081\" y=\"79.431879\" style=\"fill: #1f77b4; stroke: #1f77b4\"/>\n     <use xlink:href=\"#ma0cf5655ea\" x=\"109.076828\" y=\"86.750759\" style=\"fill: #1f77b4; stroke: #1f77b4\"/>\n     <use xlink:href=\"#ma0cf5655ea\" x=\"186.982382\" y=\"123.358045\" style=\"fill: #1f77b4; stroke: #1f77b4\"/>\n     <use xlink:href=\"#ma0cf5655ea\" x=\"114.166027\" y=\"87.348902\" style=\"fill: #1f77b4; stroke: #1f77b4\"/>\n     <use xlink:href=\"#ma0cf5655ea\" x=\"149.640033\" y=\"93.550487\" style=\"fill: #1f77b4; stroke: #1f77b4\"/>\n     <use xlink:href=\"#ma0cf5655ea\" x=\"157.527663\" y=\"113.604648\" style=\"fill: #1f77b4; stroke: #1f77b4\"/>\n     <use xlink:href=\"#ma0cf5655ea\" x=\"119.710985\" y=\"77.829808\" style=\"fill: #1f77b4; stroke: #1f77b4\"/>\n     <use xlink:href=\"#ma0cf5655ea\" x=\"147.377755\" y=\"83.656866\" style=\"fill: #1f77b4; stroke: #1f77b4\"/>\n     <use xlink:href=\"#ma0cf5655ea\" x=\"153.020172\" y=\"99.643891\" style=\"fill: #1f77b4; stroke: #1f77b4\"/>\n     <use xlink:href=\"#ma0cf5655ea\" x=\"205.063517\" y=\"115.367811\" style=\"fill: #1f77b4; stroke: #1f77b4\"/>\n     <use xlink:href=\"#ma0cf5655ea\" x=\"107.009649\" y=\"86.604206\" style=\"fill: #1f77b4; stroke: #1f77b4\"/>\n     <use xlink:href=\"#ma0cf5655ea\" x=\"124.569413\" y=\"85.884892\" style=\"fill: #1f77b4; stroke: #1f77b4\"/>\n     <use xlink:href=\"#ma0cf5655ea\" x=\"126.822848\" y=\"90.333002\" style=\"fill: #1f77b4; stroke: #1f77b4\"/>\n     <use xlink:href=\"#ma0cf5655ea\" x=\"140.024003\" y=\"97.60254\" style=\"fill: #1f77b4; stroke: #1f77b4\"/>\n     <use xlink:href=\"#ma0cf5655ea\" x=\"103.302685\" y=\"59.935181\" style=\"fill: #1f77b4; stroke: #1f77b4\"/>\n     <use xlink:href=\"#ma0cf5655ea\" x=\"111.860412\" y=\"73.207075\" style=\"fill: #1f77b4; stroke: #1f77b4\"/>\n     <use xlink:href=\"#ma0cf5655ea\" x=\"157.269916\" y=\"94.047379\" style=\"fill: #1f77b4; stroke: #1f77b4\"/>\n     <use xlink:href=\"#ma0cf5655ea\" x=\"179.576486\" y=\"113.794945\" style=\"fill: #1f77b4; stroke: #1f77b4\"/>\n     <use xlink:href=\"#ma0cf5655ea\" x=\"96.176018\" y=\"71.815665\" style=\"fill: #1f77b4; stroke: #1f77b4\"/>\n     <use xlink:href=\"#ma0cf5655ea\" x=\"101.809814\" y=\"65.64226\" style=\"fill: #1f77b4; stroke: #1f77b4\"/>\n     <use xlink:href=\"#ma0cf5655ea\" x=\"120.583647\" y=\"80.095048\" style=\"fill: #1f77b4; stroke: #1f77b4\"/>\n     <use xlink:href=\"#ma0cf5655ea\" x=\"136.140409\" y=\"99.553549\" style=\"fill: #1f77b4; stroke: #1f77b4\"/>\n     <use xlink:href=\"#ma0cf5655ea\" x=\"111.306064\" y=\"72.795758\" style=\"fill: #1f77b4; stroke: #1f77b4\"/>\n     <use xlink:href=\"#ma0cf5655ea\" x=\"94.780183\" y=\"99.812426\" style=\"fill: #1f77b4; stroke: #1f77b4\"/>\n     <use xlink:href=\"#ma0cf5655ea\" x=\"84.300245\" y=\"61.399392\" style=\"fill: #1f77b4; stroke: #1f77b4\"/>\n     <use xlink:href=\"#ma0cf5655ea\" x=\"118.523701\" y=\"85.796458\" style=\"fill: #1f77b4; stroke: #1f77b4\"/>\n     <use xlink:href=\"#ma0cf5655ea\" x=\"127.501496\" y=\"80.495592\" style=\"fill: #1f77b4; stroke: #1f77b4\"/>\n     <use xlink:href=\"#ma0cf5655ea\" x=\"82.715753\" y=\"58.394945\" style=\"fill: #1f77b4; stroke: #1f77b4\"/>\n     <use xlink:href=\"#ma0cf5655ea\" x=\"76.784672\" y=\"69.603794\" style=\"fill: #1f77b4; stroke: #1f77b4\"/>\n     <use xlink:href=\"#ma0cf5655ea\" x=\"133.424607\" y=\"84.010873\" style=\"fill: #1f77b4; stroke: #1f77b4\"/>\n     <use xlink:href=\"#ma0cf5655ea\" x=\"82.938926\" y=\"55.751323\" style=\"fill: #1f77b4; stroke: #1f77b4\"/>\n     <use xlink:href=\"#ma0cf5655ea\" x=\"111.565129\" y=\"73.385865\" style=\"fill: #1f77b4; stroke: #1f77b4\"/>\n     <use xlink:href=\"#ma0cf5655ea\" x=\"77.948738\" y=\"74.902063\" style=\"fill: #1f77b4; stroke: #1f77b4\"/>\n     <use xlink:href=\"#ma0cf5655ea\" x=\"122.194115\" y=\"67.041759\" style=\"fill: #1f77b4; stroke: #1f77b4\"/>\n     <use xlink:href=\"#ma0cf5655ea\" x=\"132.983459\" y=\"93.208732\" style=\"fill: #1f77b4; stroke: #1f77b4\"/>\n     <use xlink:href=\"#ma0cf5655ea\" x=\"38.931385\" y=\"35.730779\" style=\"fill: #1f77b4; stroke: #1f77b4\"/>\n     <use xlink:href=\"#ma0cf5655ea\" x=\"87.532985\" y=\"64.063487\" style=\"fill: #1f77b4; stroke: #1f77b4\"/>\n     <use xlink:href=\"#ma0cf5655ea\" x=\"145.178876\" y=\"91.275336\" style=\"fill: #1f77b4; stroke: #1f77b4\"/>\n     <use xlink:href=\"#ma0cf5655ea\" x=\"160.355134\" y=\"102.271829\" style=\"fill: #1f77b4; stroke: #1f77b4\"/>\n     <use xlink:href=\"#ma0cf5655ea\" x=\"124.282816\" y=\"68.009286\" style=\"fill: #1f77b4; stroke: #1f77b4\"/>\n     <use xlink:href=\"#ma0cf5655ea\" x=\"95.881255\" y=\"63.488896\" style=\"fill: #1f77b4; stroke: #1f77b4\"/>\n     <use xlink:href=\"#ma0cf5655ea\" x=\"130.337775\" y=\"82.419027\" style=\"fill: #1f77b4; stroke: #1f77b4\"/>\n     <use xlink:href=\"#ma0cf5655ea\" x=\"91.646767\" y=\"66.742988\" style=\"fill: #1f77b4; stroke: #1f77b4\"/>\n     <use xlink:href=\"#ma0cf5655ea\" x=\"57.842988\" y=\"66.233334\" style=\"fill: #1f77b4; stroke: #1f77b4\"/>\n     <use xlink:href=\"#ma0cf5655ea\" x=\"132.613237\" y=\"85.104058\" style=\"fill: #1f77b4; stroke: #1f77b4\"/>\n     <use xlink:href=\"#ma0cf5655ea\" x=\"167.312164\" y=\"96.552806\" style=\"fill: #1f77b4; stroke: #1f77b4\"/>\n     <use xlink:href=\"#ma0cf5655ea\" x=\"146.695055\" y=\"106.120559\" style=\"fill: #1f77b4; stroke: #1f77b4\"/>\n     <use xlink:href=\"#ma0cf5655ea\" x=\"147.30584\" y=\"73.450345\" style=\"fill: #1f77b4; stroke: #1f77b4\"/>\n     <use xlink:href=\"#ma0cf5655ea\" x=\"113.456965\" y=\"83.340673\" style=\"fill: #1f77b4; stroke: #1f77b4\"/>\n     <use xlink:href=\"#ma0cf5655ea\" x=\"96.64635\" y=\"60.83572\" style=\"fill: #1f77b4; stroke: #1f77b4\"/>\n     <use xlink:href=\"#ma0cf5655ea\" x=\"155.481212\" y=\"90.488347\" style=\"fill: #1f77b4; stroke: #1f77b4\"/>\n     <use xlink:href=\"#ma0cf5655ea\" x=\"122.510369\" y=\"93.10348\" style=\"fill: #1f77b4; stroke: #1f77b4\"/>\n     <use xlink:href=\"#ma0cf5655ea\" x=\"134.026019\" y=\"105.68102\" style=\"fill: #1f77b4; stroke: #1f77b4\"/>\n     <use xlink:href=\"#ma0cf5655ea\" x=\"133.829992\" y=\"88.723497\" style=\"fill: #1f77b4; stroke: #1f77b4\"/>\n     <use xlink:href=\"#ma0cf5655ea\" x=\"82.793152\" y=\"62.565911\" style=\"fill: #1f77b4; stroke: #1f77b4\"/>\n     <use xlink:href=\"#ma0cf5655ea\" x=\"99.331708\" y=\"63.842991\" style=\"fill: #1f77b4; stroke: #1f77b4\"/>\n     <use xlink:href=\"#ma0cf5655ea\" x=\"136.364538\" y=\"86.912781\" style=\"fill: #1f77b4; stroke: #1f77b4\"/>\n     <use xlink:href=\"#ma0cf5655ea\" x=\"66.473934\" y=\"58.922848\" style=\"fill: #1f77b4; stroke: #1f77b4\"/>\n     <use xlink:href=\"#ma0cf5655ea\" x=\"115.856857\" y=\"63.357156\" style=\"fill: #1f77b4; stroke: #1f77b4\"/>\n     <use xlink:href=\"#ma0cf5655ea\" x=\"155.755186\" y=\"87.055682\" style=\"fill: #1f77b4; stroke: #1f77b4\"/>\n     <use xlink:href=\"#ma0cf5655ea\" x=\"110.748908\" y=\"91.917645\" style=\"fill: #1f77b4; stroke: #1f77b4\"/>\n     <use xlink:href=\"#ma0cf5655ea\" x=\"202.887189\" y=\"113.106508\" style=\"fill: #1f77b4; stroke: #1f77b4\"/>\n     <use xlink:href=\"#ma0cf5655ea\" x=\"193.642408\" y=\"105.798234\" style=\"fill: #1f77b4; stroke: #1f77b4\"/>\n     <use xlink:href=\"#ma0cf5655ea\" x=\"128.720741\" y=\"103.48326\" style=\"fill: #1f77b4; stroke: #1f77b4\"/>\n     <use xlink:href=\"#ma0cf5655ea\" x=\"147.224731\" y=\"92.96992\" style=\"fill: #1f77b4; stroke: #1f77b4\"/>\n     <use xlink:href=\"#ma0cf5655ea\" x=\"116.625673\" y=\"68.116012\" style=\"fill: #1f77b4; stroke: #1f77b4\"/>\n     <use xlink:href=\"#ma0cf5655ea\" x=\"175.835681\" y=\"103.710358\" style=\"fill: #1f77b4; stroke: #1f77b4\"/>\n     <use xlink:href=\"#ma0cf5655ea\" x=\"133.388697\" y=\"82.2446\" style=\"fill: #1f77b4; stroke: #1f77b4\"/>\n     <use xlink:href=\"#ma0cf5655ea\" x=\"179.878797\" y=\"92.468035\" style=\"fill: #1f77b4; stroke: #1f77b4\"/>\n     <use xlink:href=\"#ma0cf5655ea\" x=\"62.760199\" y=\"58.226707\" style=\"fill: #1f77b4; stroke: #1f77b4\"/>\n     <use xlink:href=\"#ma0cf5655ea\" x=\"118.748363\" y=\"65.221497\" style=\"fill: #1f77b4; stroke: #1f77b4\"/>\n     <use xlink:href=\"#ma0cf5655ea\" x=\"152.168495\" y=\"94.746884\" style=\"fill: #1f77b4; stroke: #1f77b4\"/>\n     <use xlink:href=\"#ma0cf5655ea\" x=\"110.703121\" y=\"68.605161\" style=\"fill: #1f77b4; stroke: #1f77b4\"/>\n     <use xlink:href=\"#ma0cf5655ea\" x=\"80.731587\" y=\"63.620552\" style=\"fill: #1f77b4; stroke: #1f77b4\"/>\n     <use xlink:href=\"#ma0cf5655ea\" x=\"85.37507\" y=\"69.675968\" style=\"fill: #1f77b4; stroke: #1f77b4\"/>\n     <use xlink:href=\"#ma0cf5655ea\" x=\"62.404238\" y=\"45.612743\" style=\"fill: #1f77b4; stroke: #1f77b4\"/>\n     <use xlink:href=\"#ma0cf5655ea\" x=\"93.780934\" y=\"76.386517\" style=\"fill: #1f77b4; stroke: #1f77b4\"/>\n     <use xlink:href=\"#ma0cf5655ea\" x=\"126.208278\" y=\"84.110316\" style=\"fill: #1f77b4; stroke: #1f77b4\"/>\n     <use xlink:href=\"#ma0cf5655ea\" x=\"140.820203\" y=\"86.762223\" style=\"fill: #1f77b4; stroke: #1f77b4\"/>\n     <use xlink:href=\"#ma0cf5655ea\" x=\"116.796433\" y=\"80.957851\" style=\"fill: #1f77b4; stroke: #1f77b4\"/>\n     <use xlink:href=\"#ma0cf5655ea\" x=\"72.277498\" y=\"85.383772\" style=\"fill: #1f77b4; stroke: #1f77b4\"/>\n     <use xlink:href=\"#ma0cf5655ea\" x=\"138.177121\" y=\"99.898081\" style=\"fill: #1f77b4; stroke: #1f77b4\"/>\n     <use xlink:href=\"#ma0cf5655ea\" x=\"115.467299\" y=\"60.5934\" style=\"fill: #1f77b4; stroke: #1f77b4\"/>\n     <use xlink:href=\"#ma0cf5655ea\" x=\"124.728099\" y=\"84.467488\" style=\"fill: #1f77b4; stroke: #1f77b4\"/>\n     <use xlink:href=\"#ma0cf5655ea\" x=\"197.472004\" y=\"123.393887\" style=\"fill: #1f77b4; stroke: #1f77b4\"/>\n     <use xlink:href=\"#ma0cf5655ea\" x=\"126.318848\" y=\"79.292959\" style=\"fill: #1f77b4; stroke: #1f77b4\"/>\n     <use xlink:href=\"#ma0cf5655ea\" x=\"140.69516\" y=\"112.898758\" style=\"fill: #1f77b4; stroke: #1f77b4\"/>\n     <use xlink:href=\"#ma0cf5655ea\" x=\"147.22933\" y=\"94.807248\" style=\"fill: #1f77b4; stroke: #1f77b4\"/>\n     <use xlink:href=\"#ma0cf5655ea\" x=\"152.80248\" y=\"111.310832\" style=\"fill: #1f77b4; stroke: #1f77b4\"/>\n     <use xlink:href=\"#ma0cf5655ea\" x=\"102.075773\" y=\"72.431553\" style=\"fill: #1f77b4; stroke: #1f77b4\"/>\n     <use xlink:href=\"#ma0cf5655ea\" x=\"136.065245\" y=\"90.696774\" style=\"fill: #1f77b4; stroke: #1f77b4\"/>\n     <use xlink:href=\"#ma0cf5655ea\" x=\"84.648279\" y=\"39.948507\" style=\"fill: #1f77b4; stroke: #1f77b4\"/>\n     <use xlink:href=\"#ma0cf5655ea\" x=\"138.996909\" y=\"91.264121\" style=\"fill: #1f77b4; stroke: #1f77b4\"/>\n     <use xlink:href=\"#ma0cf5655ea\" x=\"177.838933\" y=\"122.216009\" style=\"fill: #1f77b4; stroke: #1f77b4\"/>\n     <use xlink:href=\"#ma0cf5655ea\" x=\"114.47819\" y=\"93.94595\" style=\"fill: #1f77b4; stroke: #1f77b4\"/>\n     <use xlink:href=\"#ma0cf5655ea\" x=\"115.990353\" y=\"75.200383\" style=\"fill: #1f77b4; stroke: #1f77b4\"/>\n     <use xlink:href=\"#ma0cf5655ea\" x=\"85.330108\" y=\"68.486408\" style=\"fill: #1f77b4; stroke: #1f77b4\"/>\n     <use xlink:href=\"#ma0cf5655ea\" x=\"78.198736\" y=\"68.446164\" style=\"fill: #1f77b4; stroke: #1f77b4\"/>\n     <use xlink:href=\"#ma0cf5655ea\" x=\"175.792721\" y=\"90.466043\" style=\"fill: #1f77b4; stroke: #1f77b4\"/>\n     <use xlink:href=\"#ma0cf5655ea\" x=\"65.74764\" y=\"36.167802\" style=\"fill: #1f77b4; stroke: #1f77b4\"/>\n     <use xlink:href=\"#ma0cf5655ea\" x=\"102.434734\" y=\"65.21047\" style=\"fill: #1f77b4; stroke: #1f77b4\"/>\n     <use xlink:href=\"#ma0cf5655ea\" x=\"90.818779\" y=\"55.898872\" style=\"fill: #1f77b4; stroke: #1f77b4\"/>\n     <use xlink:href=\"#ma0cf5655ea\" x=\"155.484038\" y=\"104.167343\" style=\"fill: #1f77b4; stroke: #1f77b4\"/>\n     <use xlink:href=\"#ma0cf5655ea\" x=\"147.525829\" y=\"89.956823\" style=\"fill: #1f77b4; stroke: #1f77b4\"/>\n     <use xlink:href=\"#ma0cf5655ea\" x=\"116.683888\" y=\"106.359102\" style=\"fill: #1f77b4; stroke: #1f77b4\"/>\n     <use xlink:href=\"#ma0cf5655ea\" x=\"102.379215\" y=\"63.574852\" style=\"fill: #1f77b4; stroke: #1f77b4\"/>\n     <use xlink:href=\"#ma0cf5655ea\" x=\"137.520347\" y=\"89.939028\" style=\"fill: #1f77b4; stroke: #1f77b4\"/>\n     <use xlink:href=\"#ma0cf5655ea\" x=\"131.30031\" y=\"80.822306\" style=\"fill: #1f77b4; stroke: #1f77b4\"/>\n     <use xlink:href=\"#ma0cf5655ea\" x=\"90.639955\" y=\"67.022124\" style=\"fill: #1f77b4; stroke: #1f77b4\"/>\n     <use xlink:href=\"#ma0cf5655ea\" x=\"185.744049\" y=\"122.006812\" style=\"fill: #1f77b4; stroke: #1f77b4\"/>\n     <use xlink:href=\"#ma0cf5655ea\" x=\"104.945346\" y=\"69.650877\" style=\"fill: #1f77b4; stroke: #1f77b4\"/>\n     <use xlink:href=\"#ma0cf5655ea\" x=\"133.826697\" y=\"103.456587\" style=\"fill: #1f77b4; stroke: #1f77b4\"/>\n     <use xlink:href=\"#ma0cf5655ea\" x=\"160.326069\" y=\"100.142661\" style=\"fill: #1f77b4; stroke: #1f77b4\"/>\n     <use xlink:href=\"#ma0cf5655ea\" x=\"153.18324\" y=\"100.010129\" style=\"fill: #1f77b4; stroke: #1f77b4\"/>\n     <use xlink:href=\"#ma0cf5655ea\" x=\"119.93033\" y=\"84.29476\" style=\"fill: #1f77b4; stroke: #1f77b4\"/>\n     <use xlink:href=\"#ma0cf5655ea\" x=\"49.226454\" y=\"48.603666\" style=\"fill: #1f77b4; stroke: #1f77b4\"/>\n     <use xlink:href=\"#ma0cf5655ea\" x=\"68.355562\" y=\"46.595425\" style=\"fill: #1f77b4; stroke: #1f77b4\"/>\n     <use xlink:href=\"#ma0cf5655ea\" x=\"158.69732\" y=\"113.151225\" style=\"fill: #1f77b4; stroke: #1f77b4\"/>\n     <use xlink:href=\"#ma0cf5655ea\" x=\"82.490132\" y=\"47.62416\" style=\"fill: #1f77b4; stroke: #1f77b4\"/>\n     <use xlink:href=\"#ma0cf5655ea\" x=\"178.809547\" y=\"107.677736\" style=\"fill: #1f77b4; stroke: #1f77b4\"/>\n     <use xlink:href=\"#ma0cf5655ea\" x=\"153.172891\" y=\"112.582771\" style=\"fill: #1f77b4; stroke: #1f77b4\"/>\n     <use xlink:href=\"#ma0cf5655ea\" x=\"148.062294\" y=\"83.523315\" style=\"fill: #1f77b4; stroke: #1f77b4\"/>\n     <use xlink:href=\"#ma0cf5655ea\" x=\"145.276149\" y=\"114.509414\" style=\"fill: #1f77b4; stroke: #1f77b4\"/>\n     <use xlink:href=\"#ma0cf5655ea\" x=\"93.60768\" y=\"60.688974\" style=\"fill: #1f77b4; stroke: #1f77b4\"/>\n     <use xlink:href=\"#ma0cf5655ea\" x=\"95.425185\" y=\"73.662095\" style=\"fill: #1f77b4; stroke: #1f77b4\"/>\n     <use xlink:href=\"#ma0cf5655ea\" x=\"40.752133\" y=\"42.079409\" style=\"fill: #1f77b4; stroke: #1f77b4\"/>\n     <use xlink:href=\"#ma0cf5655ea\" x=\"137.735523\" y=\"107.373379\" style=\"fill: #1f77b4; stroke: #1f77b4\"/>\n     <use xlink:href=\"#ma0cf5655ea\" x=\"192.794209\" y=\"118.18792\" style=\"fill: #1f77b4; stroke: #1f77b4\"/>\n     <use xlink:href=\"#ma0cf5655ea\" x=\"99.737855\" y=\"73.859193\" style=\"fill: #1f77b4; stroke: #1f77b4\"/>\n     <use xlink:href=\"#ma0cf5655ea\" x=\"176.765349\" y=\"99.013677\" style=\"fill: #1f77b4; stroke: #1f77b4\"/>\n     <use xlink:href=\"#ma0cf5655ea\" x=\"142.923366\" y=\"91.073234\" style=\"fill: #1f77b4; stroke: #1f77b4\"/>\n     <use xlink:href=\"#ma0cf5655ea\" x=\"78.651323\" y=\"63.917735\" style=\"fill: #1f77b4; stroke: #1f77b4\"/>\n     <use xlink:href=\"#ma0cf5655ea\" x=\"92.049112\" y=\"48.654858\" style=\"fill: #1f77b4; stroke: #1f77b4\"/>\n     <use xlink:href=\"#ma0cf5655ea\" x=\"155.792738\" y=\"105.292416\" style=\"fill: #1f77b4; stroke: #1f77b4\"/>\n     <use xlink:href=\"#ma0cf5655ea\" x=\"98.394338\" y=\"88.259229\" style=\"fill: #1f77b4; stroke: #1f77b4\"/>\n     <use xlink:href=\"#ma0cf5655ea\" x=\"92.753046\" y=\"45.923517\" style=\"fill: #1f77b4; stroke: #1f77b4\"/>\n     <use xlink:href=\"#ma0cf5655ea\" x=\"112.187189\" y=\"86.940489\" style=\"fill: #1f77b4; stroke: #1f77b4\"/>\n     <use xlink:href=\"#ma0cf5655ea\" x=\"135.42368\" y=\"88.159294\" style=\"fill: #1f77b4; stroke: #1f77b4\"/>\n     <use xlink:href=\"#ma0cf5655ea\" x=\"215.364915\" y=\"139.5\" style=\"fill: #1f77b4; stroke: #1f77b4\"/>\n     <use xlink:href=\"#ma0cf5655ea\" x=\"184.460787\" y=\"122.402228\" style=\"fill: #1f77b4; stroke: #1f77b4\"/>\n     <use xlink:href=\"#ma0cf5655ea\" x=\"90.902523\" y=\"75.46583\" style=\"fill: #1f77b4; stroke: #1f77b4\"/>\n     <use xlink:href=\"#ma0cf5655ea\" x=\"155.403597\" y=\"87.611025\" style=\"fill: #1f77b4; stroke: #1f77b4\"/>\n     <use xlink:href=\"#ma0cf5655ea\" x=\"100.837573\" y=\"73.490999\" style=\"fill: #1f77b4; stroke: #1f77b4\"/>\n     <use xlink:href=\"#ma0cf5655ea\" x=\"108.054333\" y=\"82.054007\" style=\"fill: #1f77b4; stroke: #1f77b4\"/>\n     <use xlink:href=\"#ma0cf5655ea\" x=\"142.674016\" y=\"126.779449\" style=\"fill: #1f77b4; stroke: #1f77b4\"/>\n     <use xlink:href=\"#ma0cf5655ea\" x=\"129.353948\" y=\"68.424425\" style=\"fill: #1f77b4; stroke: #1f77b4\"/>\n     <use xlink:href=\"#ma0cf5655ea\" x=\"136.483241\" y=\"64.825317\" style=\"fill: #1f77b4; stroke: #1f77b4\"/>\n     <use xlink:href=\"#ma0cf5655ea\" x=\"119.86039\" y=\"59.428363\" style=\"fill: #1f77b4; stroke: #1f77b4\"/>\n     <use xlink:href=\"#ma0cf5655ea\" x=\"154.759218\" y=\"118.938107\" style=\"fill: #1f77b4; stroke: #1f77b4\"/>\n     <use xlink:href=\"#ma0cf5655ea\" x=\"131.820565\" y=\"61.084193\" style=\"fill: #1f77b4; stroke: #1f77b4\"/>\n     <use xlink:href=\"#ma0cf5655ea\" x=\"95.938715\" y=\"52.613482\" style=\"fill: #1f77b4; stroke: #1f77b4\"/>\n     <use xlink:href=\"#ma0cf5655ea\" x=\"91.199435\" y=\"59.86287\" style=\"fill: #1f77b4; stroke: #1f77b4\"/>\n     <use xlink:href=\"#ma0cf5655ea\" x=\"128.050381\" y=\"73.121943\" style=\"fill: #1f77b4; stroke: #1f77b4\"/>\n     <use xlink:href=\"#ma0cf5655ea\" x=\"125.009889\" y=\"77.622753\" style=\"fill: #1f77b4; stroke: #1f77b4\"/>\n     <use xlink:href=\"#ma0cf5655ea\" x=\"85.582506\" y=\"76.82882\" style=\"fill: #1f77b4; stroke: #1f77b4\"/>\n     <use xlink:href=\"#ma0cf5655ea\" x=\"134.536515\" y=\"88.003634\" style=\"fill: #1f77b4; stroke: #1f77b4\"/>\n     <use xlink:href=\"#ma0cf5655ea\" x=\"137.881799\" y=\"93.649428\" style=\"fill: #1f77b4; stroke: #1f77b4\"/>\n     <use xlink:href=\"#ma0cf5655ea\" x=\"161.061541\" y=\"118.18795\" style=\"fill: #1f77b4; stroke: #1f77b4\"/>\n     <use xlink:href=\"#ma0cf5655ea\" x=\"134.317881\" y=\"87.426879\" style=\"fill: #1f77b4; stroke: #1f77b4\"/>\n     <use xlink:href=\"#ma0cf5655ea\" x=\"189.253914\" y=\"115.839015\" style=\"fill: #1f77b4; stroke: #1f77b4\"/>\n     <use xlink:href=\"#ma0cf5655ea\" x=\"148.015898\" y=\"88.477465\" style=\"fill: #1f77b4; stroke: #1f77b4\"/>\n     <use xlink:href=\"#ma0cf5655ea\" x=\"174.327531\" y=\"112.53994\" style=\"fill: #1f77b4; stroke: #1f77b4\"/>\n     <use xlink:href=\"#ma0cf5655ea\" x=\"95.392672\" y=\"82.916476\" style=\"fill: #1f77b4; stroke: #1f77b4\"/>\n     <use xlink:href=\"#ma0cf5655ea\" x=\"125.778455\" y=\"80.05601\" style=\"fill: #1f77b4; stroke: #1f77b4\"/>\n     <use xlink:href=\"#ma0cf5655ea\" x=\"145.610839\" y=\"114.689683\" style=\"fill: #1f77b4; stroke: #1f77b4\"/>\n     <use xlink:href=\"#ma0cf5655ea\" x=\"103.625985\" y=\"78.091944\" style=\"fill: #1f77b4; stroke: #1f77b4\"/>\n     <use xlink:href=\"#ma0cf5655ea\" x=\"140.844357\" y=\"100.871242\" style=\"fill: #1f77b4; stroke: #1f77b4\"/>\n     <use xlink:href=\"#ma0cf5655ea\" x=\"91.173627\" y=\"90.136659\" style=\"fill: #1f77b4; stroke: #1f77b4\"/>\n     <use xlink:href=\"#ma0cf5655ea\" x=\"75.73698\" y=\"49.053483\" style=\"fill: #1f77b4; stroke: #1f77b4\"/>\n     <use xlink:href=\"#ma0cf5655ea\" x=\"172.825184\" y=\"99.767447\" style=\"fill: #1f77b4; stroke: #1f77b4\"/>\n     <use xlink:href=\"#ma0cf5655ea\" x=\"117.540725\" y=\"68.822052\" style=\"fill: #1f77b4; stroke: #1f77b4\"/>\n     <use xlink:href=\"#ma0cf5655ea\" x=\"164.824632\" y=\"95.079254\" style=\"fill: #1f77b4; stroke: #1f77b4\"/>\n     <use xlink:href=\"#ma0cf5655ea\" x=\"156.021367\" y=\"77.775238\" style=\"fill: #1f77b4; stroke: #1f77b4\"/>\n     <use xlink:href=\"#ma0cf5655ea\" x=\"97.837188\" y=\"70.313667\" style=\"fill: #1f77b4; stroke: #1f77b4\"/>\n     <use xlink:href=\"#ma0cf5655ea\" x=\"137.799276\" y=\"87.40077\" style=\"fill: #1f77b4; stroke: #1f77b4\"/>\n     <use xlink:href=\"#ma0cf5655ea\" x=\"135.654927\" y=\"80.939685\" style=\"fill: #1f77b4; stroke: #1f77b4\"/>\n     <use xlink:href=\"#ma0cf5655ea\" x=\"160.813673\" y=\"102.521332\" style=\"fill: #1f77b4; stroke: #1f77b4\"/>\n     <use xlink:href=\"#ma0cf5655ea\" x=\"107.591305\" y=\"66.9763\" style=\"fill: #1f77b4; stroke: #1f77b4\"/>\n     <use xlink:href=\"#ma0cf5655ea\" x=\"189.6476\" y=\"118.58546\" style=\"fill: #1f77b4; stroke: #1f77b4\"/>\n     <use xlink:href=\"#ma0cf5655ea\" x=\"160.787124\" y=\"117.232253\" style=\"fill: #1f77b4; stroke: #1f77b4\"/>\n     <use xlink:href=\"#ma0cf5655ea\" x=\"114.50368\" y=\"70.056991\" style=\"fill: #1f77b4; stroke: #1f77b4\"/>\n     <use xlink:href=\"#ma0cf5655ea\" x=\"69.203329\" y=\"21.439528\" style=\"fill: #1f77b4; stroke: #1f77b4\"/>\n     <use xlink:href=\"#ma0cf5655ea\" x=\"73.343631\" y=\"57.271027\" style=\"fill: #1f77b4; stroke: #1f77b4\"/>\n     <use xlink:href=\"#ma0cf5655ea\" x=\"157.200075\" y=\"116.737417\" style=\"fill: #1f77b4; stroke: #1f77b4\"/>\n     <use xlink:href=\"#ma0cf5655ea\" x=\"131.241786\" y=\"77.127449\" style=\"fill: #1f77b4; stroke: #1f77b4\"/>\n     <use xlink:href=\"#ma0cf5655ea\" x=\"62.516221\" y=\"54.049119\" style=\"fill: #1f77b4; stroke: #1f77b4\"/>\n     <use xlink:href=\"#ma0cf5655ea\" x=\"152.020005\" y=\"102.054669\" style=\"fill: #1f77b4; stroke: #1f77b4\"/>\n     <use xlink:href=\"#ma0cf5655ea\" x=\"99.355951\" y=\"89.939251\" style=\"fill: #1f77b4; stroke: #1f77b4\"/>\n     <use xlink:href=\"#ma0cf5655ea\" x=\"128.715948\" y=\"75.097932\" style=\"fill: #1f77b4; stroke: #1f77b4\"/>\n     <use xlink:href=\"#ma0cf5655ea\" x=\"98.279093\" y=\"63.126945\" style=\"fill: #1f77b4; stroke: #1f77b4\"/>\n     <use xlink:href=\"#ma0cf5655ea\" x=\"112.307225\" y=\"91.484785\" style=\"fill: #1f77b4; stroke: #1f77b4\"/>\n     <use xlink:href=\"#ma0cf5655ea\" x=\"115.004754\" y=\"72.671742\" style=\"fill: #1f77b4; stroke: #1f77b4\"/>\n     <use xlink:href=\"#ma0cf5655ea\" x=\"157.473992\" y=\"88.927461\" style=\"fill: #1f77b4; stroke: #1f77b4\"/>\n     <use xlink:href=\"#ma0cf5655ea\" x=\"128.429319\" y=\"80.460462\" style=\"fill: #1f77b4; stroke: #1f77b4\"/>\n     <use xlink:href=\"#ma0cf5655ea\" x=\"89.223676\" y=\"68.374944\" style=\"fill: #1f77b4; stroke: #1f77b4\"/>\n     <use xlink:href=\"#ma0cf5655ea\" x=\"131.645951\" y=\"79.722682\" style=\"fill: #1f77b4; stroke: #1f77b4\"/>\n     <use xlink:href=\"#ma0cf5655ea\" x=\"172.723199\" y=\"111.184513\" style=\"fill: #1f77b4; stroke: #1f77b4\"/>\n     <use xlink:href=\"#ma0cf5655ea\" x=\"121.30467\" y=\"92.141539\" style=\"fill: #1f77b4; stroke: #1f77b4\"/>\n     <use xlink:href=\"#ma0cf5655ea\" x=\"73.669343\" y=\"75.156722\" style=\"fill: #1f77b4; stroke: #1f77b4\"/>\n     <use xlink:href=\"#ma0cf5655ea\" x=\"154.588187\" y=\"102.23783\" style=\"fill: #1f77b4; stroke: #1f77b4\"/>\n     <use xlink:href=\"#ma0cf5655ea\" x=\"162.348288\" y=\"120.902365\" style=\"fill: #1f77b4; stroke: #1f77b4\"/>\n     <use xlink:href=\"#ma0cf5655ea\" x=\"85.933236\" y=\"81.037888\" style=\"fill: #1f77b4; stroke: #1f77b4\"/>\n     <use xlink:href=\"#ma0cf5655ea\" x=\"143.381603\" y=\"105.995083\" style=\"fill: #1f77b4; stroke: #1f77b4\"/>\n     <use xlink:href=\"#ma0cf5655ea\" x=\"92.48894\" y=\"78.19427\" style=\"fill: #1f77b4; stroke: #1f77b4\"/>\n     <use xlink:href=\"#ma0cf5655ea\" x=\"108.70698\" y=\"94.612348\" style=\"fill: #1f77b4; stroke: #1f77b4\"/>\n     <use xlink:href=\"#ma0cf5655ea\" x=\"92.007457\" y=\"66.689606\" style=\"fill: #1f77b4; stroke: #1f77b4\"/>\n     <use xlink:href=\"#ma0cf5655ea\" x=\"164.028048\" y=\"101.456201\" style=\"fill: #1f77b4; stroke: #1f77b4\"/>\n     <use xlink:href=\"#ma0cf5655ea\" x=\"179.118459\" y=\"110.683548\" style=\"fill: #1f77b4; stroke: #1f77b4\"/>\n     <use xlink:href=\"#ma0cf5655ea\" x=\"121.177151\" y=\"97.713701\" style=\"fill: #1f77b4; stroke: #1f77b4\"/>\n     <use xlink:href=\"#ma0cf5655ea\" x=\"103.142099\" y=\"75.219418\" style=\"fill: #1f77b4; stroke: #1f77b4\"/>\n     <use xlink:href=\"#ma0cf5655ea\" x=\"172.180495\" y=\"101.926761\" style=\"fill: #1f77b4; stroke: #1f77b4\"/>\n     <use xlink:href=\"#ma0cf5655ea\" x=\"153.787701\" y=\"95.174936\" style=\"fill: #1f77b4; stroke: #1f77b4\"/>\n     <use xlink:href=\"#ma0cf5655ea\" x=\"62.544556\" y=\"58.725351\" style=\"fill: #1f77b4; stroke: #1f77b4\"/>\n     <use xlink:href=\"#ma0cf5655ea\" x=\"113.569802\" y=\"82.334372\" style=\"fill: #1f77b4; stroke: #1f77b4\"/>\n     <use xlink:href=\"#ma0cf5655ea\" x=\"114.744182\" y=\"101.23938\" style=\"fill: #1f77b4; stroke: #1f77b4\"/>\n     <use xlink:href=\"#ma0cf5655ea\" x=\"191.370676\" y=\"120.252072\" style=\"fill: #1f77b4; stroke: #1f77b4\"/>\n     <use xlink:href=\"#ma0cf5655ea\" x=\"58.852383\" y=\"31.535165\" style=\"fill: #1f77b4; stroke: #1f77b4\"/>\n     <use xlink:href=\"#ma0cf5655ea\" x=\"161.652099\" y=\"107.701933\" style=\"fill: #1f77b4; stroke: #1f77b4\"/>\n     <use xlink:href=\"#ma0cf5655ea\" x=\"114.188722\" y=\"88.370592\" style=\"fill: #1f77b4; stroke: #1f77b4\"/>\n     <use xlink:href=\"#ma0cf5655ea\" x=\"139.655819\" y=\"91.427395\" style=\"fill: #1f77b4; stroke: #1f77b4\"/>\n     <use xlink:href=\"#ma0cf5655ea\" x=\"95.054339\" y=\"66.91101\" style=\"fill: #1f77b4; stroke: #1f77b4\"/>\n     <use xlink:href=\"#ma0cf5655ea\" x=\"129.370224\" y=\"95.153094\" style=\"fill: #1f77b4; stroke: #1f77b4\"/>\n     <use xlink:href=\"#ma0cf5655ea\" x=\"62.796265\" y=\"44.016024\" style=\"fill: #1f77b4; stroke: #1f77b4\"/>\n     <use xlink:href=\"#ma0cf5655ea\" x=\"133.926372\" y=\"75.258706\" style=\"fill: #1f77b4; stroke: #1f77b4\"/>\n     <use xlink:href=\"#ma0cf5655ea\" x=\"90.024795\" y=\"53.512053\" style=\"fill: #1f77b4; stroke: #1f77b4\"/>\n     <use xlink:href=\"#ma0cf5655ea\" x=\"139.038044\" y=\"100.003686\" style=\"fill: #1f77b4; stroke: #1f77b4\"/>\n     <use xlink:href=\"#ma0cf5655ea\" x=\"169.654214\" y=\"103.763582\" style=\"fill: #1f77b4; stroke: #1f77b4\"/>\n     <use xlink:href=\"#ma0cf5655ea\" x=\"141.92924\" y=\"91.231207\" style=\"fill: #1f77b4; stroke: #1f77b4\"/>\n     <use xlink:href=\"#ma0cf5655ea\" x=\"120.568557\" y=\"74.607995\" style=\"fill: #1f77b4; stroke: #1f77b4\"/>\n     <use xlink:href=\"#ma0cf5655ea\" x=\"162.362095\" y=\"102.577872\" style=\"fill: #1f77b4; stroke: #1f77b4\"/>\n     <use xlink:href=\"#ma0cf5655ea\" x=\"170.844856\" y=\"102.167402\" style=\"fill: #1f77b4; stroke: #1f77b4\"/>\n     <use xlink:href=\"#ma0cf5655ea\" x=\"102.64253\" y=\"89.058404\" style=\"fill: #1f77b4; stroke: #1f77b4\"/>\n     <use xlink:href=\"#ma0cf5655ea\" x=\"139.519351\" y=\"101.510296\" style=\"fill: #1f77b4; stroke: #1f77b4\"/>\n     <use xlink:href=\"#ma0cf5655ea\" x=\"134.970899\" y=\"80.515036\" style=\"fill: #1f77b4; stroke: #1f77b4\"/>\n     <use xlink:href=\"#ma0cf5655ea\" x=\"69.059954\" y=\"51.409124\" style=\"fill: #1f77b4; stroke: #1f77b4\"/>\n     <use xlink:href=\"#ma0cf5655ea\" x=\"113.549542\" y=\"43.78034\" style=\"fill: #1f77b4; stroke: #1f77b4\"/>\n     <use xlink:href=\"#ma0cf5655ea\" x=\"141.794666\" y=\"86.279668\" style=\"fill: #1f77b4; stroke: #1f77b4\"/>\n     <use xlink:href=\"#ma0cf5655ea\" x=\"192.843645\" y=\"85.340738\" style=\"fill: #1f77b4; stroke: #1f77b4\"/>\n     <use xlink:href=\"#ma0cf5655ea\" x=\"134.304789\" y=\"64.102917\" style=\"fill: #1f77b4; stroke: #1f77b4\"/>\n     <use xlink:href=\"#ma0cf5655ea\" x=\"184.022415\" y=\"102.84505\" style=\"fill: #1f77b4; stroke: #1f77b4\"/>\n     <use xlink:href=\"#ma0cf5655ea\" x=\"173.536594\" y=\"117.212667\" style=\"fill: #1f77b4; stroke: #1f77b4\"/>\n     <use xlink:href=\"#ma0cf5655ea\" x=\"138.865936\" y=\"81.218626\" style=\"fill: #1f77b4; stroke: #1f77b4\"/>\n     <use xlink:href=\"#ma0cf5655ea\" x=\"134.23467\" y=\"95.38092\" style=\"fill: #1f77b4; stroke: #1f77b4\"/>\n     <use xlink:href=\"#ma0cf5655ea\" x=\"110.336075\" y=\"85.590829\" style=\"fill: #1f77b4; stroke: #1f77b4\"/>\n     <use xlink:href=\"#ma0cf5655ea\" x=\"185.670127\" y=\"117.387494\" style=\"fill: #1f77b4; stroke: #1f77b4\"/>\n     <use xlink:href=\"#ma0cf5655ea\" x=\"92.475673\" y=\"55.901637\" style=\"fill: #1f77b4; stroke: #1f77b4\"/>\n     <use xlink:href=\"#ma0cf5655ea\" x=\"143.098519\" y=\"87.854881\" style=\"fill: #1f77b4; stroke: #1f77b4\"/>\n     <use xlink:href=\"#ma0cf5655ea\" x=\"103.478629\" y=\"73.395507\" style=\"fill: #1f77b4; stroke: #1f77b4\"/>\n     <use xlink:href=\"#ma0cf5655ea\" x=\"157.65288\" y=\"99.279428\" style=\"fill: #1f77b4; stroke: #1f77b4\"/>\n     <use xlink:href=\"#ma0cf5655ea\" x=\"138.988633\" y=\"93.726166\" style=\"fill: #1f77b4; stroke: #1f77b4\"/>\n     <use xlink:href=\"#ma0cf5655ea\" x=\"195.328137\" y=\"115.001224\" style=\"fill: #1f77b4; stroke: #1f77b4\"/>\n     <use xlink:href=\"#ma0cf5655ea\" x=\"111.202823\" y=\"77.793075\" style=\"fill: #1f77b4; stroke: #1f77b4\"/>\n     <use xlink:href=\"#ma0cf5655ea\" x=\"103.624772\" y=\"74.827889\" style=\"fill: #1f77b4; stroke: #1f77b4\"/>\n     <use xlink:href=\"#ma0cf5655ea\" x=\"160.222622\" y=\"101.970417\" style=\"fill: #1f77b4; stroke: #1f77b4\"/>\n     <use xlink:href=\"#ma0cf5655ea\" x=\"158.46793\" y=\"100.316647\" style=\"fill: #1f77b4; stroke: #1f77b4\"/>\n     <use xlink:href=\"#ma0cf5655ea\" x=\"166.739466\" y=\"117.458219\" style=\"fill: #1f77b4; stroke: #1f77b4\"/>\n     <use xlink:href=\"#ma0cf5655ea\" x=\"97.880771\" y=\"71.438578\" style=\"fill: #1f77b4; stroke: #1f77b4\"/>\n     <use xlink:href=\"#ma0cf5655ea\" x=\"87.18304\" y=\"59.029234\" style=\"fill: #1f77b4; stroke: #1f77b4\"/>\n     <use xlink:href=\"#ma0cf5655ea\" x=\"135.467244\" y=\"87.564279\" style=\"fill: #1f77b4; stroke: #1f77b4\"/>\n     <use xlink:href=\"#ma0cf5655ea\" x=\"116.951856\" y=\"80.169858\" style=\"fill: #1f77b4; stroke: #1f77b4\"/>\n     <use xlink:href=\"#ma0cf5655ea\" x=\"149.694578\" y=\"106.087906\" style=\"fill: #1f77b4; stroke: #1f77b4\"/>\n     <use xlink:href=\"#ma0cf5655ea\" x=\"121.544706\" y=\"80.6185\" style=\"fill: #1f77b4; stroke: #1f77b4\"/>\n     <use xlink:href=\"#ma0cf5655ea\" x=\"93.044536\" y=\"59.659985\" style=\"fill: #1f77b4; stroke: #1f77b4\"/>\n     <use xlink:href=\"#ma0cf5655ea\" x=\"105.810289\" y=\"76.131931\" style=\"fill: #1f77b4; stroke: #1f77b4\"/>\n     <use xlink:href=\"#ma0cf5655ea\" x=\"127.92441\" y=\"83.310078\" style=\"fill: #1f77b4; stroke: #1f77b4\"/>\n     <use xlink:href=\"#ma0cf5655ea\" x=\"129.321159\" y=\"66.903154\" style=\"fill: #1f77b4; stroke: #1f77b4\"/>\n     <use xlink:href=\"#ma0cf5655ea\" x=\"157.486822\" y=\"114.653844\" style=\"fill: #1f77b4; stroke: #1f77b4\"/>\n     <use xlink:href=\"#ma0cf5655ea\" x=\"130.711505\" y=\"89.405592\" style=\"fill: #1f77b4; stroke: #1f77b4\"/>\n     <use xlink:href=\"#ma0cf5655ea\" x=\"84.550964\" y=\"78.148253\" style=\"fill: #1f77b4; stroke: #1f77b4\"/>\n     <use xlink:href=\"#ma0cf5655ea\" x=\"195.750097\" y=\"117.890754\" style=\"fill: #1f77b4; stroke: #1f77b4\"/>\n     <use xlink:href=\"#ma0cf5655ea\" x=\"126.022746\" y=\"90.850463\" style=\"fill: #1f77b4; stroke: #1f77b4\"/>\n     <use xlink:href=\"#ma0cf5655ea\" x=\"159.714281\" y=\"102.206853\" style=\"fill: #1f77b4; stroke: #1f77b4\"/>\n     <use xlink:href=\"#ma0cf5655ea\" x=\"124.853361\" y=\"63.958506\" style=\"fill: #1f77b4; stroke: #1f77b4\"/>\n     <use xlink:href=\"#ma0cf5655ea\" x=\"147.214503\" y=\"102.039121\" style=\"fill: #1f77b4; stroke: #1f77b4\"/>\n     <use xlink:href=\"#ma0cf5655ea\" x=\"85.752958\" y=\"57.793228\" style=\"fill: #1f77b4; stroke: #1f77b4\"/>\n     <use xlink:href=\"#ma0cf5655ea\" x=\"146.264671\" y=\"109.185374\" style=\"fill: #1f77b4; stroke: #1f77b4\"/>\n     <use xlink:href=\"#ma0cf5655ea\" x=\"175.856193\" y=\"93.892654\" style=\"fill: #1f77b4; stroke: #1f77b4\"/>\n     <use xlink:href=\"#ma0cf5655ea\" x=\"134.874653\" y=\"81.668212\" style=\"fill: #1f77b4; stroke: #1f77b4\"/>\n     <use xlink:href=\"#ma0cf5655ea\" x=\"172.861623\" y=\"106.828068\" style=\"fill: #1f77b4; stroke: #1f77b4\"/>\n     <use xlink:href=\"#ma0cf5655ea\" x=\"118.572383\" y=\"73.973554\" style=\"fill: #1f77b4; stroke: #1f77b4\"/>\n     <use xlink:href=\"#ma0cf5655ea\" x=\"107.022811\" y=\"87.191185\" style=\"fill: #1f77b4; stroke: #1f77b4\"/>\n     <use xlink:href=\"#ma0cf5655ea\" x=\"150.214545\" y=\"98.982845\" style=\"fill: #1f77b4; stroke: #1f77b4\"/>\n     <use xlink:href=\"#ma0cf5655ea\" x=\"81.623871\" y=\"64.400134\" style=\"fill: #1f77b4; stroke: #1f77b4\"/>\n     <use xlink:href=\"#ma0cf5655ea\" x=\"108.369455\" y=\"65.59728\" style=\"fill: #1f77b4; stroke: #1f77b4\"/>\n     <use xlink:href=\"#ma0cf5655ea\" x=\"120.441525\" y=\"87.84063\" style=\"fill: #1f77b4; stroke: #1f77b4\"/>\n     <use xlink:href=\"#ma0cf5655ea\" x=\"96.714006\" y=\"59.915623\" style=\"fill: #1f77b4; stroke: #1f77b4\"/>\n     <use xlink:href=\"#ma0cf5655ea\" x=\"61.227535\" y=\"51.142399\" style=\"fill: #1f77b4; stroke: #1f77b4\"/>\n     <use xlink:href=\"#ma0cf5655ea\" x=\"164.030503\" y=\"87.545706\" style=\"fill: #1f77b4; stroke: #1f77b4\"/>\n     <use xlink:href=\"#ma0cf5655ea\" x=\"128.181101\" y=\"91.116867\" style=\"fill: #1f77b4; stroke: #1f77b4\"/>\n     <use xlink:href=\"#ma0cf5655ea\" x=\"71.28795\" y=\"42.036523\" style=\"fill: #1f77b4; stroke: #1f77b4\"/>\n     <use xlink:href=\"#ma0cf5655ea\" x=\"111.807449\" y=\"75.116281\" style=\"fill: #1f77b4; stroke: #1f77b4\"/>\n     <use xlink:href=\"#ma0cf5655ea\" x=\"114.503938\" y=\"95.096056\" style=\"fill: #1f77b4; stroke: #1f77b4\"/>\n     <use xlink:href=\"#ma0cf5655ea\" x=\"186.587478\" y=\"104.067668\" style=\"fill: #1f77b4; stroke: #1f77b4\"/>\n     <use xlink:href=\"#ma0cf5655ea\" x=\"96.217768\" y=\"72.149495\" style=\"fill: #1f77b4; stroke: #1f77b4\"/>\n     <use xlink:href=\"#ma0cf5655ea\" x=\"146.479194\" y=\"91.33736\" style=\"fill: #1f77b4; stroke: #1f77b4\"/>\n     <use xlink:href=\"#ma0cf5655ea\" x=\"131.856536\" y=\"84.429989\" style=\"fill: #1f77b4; stroke: #1f77b4\"/>\n     <use xlink:href=\"#ma0cf5655ea\" x=\"121.371887\" y=\"89.043683\" style=\"fill: #1f77b4; stroke: #1f77b4\"/>\n     <use xlink:href=\"#ma0cf5655ea\" x=\"165.700061\" y=\"89.439173\" style=\"fill: #1f77b4; stroke: #1f77b4\"/>\n     <use xlink:href=\"#ma0cf5655ea\" x=\"141.773779\" y=\"101.737974\" style=\"fill: #1f77b4; stroke: #1f77b4\"/>\n     <use xlink:href=\"#ma0cf5655ea\" x=\"90.088487\" y=\"81.914133\" style=\"fill: #1f77b4; stroke: #1f77b4\"/>\n     <use xlink:href=\"#ma0cf5655ea\" x=\"107.267925\" y=\"65.703583\" style=\"fill: #1f77b4; stroke: #1f77b4\"/>\n     <use xlink:href=\"#ma0cf5655ea\" x=\"98.520169\" y=\"63.574206\" style=\"fill: #1f77b4; stroke: #1f77b4\"/>\n     <use xlink:href=\"#ma0cf5655ea\" x=\"157.931508\" y=\"82.687633\" style=\"fill: #1f77b4; stroke: #1f77b4\"/>\n     <use xlink:href=\"#ma0cf5655ea\" x=\"138.252347\" y=\"81.70842\" style=\"fill: #1f77b4; stroke: #1f77b4\"/>\n     <use xlink:href=\"#ma0cf5655ea\" x=\"196.139189\" y=\"118.61493\" style=\"fill: #1f77b4; stroke: #1f77b4\"/>\n     <use xlink:href=\"#ma0cf5655ea\" x=\"118.513679\" y=\"67.505265\" style=\"fill: #1f77b4; stroke: #1f77b4\"/>\n     <use xlink:href=\"#ma0cf5655ea\" x=\"151.587971\" y=\"81.760816\" style=\"fill: #1f77b4; stroke: #1f77b4\"/>\n     <use xlink:href=\"#ma0cf5655ea\" x=\"146.950647\" y=\"85.188451\" style=\"fill: #1f77b4; stroke: #1f77b4\"/>\n     <use xlink:href=\"#ma0cf5655ea\" x=\"104.398872\" y=\"77.453105\" style=\"fill: #1f77b4; stroke: #1f77b4\"/>\n     <use xlink:href=\"#ma0cf5655ea\" x=\"77.494144\" y=\"70.881359\" style=\"fill: #1f77b4; stroke: #1f77b4\"/>\n     <use xlink:href=\"#ma0cf5655ea\" x=\"124.397985\" y=\"81.804577\" style=\"fill: #1f77b4; stroke: #1f77b4\"/>\n     <use xlink:href=\"#ma0cf5655ea\" x=\"150.277809\" y=\"111.395559\" style=\"fill: #1f77b4; stroke: #1f77b4\"/>\n     <use xlink:href=\"#ma0cf5655ea\" x=\"157.640868\" y=\"102.728494\" style=\"fill: #1f77b4; stroke: #1f77b4\"/>\n     <use xlink:href=\"#ma0cf5655ea\" x=\"118.639829\" y=\"67.891478\" style=\"fill: #1f77b4; stroke: #1f77b4\"/>\n     <use xlink:href=\"#ma0cf5655ea\" x=\"80.744352\" y=\"61.371205\" style=\"fill: #1f77b4; stroke: #1f77b4\"/>\n     <use xlink:href=\"#ma0cf5655ea\" x=\"111.028052\" y=\"77.360676\" style=\"fill: #1f77b4; stroke: #1f77b4\"/>\n     <use xlink:href=\"#ma0cf5655ea\" x=\"109.06365\" y=\"85.893611\" style=\"fill: #1f77b4; stroke: #1f77b4\"/>\n     <use xlink:href=\"#ma0cf5655ea\" x=\"120.401186\" y=\"103.328435\" style=\"fill: #1f77b4; stroke: #1f77b4\"/>\n     <use xlink:href=\"#ma0cf5655ea\" x=\"129.76975\" y=\"72.215311\" style=\"fill: #1f77b4; stroke: #1f77b4\"/>\n     <use xlink:href=\"#ma0cf5655ea\" x=\"131.912775\" y=\"110.035021\" style=\"fill: #1f77b4; stroke: #1f77b4\"/>\n     <use xlink:href=\"#ma0cf5655ea\" x=\"130.949301\" y=\"74.68061\" style=\"fill: #1f77b4; stroke: #1f77b4\"/>\n     <use xlink:href=\"#ma0cf5655ea\" x=\"147.903704\" y=\"105.788995\" style=\"fill: #1f77b4; stroke: #1f77b4\"/>\n     <use xlink:href=\"#ma0cf5655ea\" x=\"63.637631\" y=\"49.954805\" style=\"fill: #1f77b4; stroke: #1f77b4\"/>\n     <use xlink:href=\"#ma0cf5655ea\" x=\"135.670811\" y=\"80.82664\" style=\"fill: #1f77b4; stroke: #1f77b4\"/>\n     <use xlink:href=\"#ma0cf5655ea\" x=\"138.097884\" y=\"94.466728\" style=\"fill: #1f77b4; stroke: #1f77b4\"/>\n     <use xlink:href=\"#ma0cf5655ea\" x=\"116.930136\" y=\"81.832632\" style=\"fill: #1f77b4; stroke: #1f77b4\"/>\n     <use xlink:href=\"#ma0cf5655ea\" x=\"129.32369\" y=\"82.704157\" style=\"fill: #1f77b4; stroke: #1f77b4\"/>\n     <use xlink:href=\"#ma0cf5655ea\" x=\"89.427811\" y=\"65.396922\" style=\"fill: #1f77b4; stroke: #1f77b4\"/>\n     <use xlink:href=\"#ma0cf5655ea\" x=\"93.323727\" y=\"78.264455\" style=\"fill: #1f77b4; stroke: #1f77b4\"/>\n     <use xlink:href=\"#ma0cf5655ea\" x=\"59.740822\" y=\"36.343102\" style=\"fill: #1f77b4; stroke: #1f77b4\"/>\n     <use xlink:href=\"#ma0cf5655ea\" x=\"164.781084\" y=\"102.19215\" style=\"fill: #1f77b4; stroke: #1f77b4\"/>\n     <use xlink:href=\"#ma0cf5655ea\" x=\"109.108394\" y=\"80.606946\" style=\"fill: #1f77b4; stroke: #1f77b4\"/>\n     <use xlink:href=\"#ma0cf5655ea\" x=\"93.477706\" y=\"74.553354\" style=\"fill: #1f77b4; stroke: #1f77b4\"/>\n     <use xlink:href=\"#ma0cf5655ea\" x=\"107.383385\" y=\"72.483648\" style=\"fill: #1f77b4; stroke: #1f77b4\"/>\n     <use xlink:href=\"#ma0cf5655ea\" x=\"101.859315\" y=\"63.703166\" style=\"fill: #1f77b4; stroke: #1f77b4\"/>\n     <use xlink:href=\"#ma0cf5655ea\" x=\"84.94618\" y=\"68.618601\" style=\"fill: #1f77b4; stroke: #1f77b4\"/>\n     <use xlink:href=\"#ma0cf5655ea\" x=\"97.294134\" y=\"59.631881\" style=\"fill: #1f77b4; stroke: #1f77b4\"/>\n     <use xlink:href=\"#ma0cf5655ea\" x=\"94.029555\" y=\"85.526154\" style=\"fill: #1f77b4; stroke: #1f77b4\"/>\n     <use xlink:href=\"#ma0cf5655ea\" x=\"101.523435\" y=\"70.648652\" style=\"fill: #1f77b4; stroke: #1f77b4\"/>\n     <use xlink:href=\"#ma0cf5655ea\" x=\"131.300495\" y=\"78.435783\" style=\"fill: #1f77b4; stroke: #1f77b4\"/>\n     <use xlink:href=\"#ma0cf5655ea\" x=\"129.897255\" y=\"94.938837\" style=\"fill: #1f77b4; stroke: #1f77b4\"/>\n     <use xlink:href=\"#ma0cf5655ea\" x=\"109.246819\" y=\"82.424447\" style=\"fill: #1f77b4; stroke: #1f77b4\"/>\n     <use xlink:href=\"#ma0cf5655ea\" x=\"143.449425\" y=\"108.167517\" style=\"fill: #1f77b4; stroke: #1f77b4\"/>\n     <use xlink:href=\"#ma0cf5655ea\" x=\"146.746811\" y=\"93.692348\" style=\"fill: #1f77b4; stroke: #1f77b4\"/>\n     <use xlink:href=\"#ma0cf5655ea\" x=\"120.735733\" y=\"85.299808\" style=\"fill: #1f77b4; stroke: #1f77b4\"/>\n     <use xlink:href=\"#ma0cf5655ea\" x=\"84.140688\" y=\"61.497081\" style=\"fill: #1f77b4; stroke: #1f77b4\"/>\n     <use xlink:href=\"#ma0cf5655ea\" x=\"100.707869\" y=\"61.615727\" style=\"fill: #1f77b4; stroke: #1f77b4\"/>\n     <use xlink:href=\"#ma0cf5655ea\" x=\"160.049506\" y=\"106.145468\" style=\"fill: #1f77b4; stroke: #1f77b4\"/>\n     <use xlink:href=\"#ma0cf5655ea\" x=\"156.447796\" y=\"106.732721\" style=\"fill: #1f77b4; stroke: #1f77b4\"/>\n     <use xlink:href=\"#ma0cf5655ea\" x=\"122.999661\" y=\"96.343648\" style=\"fill: #1f77b4; stroke: #1f77b4\"/>\n     <use xlink:href=\"#ma0cf5655ea\" x=\"55.112956\" y=\"53.742421\" style=\"fill: #1f77b4; stroke: #1f77b4\"/>\n     <use xlink:href=\"#ma0cf5655ea\" x=\"148.033825\" y=\"91.060192\" style=\"fill: #1f77b4; stroke: #1f77b4\"/>\n     <use xlink:href=\"#ma0cf5655ea\" x=\"95.621223\" y=\"57.178062\" style=\"fill: #1f77b4; stroke: #1f77b4\"/>\n     <use xlink:href=\"#ma0cf5655ea\" x=\"131.515388\" y=\"95.056619\" style=\"fill: #1f77b4; stroke: #1f77b4\"/>\n     <use xlink:href=\"#ma0cf5655ea\" x=\"115.212437\" y=\"82.833706\" style=\"fill: #1f77b4; stroke: #1f77b4\"/>\n     <use xlink:href=\"#ma0cf5655ea\" x=\"173.128084\" y=\"107.052648\" style=\"fill: #1f77b4; stroke: #1f77b4\"/>\n     <use xlink:href=\"#ma0cf5655ea\" x=\"74.23729\" y=\"62.150806\" style=\"fill: #1f77b4; stroke: #1f77b4\"/>\n     <use xlink:href=\"#ma0cf5655ea\" x=\"161.747904\" y=\"103.073321\" style=\"fill: #1f77b4; stroke: #1f77b4\"/>\n     <use xlink:href=\"#ma0cf5655ea\" x=\"77.515425\" y=\"62.17196\" style=\"fill: #1f77b4; stroke: #1f77b4\"/>\n     <use xlink:href=\"#ma0cf5655ea\" x=\"136.525621\" y=\"81.68606\" style=\"fill: #1f77b4; stroke: #1f77b4\"/>\n     <use xlink:href=\"#ma0cf5655ea\" x=\"133.211037\" y=\"87.635685\" style=\"fill: #1f77b4; stroke: #1f77b4\"/>\n     <use xlink:href=\"#ma0cf5655ea\" x=\"126.579769\" y=\"71.928181\" style=\"fill: #1f77b4; stroke: #1f77b4\"/>\n     <use xlink:href=\"#ma0cf5655ea\" x=\"47.333671\" y=\"51.818781\" style=\"fill: #1f77b4; stroke: #1f77b4\"/>\n     <use xlink:href=\"#ma0cf5655ea\" x=\"138.399127\" y=\"98.978524\" style=\"fill: #1f77b4; stroke: #1f77b4\"/>\n     <use xlink:href=\"#ma0cf5655ea\" x=\"153.958903\" y=\"111.133051\" style=\"fill: #1f77b4; stroke: #1f77b4\"/>\n     <use xlink:href=\"#ma0cf5655ea\" x=\"119.392135\" y=\"94.650631\" style=\"fill: #1f77b4; stroke: #1f77b4\"/>\n     <use xlink:href=\"#ma0cf5655ea\" x=\"87.727495\" y=\"63.600656\" style=\"fill: #1f77b4; stroke: #1f77b4\"/>\n     <use xlink:href=\"#ma0cf5655ea\" x=\"114.65046\" y=\"74.961971\" style=\"fill: #1f77b4; stroke: #1f77b4\"/>\n     <use xlink:href=\"#ma0cf5655ea\" x=\"103.074797\" y=\"65.556724\" style=\"fill: #1f77b4; stroke: #1f77b4\"/>\n     <use xlink:href=\"#ma0cf5655ea\" x=\"145.16766\" y=\"80.986809\" style=\"fill: #1f77b4; stroke: #1f77b4\"/>\n     <use xlink:href=\"#ma0cf5655ea\" x=\"129.719081\" y=\"76.638592\" style=\"fill: #1f77b4; stroke: #1f77b4\"/>\n     <use xlink:href=\"#ma0cf5655ea\" x=\"110.895641\" y=\"81.142497\" style=\"fill: #1f77b4; stroke: #1f77b4\"/>\n     <use xlink:href=\"#ma0cf5655ea\" x=\"166.757006\" y=\"107.864557\" style=\"fill: #1f77b4; stroke: #1f77b4\"/>\n     <use xlink:href=\"#ma0cf5655ea\" x=\"97.004995\" y=\"67.403626\" style=\"fill: #1f77b4; stroke: #1f77b4\"/>\n     <use xlink:href=\"#ma0cf5655ea\" x=\"115.145601\" y=\"94.66512\" style=\"fill: #1f77b4; stroke: #1f77b4\"/>\n     <use xlink:href=\"#ma0cf5655ea\" x=\"169.345626\" y=\"101.399993\" style=\"fill: #1f77b4; stroke: #1f77b4\"/>\n     <use xlink:href=\"#ma0cf5655ea\" x=\"95.75319\" y=\"68.016767\" style=\"fill: #1f77b4; stroke: #1f77b4\"/>\n     <use xlink:href=\"#ma0cf5655ea\" x=\"105.182577\" y=\"77.634654\" style=\"fill: #1f77b4; stroke: #1f77b4\"/>\n     <use xlink:href=\"#ma0cf5655ea\" x=\"98.745149\" y=\"76.330492\" style=\"fill: #1f77b4; stroke: #1f77b4\"/>\n     <use xlink:href=\"#ma0cf5655ea\" x=\"93.880841\" y=\"80.556108\" style=\"fill: #1f77b4; stroke: #1f77b4\"/>\n     <use xlink:href=\"#ma0cf5655ea\" x=\"60.387971\" y=\"53.99548\" style=\"fill: #1f77b4; stroke: #1f77b4\"/>\n     <use xlink:href=\"#ma0cf5655ea\" x=\"79.914919\" y=\"53.721585\" style=\"fill: #1f77b4; stroke: #1f77b4\"/>\n     <use xlink:href=\"#ma0cf5655ea\" x=\"91.930798\" y=\"82.069449\" style=\"fill: #1f77b4; stroke: #1f77b4\"/>\n     <use xlink:href=\"#ma0cf5655ea\" x=\"212.588811\" y=\"121.965078\" style=\"fill: #1f77b4; stroke: #1f77b4\"/>\n     <use xlink:href=\"#ma0cf5655ea\" x=\"129.74281\" y=\"78.589036\" style=\"fill: #1f77b4; stroke: #1f77b4\"/>\n     <use xlink:href=\"#ma0cf5655ea\" x=\"155.279996\" y=\"95.563689\" style=\"fill: #1f77b4; stroke: #1f77b4\"/>\n     <use xlink:href=\"#ma0cf5655ea\" x=\"144.116159\" y=\"87.312088\" style=\"fill: #1f77b4; stroke: #1f77b4\"/>\n     <use xlink:href=\"#ma0cf5655ea\" x=\"142.171876\" y=\"103.199628\" style=\"fill: #1f77b4; stroke: #1f77b4\"/>\n     <use xlink:href=\"#ma0cf5655ea\" x=\"145.752998\" y=\"83.729913\" style=\"fill: #1f77b4; stroke: #1f77b4\"/>\n     <use xlink:href=\"#ma0cf5655ea\" x=\"161.422621\" y=\"85.361485\" style=\"fill: #1f77b4; stroke: #1f77b4\"/>\n     <use xlink:href=\"#ma0cf5655ea\" x=\"115.925308\" y=\"86.526485\" style=\"fill: #1f77b4; stroke: #1f77b4\"/>\n     <use xlink:href=\"#ma0cf5655ea\" x=\"79.564249\" y=\"43.30265\" style=\"fill: #1f77b4; stroke: #1f77b4\"/>\n     <use xlink:href=\"#ma0cf5655ea\" x=\"124.90032\" y=\"77.437712\" style=\"fill: #1f77b4; stroke: #1f77b4\"/>\n     <use xlink:href=\"#ma0cf5655ea\" x=\"120.956524\" y=\"90.272493\" style=\"fill: #1f77b4; stroke: #1f77b4\"/>\n     <use xlink:href=\"#ma0cf5655ea\" x=\"116.336616\" y=\"77.192519\" style=\"fill: #1f77b4; stroke: #1f77b4\"/>\n     <use xlink:href=\"#ma0cf5655ea\" x=\"178.206727\" y=\"123.057996\" style=\"fill: #1f77b4; stroke: #1f77b4\"/>\n     <use xlink:href=\"#ma0cf5655ea\" x=\"159.693721\" y=\"107.839578\" style=\"fill: #1f77b4; stroke: #1f77b4\"/>\n     <use xlink:href=\"#ma0cf5655ea\" x=\"84.003922\" y=\"72.466801\" style=\"fill: #1f77b4; stroke: #1f77b4\"/>\n     <use xlink:href=\"#ma0cf5655ea\" x=\"150.547138\" y=\"106.320266\" style=\"fill: #1f77b4; stroke: #1f77b4\"/>\n     <use xlink:href=\"#ma0cf5655ea\" x=\"134.846863\" y=\"73.527526\" style=\"fill: #1f77b4; stroke: #1f77b4\"/>\n     <use xlink:href=\"#ma0cf5655ea\" x=\"94.60747\" y=\"60.140514\" style=\"fill: #1f77b4; stroke: #1f77b4\"/>\n     <use xlink:href=\"#ma0cf5655ea\" x=\"114.368633\" y=\"77.274744\" style=\"fill: #1f77b4; stroke: #1f77b4\"/>\n     <use xlink:href=\"#ma0cf5655ea\" x=\"154.658044\" y=\"111.541138\" style=\"fill: #1f77b4; stroke: #1f77b4\"/>\n     <use xlink:href=\"#ma0cf5655ea\" x=\"121.043742\" y=\"68.623231\" style=\"fill: #1f77b4; stroke: #1f77b4\"/>\n     <use xlink:href=\"#ma0cf5655ea\" x=\"59.306388\" y=\"42.501214\" style=\"fill: #1f77b4; stroke: #1f77b4\"/>\n     <use xlink:href=\"#ma0cf5655ea\" x=\"108.741375\" y=\"65.133756\" style=\"fill: #1f77b4; stroke: #1f77b4\"/>\n     <use xlink:href=\"#ma0cf5655ea\" x=\"65.978491\" y=\"31.881962\" style=\"fill: #1f77b4; stroke: #1f77b4\"/>\n     <use xlink:href=\"#ma0cf5655ea\" x=\"103.180045\" y=\"70.778404\" style=\"fill: #1f77b4; stroke: #1f77b4\"/>\n     <use xlink:href=\"#ma0cf5655ea\" x=\"157.895024\" y=\"87.718347\" style=\"fill: #1f77b4; stroke: #1f77b4\"/>\n     <use xlink:href=\"#ma0cf5655ea\" x=\"85.554964\" y=\"36.615377\" style=\"fill: #1f77b4; stroke: #1f77b4\"/>\n     <use xlink:href=\"#ma0cf5655ea\" x=\"109.24411\" y=\"77.534885\" style=\"fill: #1f77b4; stroke: #1f77b4\"/>\n     <use xlink:href=\"#ma0cf5655ea\" x=\"124.570324\" y=\"64.961777\" style=\"fill: #1f77b4; stroke: #1f77b4\"/>\n     <use xlink:href=\"#ma0cf5655ea\" x=\"153.019683\" y=\"90.92337\" style=\"fill: #1f77b4; stroke: #1f77b4\"/>\n     <use xlink:href=\"#ma0cf5655ea\" x=\"143.566513\" y=\"88.04053\" style=\"fill: #1f77b4; stroke: #1f77b4\"/>\n     <use xlink:href=\"#ma0cf5655ea\" x=\"107.201381\" y=\"75.821183\" style=\"fill: #1f77b4; stroke: #1f77b4\"/>\n     <use xlink:href=\"#ma0cf5655ea\" x=\"111.52357\" y=\"83.298793\" style=\"fill: #1f77b4; stroke: #1f77b4\"/>\n     <use xlink:href=\"#ma0cf5655ea\" x=\"132.36045\" y=\"90.186109\" style=\"fill: #1f77b4; stroke: #1f77b4\"/>\n     <use xlink:href=\"#ma0cf5655ea\" x=\"92.459775\" y=\"56.150971\" style=\"fill: #1f77b4; stroke: #1f77b4\"/>\n     <use xlink:href=\"#ma0cf5655ea\" x=\"148.71417\" y=\"103.63579\" style=\"fill: #1f77b4; stroke: #1f77b4\"/>\n     <use xlink:href=\"#ma0cf5655ea\" x=\"129.744005\" y=\"82.213851\" style=\"fill: #1f77b4; stroke: #1f77b4\"/>\n     <use xlink:href=\"#ma0cf5655ea\" x=\"85.756319\" y=\"35.4462\" style=\"fill: #1f77b4; stroke: #1f77b4\"/>\n     <use xlink:href=\"#ma0cf5655ea\" x=\"176.586998\" y=\"109.009078\" style=\"fill: #1f77b4; stroke: #1f77b4\"/>\n     <use xlink:href=\"#ma0cf5655ea\" x=\"88.732063\" y=\"68.709866\" style=\"fill: #1f77b4; stroke: #1f77b4\"/>\n     <use xlink:href=\"#ma0cf5655ea\" x=\"172.954896\" y=\"99.317551\" style=\"fill: #1f77b4; stroke: #1f77b4\"/>\n     <use xlink:href=\"#ma0cf5655ea\" x=\"109.575294\" y=\"98.322769\" style=\"fill: #1f77b4; stroke: #1f77b4\"/>\n     <use xlink:href=\"#ma0cf5655ea\" x=\"163.485532\" y=\"79.789266\" style=\"fill: #1f77b4; stroke: #1f77b4\"/>\n     <use xlink:href=\"#ma0cf5655ea\" x=\"67.80463\" y=\"66.722678\" style=\"fill: #1f77b4; stroke: #1f77b4\"/>\n     <use xlink:href=\"#ma0cf5655ea\" x=\"144.280589\" y=\"100.689992\" style=\"fill: #1f77b4; stroke: #1f77b4\"/>\n     <use xlink:href=\"#ma0cf5655ea\" x=\"140.04402\" y=\"101.153191\" style=\"fill: #1f77b4; stroke: #1f77b4\"/>\n     <use xlink:href=\"#ma0cf5655ea\" x=\"163.079846\" y=\"92.735771\" style=\"fill: #1f77b4; stroke: #1f77b4\"/>\n     <use xlink:href=\"#ma0cf5655ea\" x=\"149.343195\" y=\"78.233906\" style=\"fill: #1f77b4; stroke: #1f77b4\"/>\n     <use xlink:href=\"#ma0cf5655ea\" x=\"175.19027\" y=\"117.183523\" style=\"fill: #1f77b4; stroke: #1f77b4\"/>\n     <use xlink:href=\"#ma0cf5655ea\" x=\"100.713539\" y=\"87.854006\" style=\"fill: #1f77b4; stroke: #1f77b4\"/>\n     <use xlink:href=\"#ma0cf5655ea\" x=\"158.426232\" y=\"103.520029\" style=\"fill: #1f77b4; stroke: #1f77b4\"/>\n     <use xlink:href=\"#ma0cf5655ea\" x=\"109.555433\" y=\"73.575482\" style=\"fill: #1f77b4; stroke: #1f77b4\"/>\n     <use xlink:href=\"#ma0cf5655ea\" x=\"139.054674\" y=\"88.297261\" style=\"fill: #1f77b4; stroke: #1f77b4\"/>\n     <use xlink:href=\"#ma0cf5655ea\" x=\"106.107252\" y=\"83.709327\" style=\"fill: #1f77b4; stroke: #1f77b4\"/>\n     <use xlink:href=\"#ma0cf5655ea\" x=\"92.870473\" y=\"55.883855\" style=\"fill: #1f77b4; stroke: #1f77b4\"/>\n     <use xlink:href=\"#ma0cf5655ea\" x=\"97.509116\" y=\"74.632409\" style=\"fill: #1f77b4; stroke: #1f77b4\"/>\n     <use xlink:href=\"#ma0cf5655ea\" x=\"125.737569\" y=\"83.082546\" style=\"fill: #1f77b4; stroke: #1f77b4\"/>\n     <use xlink:href=\"#ma0cf5655ea\" x=\"167.725861\" y=\"86.537569\" style=\"fill: #1f77b4; stroke: #1f77b4\"/>\n     <use xlink:href=\"#ma0cf5655ea\" x=\"98.933067\" y=\"78.747791\" style=\"fill: #1f77b4; stroke: #1f77b4\"/>\n     <use xlink:href=\"#ma0cf5655ea\" x=\"132.669886\" y=\"88.879825\" style=\"fill: #1f77b4; stroke: #1f77b4\"/>\n     <use xlink:href=\"#ma0cf5655ea\" x=\"102.015075\" y=\"91.54354\" style=\"fill: #1f77b4; stroke: #1f77b4\"/>\n     <use xlink:href=\"#ma0cf5655ea\" x=\"171.673685\" y=\"103.300494\" style=\"fill: #1f77b4; stroke: #1f77b4\"/>\n     <use xlink:href=\"#ma0cf5655ea\" x=\"133.536941\" y=\"77.796426\" style=\"fill: #1f77b4; stroke: #1f77b4\"/>\n     <use xlink:href=\"#ma0cf5655ea\" x=\"127.021619\" y=\"89.945084\" style=\"fill: #1f77b4; stroke: #1f77b4\"/>\n     <use xlink:href=\"#ma0cf5655ea\" x=\"112.902832\" y=\"86.140442\" style=\"fill: #1f77b4; stroke: #1f77b4\"/>\n     <use xlink:href=\"#ma0cf5655ea\" x=\"143.344451\" y=\"98.035186\" style=\"fill: #1f77b4; stroke: #1f77b4\"/>\n     <use xlink:href=\"#ma0cf5655ea\" x=\"143.125139\" y=\"98.295582\" style=\"fill: #1f77b4; stroke: #1f77b4\"/>\n     <use xlink:href=\"#ma0cf5655ea\" x=\"186.239472\" y=\"129.913171\" style=\"fill: #1f77b4; stroke: #1f77b4\"/>\n     <use xlink:href=\"#ma0cf5655ea\" x=\"149.676407\" y=\"94.076328\" style=\"fill: #1f77b4; stroke: #1f77b4\"/>\n     <use xlink:href=\"#ma0cf5655ea\" x=\"133.073516\" y=\"97.009835\" style=\"fill: #1f77b4; stroke: #1f77b4\"/>\n     <use xlink:href=\"#ma0cf5655ea\" x=\"55.196416\" y=\"43.922079\" style=\"fill: #1f77b4; stroke: #1f77b4\"/>\n     <use xlink:href=\"#ma0cf5655ea\" x=\"128.477877\" y=\"74.327094\" style=\"fill: #1f77b4; stroke: #1f77b4\"/>\n     <use xlink:href=\"#ma0cf5655ea\" x=\"149.490327\" y=\"113.538975\" style=\"fill: #1f77b4; stroke: #1f77b4\"/>\n     <use xlink:href=\"#ma0cf5655ea\" x=\"211.207489\" y=\"101.097293\" style=\"fill: #1f77b4; stroke: #1f77b4\"/>\n     <use xlink:href=\"#ma0cf5655ea\" x=\"113.70839\" y=\"81.348368\" style=\"fill: #1f77b4; stroke: #1f77b4\"/>\n     <use xlink:href=\"#ma0cf5655ea\" x=\"147.942532\" y=\"108.328282\" style=\"fill: #1f77b4; stroke: #1f77b4\"/>\n     <use xlink:href=\"#ma0cf5655ea\" x=\"123.875802\" y=\"88.035583\" style=\"fill: #1f77b4; stroke: #1f77b4\"/>\n     <use xlink:href=\"#ma0cf5655ea\" x=\"145.344195\" y=\"91.568284\" style=\"fill: #1f77b4; stroke: #1f77b4\"/>\n     <use xlink:href=\"#ma0cf5655ea\" x=\"119.567495\" y=\"85.47988\" style=\"fill: #1f77b4; stroke: #1f77b4\"/>\n     <use xlink:href=\"#ma0cf5655ea\" x=\"120.784846\" y=\"95.987221\" style=\"fill: #1f77b4; stroke: #1f77b4\"/>\n     <use xlink:href=\"#ma0cf5655ea\" x=\"118.742842\" y=\"89.665757\" style=\"fill: #1f77b4; stroke: #1f77b4\"/>\n     <use xlink:href=\"#ma0cf5655ea\" x=\"94.67792\" y=\"74.807567\" style=\"fill: #1f77b4; stroke: #1f77b4\"/>\n     <use xlink:href=\"#ma0cf5655ea\" x=\"167.971762\" y=\"118.212746\" style=\"fill: #1f77b4; stroke: #1f77b4\"/>\n     <use xlink:href=\"#ma0cf5655ea\" x=\"96.782444\" y=\"67.96526\" style=\"fill: #1f77b4; stroke: #1f77b4\"/>\n     <use xlink:href=\"#ma0cf5655ea\" x=\"156.138139\" y=\"96.739008\" style=\"fill: #1f77b4; stroke: #1f77b4\"/>\n     <use xlink:href=\"#ma0cf5655ea\" x=\"124.724529\" y=\"85.295459\" style=\"fill: #1f77b4; stroke: #1f77b4\"/>\n     <use xlink:href=\"#ma0cf5655ea\" x=\"83.156688\" y=\"74.526272\" style=\"fill: #1f77b4; stroke: #1f77b4\"/>\n     <use xlink:href=\"#ma0cf5655ea\" x=\"114.613793\" y=\"62.74612\" style=\"fill: #1f77b4; stroke: #1f77b4\"/>\n     <use xlink:href=\"#ma0cf5655ea\" x=\"117.650723\" y=\"86.604964\" style=\"fill: #1f77b4; stroke: #1f77b4\"/>\n     <use xlink:href=\"#ma0cf5655ea\" x=\"156.486045\" y=\"110.311328\" style=\"fill: #1f77b4; stroke: #1f77b4\"/>\n     <use xlink:href=\"#ma0cf5655ea\" x=\"92.274322\" y=\"58.387598\" style=\"fill: #1f77b4; stroke: #1f77b4\"/>\n     <use xlink:href=\"#ma0cf5655ea\" x=\"201.914113\" y=\"132.430743\" style=\"fill: #1f77b4; stroke: #1f77b4\"/>\n     <use xlink:href=\"#ma0cf5655ea\" x=\"85.89743\" y=\"86.345185\" style=\"fill: #1f77b4; stroke: #1f77b4\"/>\n     <use xlink:href=\"#ma0cf5655ea\" x=\"203.703961\" y=\"109.537243\" style=\"fill: #1f77b4; stroke: #1f77b4\"/>\n     <use xlink:href=\"#ma0cf5655ea\" x=\"121.98399\" y=\"93.719074\" style=\"fill: #1f77b4; stroke: #1f77b4\"/>\n     <use xlink:href=\"#ma0cf5655ea\" x=\"77.47559\" y=\"59.056893\" style=\"fill: #1f77b4; stroke: #1f77b4\"/>\n     <use xlink:href=\"#ma0cf5655ea\" x=\"127.325956\" y=\"76.774198\" style=\"fill: #1f77b4; stroke: #1f77b4\"/>\n     <use xlink:href=\"#ma0cf5655ea\" x=\"151.531542\" y=\"92.091617\" style=\"fill: #1f77b4; stroke: #1f77b4\"/>\n     <use xlink:href=\"#ma0cf5655ea\" x=\"133.024538\" y=\"76.623387\" style=\"fill: #1f77b4; stroke: #1f77b4\"/>\n     <use xlink:href=\"#ma0cf5655ea\" x=\"136.511551\" y=\"76.791074\" style=\"fill: #1f77b4; stroke: #1f77b4\"/>\n     <use xlink:href=\"#ma0cf5655ea\" x=\"134.920636\" y=\"92.178714\" style=\"fill: #1f77b4; stroke: #1f77b4\"/>\n     <use xlink:href=\"#ma0cf5655ea\" x=\"179.135843\" y=\"106.439566\" style=\"fill: #1f77b4; stroke: #1f77b4\"/>\n     <use xlink:href=\"#ma0cf5655ea\" x=\"141.610657\" y=\"81.682352\" style=\"fill: #1f77b4; stroke: #1f77b4\"/>\n     <use xlink:href=\"#ma0cf5655ea\" x=\"161.235089\" y=\"94.749747\" style=\"fill: #1f77b4; stroke: #1f77b4\"/>\n     <use xlink:href=\"#ma0cf5655ea\" x=\"182.702967\" y=\"110.568701\" style=\"fill: #1f77b4; stroke: #1f77b4\"/>\n     <use xlink:href=\"#ma0cf5655ea\" x=\"93.867631\" y=\"56.741494\" style=\"fill: #1f77b4; stroke: #1f77b4\"/>\n     <use xlink:href=\"#ma0cf5655ea\" x=\"145.318373\" y=\"84.864743\" style=\"fill: #1f77b4; stroke: #1f77b4\"/>\n     <use xlink:href=\"#ma0cf5655ea\" x=\"132.675387\" y=\"82.174702\" style=\"fill: #1f77b4; stroke: #1f77b4\"/>\n     <use xlink:href=\"#ma0cf5655ea\" x=\"66.562749\" y=\"46.897987\" style=\"fill: #1f77b4; stroke: #1f77b4\"/>\n     <use xlink:href=\"#ma0cf5655ea\" x=\"141.143746\" y=\"98.986531\" style=\"fill: #1f77b4; stroke: #1f77b4\"/>\n     <use xlink:href=\"#ma0cf5655ea\" x=\"149.403038\" y=\"103.820798\" style=\"fill: #1f77b4; stroke: #1f77b4\"/>\n     <use xlink:href=\"#ma0cf5655ea\" x=\"100.440266\" y=\"70.339436\" style=\"fill: #1f77b4; stroke: #1f77b4\"/>\n     <use xlink:href=\"#ma0cf5655ea\" x=\"110.478721\" y=\"86.155686\" style=\"fill: #1f77b4; stroke: #1f77b4\"/>\n     <use xlink:href=\"#ma0cf5655ea\" x=\"136.643008\" y=\"87.273305\" style=\"fill: #1f77b4; stroke: #1f77b4\"/>\n     <use xlink:href=\"#ma0cf5655ea\" x=\"168.348107\" y=\"95.802725\" style=\"fill: #1f77b4; stroke: #1f77b4\"/>\n     <use xlink:href=\"#ma0cf5655ea\" x=\"111.020781\" y=\"78.254105\" style=\"fill: #1f77b4; stroke: #1f77b4\"/>\n     <use xlink:href=\"#ma0cf5655ea\" x=\"80.669485\" y=\"63.150291\" style=\"fill: #1f77b4; stroke: #1f77b4\"/>\n     <use xlink:href=\"#ma0cf5655ea\" x=\"139.726991\" y=\"82.629832\" style=\"fill: #1f77b4; stroke: #1f77b4\"/>\n     <use xlink:href=\"#ma0cf5655ea\" x=\"175.66933\" y=\"118.606485\" style=\"fill: #1f77b4; stroke: #1f77b4\"/>\n     <use xlink:href=\"#ma0cf5655ea\" x=\"100.736675\" y=\"67.990831\" style=\"fill: #1f77b4; stroke: #1f77b4\"/>\n     <use xlink:href=\"#ma0cf5655ea\" x=\"134.640679\" y=\"91.595727\" style=\"fill: #1f77b4; stroke: #1f77b4\"/>\n     <use xlink:href=\"#ma0cf5655ea\" x=\"149.568934\" y=\"110.060333\" style=\"fill: #1f77b4; stroke: #1f77b4\"/>\n     <use xlink:href=\"#ma0cf5655ea\" x=\"76.660184\" y=\"76.800496\" style=\"fill: #1f77b4; stroke: #1f77b4\"/>\n     <use xlink:href=\"#ma0cf5655ea\" x=\"158.264528\" y=\"113.930969\" style=\"fill: #1f77b4; stroke: #1f77b4\"/>\n     <use xlink:href=\"#ma0cf5655ea\" x=\"177.045814\" y=\"109.532251\" style=\"fill: #1f77b4; stroke: #1f77b4\"/>\n     <use xlink:href=\"#ma0cf5655ea\" x=\"128.731363\" y=\"77.432943\" style=\"fill: #1f77b4; stroke: #1f77b4\"/>\n     <use xlink:href=\"#ma0cf5655ea\" x=\"164.027291\" y=\"108.744403\" style=\"fill: #1f77b4; stroke: #1f77b4\"/>\n     <use xlink:href=\"#ma0cf5655ea\" x=\"118.312162\" y=\"81.434658\" style=\"fill: #1f77b4; stroke: #1f77b4\"/>\n     <use xlink:href=\"#ma0cf5655ea\" x=\"160.256733\" y=\"98.535188\" style=\"fill: #1f77b4; stroke: #1f77b4\"/>\n     <use xlink:href=\"#ma0cf5655ea\" x=\"161.683455\" y=\"105.41857\" style=\"fill: #1f77b4; stroke: #1f77b4\"/>\n     <use xlink:href=\"#ma0cf5655ea\" x=\"106.892681\" y=\"82.080907\" style=\"fill: #1f77b4; stroke: #1f77b4\"/>\n     <use xlink:href=\"#ma0cf5655ea\" x=\"187.135246\" y=\"112.319004\" style=\"fill: #1f77b4; stroke: #1f77b4\"/>\n     <use xlink:href=\"#ma0cf5655ea\" x=\"157.90119\" y=\"94.137754\" style=\"fill: #1f77b4; stroke: #1f77b4\"/>\n     <use xlink:href=\"#ma0cf5655ea\" x=\"147.996715\" y=\"85.041059\" style=\"fill: #1f77b4; stroke: #1f77b4\"/>\n     <use xlink:href=\"#ma0cf5655ea\" x=\"119.249983\" y=\"89.773097\" style=\"fill: #1f77b4; stroke: #1f77b4\"/>\n     <use xlink:href=\"#ma0cf5655ea\" x=\"137.320458\" y=\"93.154672\" style=\"fill: #1f77b4; stroke: #1f77b4\"/>\n     <use xlink:href=\"#ma0cf5655ea\" x=\"60.473374\" y=\"61.997584\" style=\"fill: #1f77b4; stroke: #1f77b4\"/>\n     <use xlink:href=\"#ma0cf5655ea\" x=\"145.02346\" y=\"91.346186\" style=\"fill: #1f77b4; stroke: #1f77b4\"/>\n     <use xlink:href=\"#ma0cf5655ea\" x=\"43.555883\" y=\"59.928564\" style=\"fill: #1f77b4; stroke: #1f77b4\"/>\n     <use xlink:href=\"#ma0cf5655ea\" x=\"70.687238\" y=\"38.816553\" style=\"fill: #1f77b4; stroke: #1f77b4\"/>\n     <use xlink:href=\"#ma0cf5655ea\" x=\"111.477591\" y=\"80.860803\" style=\"fill: #1f77b4; stroke: #1f77b4\"/>\n     <use xlink:href=\"#ma0cf5655ea\" x=\"143.673978\" y=\"85.165457\" style=\"fill: #1f77b4; stroke: #1f77b4\"/>\n     <use xlink:href=\"#ma0cf5655ea\" x=\"111.733937\" y=\"90.518673\" style=\"fill: #1f77b4; stroke: #1f77b4\"/>\n     <use xlink:href=\"#ma0cf5655ea\" x=\"135.86038\" y=\"92.300877\" style=\"fill: #1f77b4; stroke: #1f77b4\"/>\n     <use xlink:href=\"#ma0cf5655ea\" x=\"146.494782\" y=\"98.140188\" style=\"fill: #1f77b4; stroke: #1f77b4\"/>\n     <use xlink:href=\"#ma0cf5655ea\" x=\"118.740401\" y=\"87.385849\" style=\"fill: #1f77b4; stroke: #1f77b4\"/>\n     <use xlink:href=\"#ma0cf5655ea\" x=\"90.094467\" y=\"82.257512\" style=\"fill: #1f77b4; stroke: #1f77b4\"/>\n     <use xlink:href=\"#ma0cf5655ea\" x=\"89.70556\" y=\"72.986295\" style=\"fill: #1f77b4; stroke: #1f77b4\"/>\n     <use xlink:href=\"#ma0cf5655ea\" x=\"134.125386\" y=\"86.868086\" style=\"fill: #1f77b4; stroke: #1f77b4\"/>\n     <use xlink:href=\"#ma0cf5655ea\" x=\"152.724468\" y=\"97.69735\" style=\"fill: #1f77b4; stroke: #1f77b4\"/>\n     <use xlink:href=\"#ma0cf5655ea\" x=\"95.488763\" y=\"80.237473\" style=\"fill: #1f77b4; stroke: #1f77b4\"/>\n     <use xlink:href=\"#ma0cf5655ea\" x=\"96.342707\" y=\"104.211187\" style=\"fill: #1f77b4; stroke: #1f77b4\"/>\n     <use xlink:href=\"#ma0cf5655ea\" x=\"123.581699\" y=\"79.407928\" style=\"fill: #1f77b4; stroke: #1f77b4\"/>\n     <use xlink:href=\"#ma0cf5655ea\" x=\"188.232711\" y=\"102.833506\" style=\"fill: #1f77b4; stroke: #1f77b4\"/>\n     <use xlink:href=\"#ma0cf5655ea\" x=\"136.174953\" y=\"78.456034\" style=\"fill: #1f77b4; stroke: #1f77b4\"/>\n     <use xlink:href=\"#ma0cf5655ea\" x=\"134.80074\" y=\"79.680629\" style=\"fill: #1f77b4; stroke: #1f77b4\"/>\n     <use xlink:href=\"#ma0cf5655ea\" x=\"146.854238\" y=\"97.607027\" style=\"fill: #1f77b4; stroke: #1f77b4\"/>\n     <use xlink:href=\"#ma0cf5655ea\" x=\"86.966416\" y=\"82.648489\" style=\"fill: #1f77b4; stroke: #1f77b4\"/>\n     <use xlink:href=\"#ma0cf5655ea\" x=\"112.910796\" y=\"82.504531\" style=\"fill: #1f77b4; stroke: #1f77b4\"/>\n     <use xlink:href=\"#ma0cf5655ea\" x=\"168.332722\" y=\"120.753478\" style=\"fill: #1f77b4; stroke: #1f77b4\"/>\n     <use xlink:href=\"#ma0cf5655ea\" x=\"108.70377\" y=\"67.372598\" style=\"fill: #1f77b4; stroke: #1f77b4\"/>\n     <use xlink:href=\"#ma0cf5655ea\" x=\"158.780611\" y=\"111.761933\" style=\"fill: #1f77b4; stroke: #1f77b4\"/>\n     <use xlink:href=\"#ma0cf5655ea\" x=\"150.377052\" y=\"99.436882\" style=\"fill: #1f77b4; stroke: #1f77b4\"/>\n     <use xlink:href=\"#ma0cf5655ea\" x=\"171.077999\" y=\"110.912466\" style=\"fill: #1f77b4; stroke: #1f77b4\"/>\n     <use xlink:href=\"#ma0cf5655ea\" x=\"114.117578\" y=\"66.328617\" style=\"fill: #1f77b4; stroke: #1f77b4\"/>\n     <use xlink:href=\"#ma0cf5655ea\" x=\"147.082638\" y=\"109.328619\" style=\"fill: #1f77b4; stroke: #1f77b4\"/>\n     <use xlink:href=\"#ma0cf5655ea\" x=\"126.791826\" y=\"95.930011\" style=\"fill: #1f77b4; stroke: #1f77b4\"/>\n     <use xlink:href=\"#ma0cf5655ea\" x=\"79.619133\" y=\"69.676384\" style=\"fill: #1f77b4; stroke: #1f77b4\"/>\n     <use xlink:href=\"#ma0cf5655ea\" x=\"144.295556\" y=\"86.157659\" style=\"fill: #1f77b4; stroke: #1f77b4\"/>\n     <use xlink:href=\"#ma0cf5655ea\" x=\"103.826701\" y=\"60.255916\" style=\"fill: #1f77b4; stroke: #1f77b4\"/>\n     <use xlink:href=\"#ma0cf5655ea\" x=\"159.486582\" y=\"98.111978\" style=\"fill: #1f77b4; stroke: #1f77b4\"/>\n     <use xlink:href=\"#ma0cf5655ea\" x=\"101.730644\" y=\"69.671037\" style=\"fill: #1f77b4; stroke: #1f77b4\"/>\n     <use xlink:href=\"#ma0cf5655ea\" x=\"139.945934\" y=\"96.460012\" style=\"fill: #1f77b4; stroke: #1f77b4\"/>\n     <use xlink:href=\"#ma0cf5655ea\" x=\"166.834137\" y=\"119.852939\" style=\"fill: #1f77b4; stroke: #1f77b4\"/>\n     <use xlink:href=\"#ma0cf5655ea\" x=\"140.043117\" y=\"89.193747\" style=\"fill: #1f77b4; stroke: #1f77b4\"/>\n     <use xlink:href=\"#ma0cf5655ea\" x=\"104.346714\" y=\"62.746331\" style=\"fill: #1f77b4; stroke: #1f77b4\"/>\n     <use xlink:href=\"#ma0cf5655ea\" x=\"103.165129\" y=\"69.959525\" style=\"fill: #1f77b4; stroke: #1f77b4\"/>\n     <use xlink:href=\"#ma0cf5655ea\" x=\"98.758277\" y=\"66.080981\" style=\"fill: #1f77b4; stroke: #1f77b4\"/>\n     <use xlink:href=\"#ma0cf5655ea\" x=\"52.497587\" y=\"67.398671\" style=\"fill: #1f77b4; stroke: #1f77b4\"/>\n     <use xlink:href=\"#ma0cf5655ea\" x=\"138.856825\" y=\"90.145883\" style=\"fill: #1f77b4; stroke: #1f77b4\"/>\n     <use xlink:href=\"#ma0cf5655ea\" x=\"143.51373\" y=\"82.762702\" style=\"fill: #1f77b4; stroke: #1f77b4\"/>\n     <use xlink:href=\"#ma0cf5655ea\" x=\"112.818238\" y=\"75.694213\" style=\"fill: #1f77b4; stroke: #1f77b4\"/>\n     <use xlink:href=\"#ma0cf5655ea\" x=\"100.903067\" y=\"64.571406\" style=\"fill: #1f77b4; stroke: #1f77b4\"/>\n     <use xlink:href=\"#ma0cf5655ea\" x=\"166.797254\" y=\"120.960624\" style=\"fill: #1f77b4; stroke: #1f77b4\"/>\n     <use xlink:href=\"#ma0cf5655ea\" x=\"140.380992\" y=\"96.458635\" style=\"fill: #1f77b4; stroke: #1f77b4\"/>\n     <use xlink:href=\"#ma0cf5655ea\" x=\"139.783251\" y=\"82.446605\" style=\"fill: #1f77b4; stroke: #1f77b4\"/>\n     <use xlink:href=\"#ma0cf5655ea\" x=\"174.640573\" y=\"121.712366\" style=\"fill: #1f77b4; stroke: #1f77b4\"/>\n     <use xlink:href=\"#ma0cf5655ea\" x=\"37.81946\" y=\"24.05464\" style=\"fill: #1f77b4; stroke: #1f77b4\"/>\n     <use xlink:href=\"#ma0cf5655ea\" x=\"49.255158\" y=\"43.5807\" style=\"fill: #1f77b4; stroke: #1f77b4\"/>\n     <use xlink:href=\"#ma0cf5655ea\" x=\"112.850637\" y=\"83.313367\" style=\"fill: #1f77b4; stroke: #1f77b4\"/>\n     <use xlink:href=\"#ma0cf5655ea\" x=\"163.149687\" y=\"112.063602\" style=\"fill: #1f77b4; stroke: #1f77b4\"/>\n     <use xlink:href=\"#ma0cf5655ea\" x=\"84.368716\" y=\"74.356383\" style=\"fill: #1f77b4; stroke: #1f77b4\"/>\n     <use xlink:href=\"#ma0cf5655ea\" x=\"147.103768\" y=\"111.079906\" style=\"fill: #1f77b4; stroke: #1f77b4\"/>\n     <use xlink:href=\"#ma0cf5655ea\" x=\"88.278466\" y=\"68.394684\" style=\"fill: #1f77b4; stroke: #1f77b4\"/>\n     <use xlink:href=\"#ma0cf5655ea\" x=\"138.573097\" y=\"80.044709\" style=\"fill: #1f77b4; stroke: #1f77b4\"/>\n     <use xlink:href=\"#ma0cf5655ea\" x=\"168.272242\" y=\"125.726008\" style=\"fill: #1f77b4; stroke: #1f77b4\"/>\n     <use xlink:href=\"#ma0cf5655ea\" x=\"143.951429\" y=\"97.190816\" style=\"fill: #1f77b4; stroke: #1f77b4\"/>\n     <use xlink:href=\"#ma0cf5655ea\" x=\"99.617844\" y=\"70.616399\" style=\"fill: #1f77b4; stroke: #1f77b4\"/>\n     <use xlink:href=\"#ma0cf5655ea\" x=\"64.197487\" y=\"61.468644\" style=\"fill: #1f77b4; stroke: #1f77b4\"/>\n     <use xlink:href=\"#ma0cf5655ea\" x=\"85.023203\" y=\"79.923923\" style=\"fill: #1f77b4; stroke: #1f77b4\"/>\n     <use xlink:href=\"#ma0cf5655ea\" x=\"95.798116\" y=\"44.336538\" style=\"fill: #1f77b4; stroke: #1f77b4\"/>\n     <use xlink:href=\"#ma0cf5655ea\" x=\"106.346872\" y=\"72.693882\" style=\"fill: #1f77b4; stroke: #1f77b4\"/>\n     <use xlink:href=\"#ma0cf5655ea\" x=\"169.319149\" y=\"112.123646\" style=\"fill: #1f77b4; stroke: #1f77b4\"/>\n     <use xlink:href=\"#ma0cf5655ea\" x=\"109.113943\" y=\"101.569078\" style=\"fill: #1f77b4; stroke: #1f77b4\"/>\n     <use xlink:href=\"#ma0cf5655ea\" x=\"119.979195\" y=\"85.902042\" style=\"fill: #1f77b4; stroke: #1f77b4\"/>\n     <use xlink:href=\"#ma0cf5655ea\" x=\"155.214667\" y=\"99.896317\" style=\"fill: #1f77b4; stroke: #1f77b4\"/>\n     <use xlink:href=\"#ma0cf5655ea\" x=\"139.856772\" y=\"99.561924\" style=\"fill: #1f77b4; stroke: #1f77b4\"/>\n     <use xlink:href=\"#ma0cf5655ea\" x=\"154.477834\" y=\"83.678825\" style=\"fill: #1f77b4; stroke: #1f77b4\"/>\n     <use xlink:href=\"#ma0cf5655ea\" x=\"105.853422\" y=\"73.154408\" style=\"fill: #1f77b4; stroke: #1f77b4\"/>\n     <use xlink:href=\"#ma0cf5655ea\" x=\"191.023002\" y=\"109.688016\" style=\"fill: #1f77b4; stroke: #1f77b4\"/>\n     <use xlink:href=\"#ma0cf5655ea\" x=\"56.341627\" y=\"58.731914\" style=\"fill: #1f77b4; stroke: #1f77b4\"/>\n     <use xlink:href=\"#ma0cf5655ea\" x=\"181.439792\" y=\"121.882123\" style=\"fill: #1f77b4; stroke: #1f77b4\"/>\n     <use xlink:href=\"#ma0cf5655ea\" x=\"80.682098\" y=\"60.479579\" style=\"fill: #1f77b4; stroke: #1f77b4\"/>\n     <use xlink:href=\"#ma0cf5655ea\" x=\"145.280006\" y=\"99.573246\" style=\"fill: #1f77b4; stroke: #1f77b4\"/>\n     <use xlink:href=\"#ma0cf5655ea\" x=\"135.494926\" y=\"81.793374\" style=\"fill: #1f77b4; stroke: #1f77b4\"/>\n     <use xlink:href=\"#ma0cf5655ea\" x=\"120.872584\" y=\"69.021915\" style=\"fill: #1f77b4; stroke: #1f77b4\"/>\n     <use xlink:href=\"#ma0cf5655ea\" x=\"125.917321\" y=\"73.159834\" style=\"fill: #1f77b4; stroke: #1f77b4\"/>\n     <use xlink:href=\"#ma0cf5655ea\" x=\"145.317786\" y=\"91.651647\" style=\"fill: #1f77b4; stroke: #1f77b4\"/>\n     <use xlink:href=\"#ma0cf5655ea\" x=\"101.181523\" y=\"88.495897\" style=\"fill: #1f77b4; stroke: #1f77b4\"/>\n     <use xlink:href=\"#ma0cf5655ea\" x=\"130.880171\" y=\"86.639652\" style=\"fill: #1f77b4; stroke: #1f77b4\"/>\n     <use xlink:href=\"#ma0cf5655ea\" x=\"111.402779\" y=\"79.032791\" style=\"fill: #1f77b4; stroke: #1f77b4\"/>\n     <use xlink:href=\"#ma0cf5655ea\" x=\"158.941863\" y=\"102.330393\" style=\"fill: #1f77b4; stroke: #1f77b4\"/>\n     <use xlink:href=\"#ma0cf5655ea\" x=\"135.32606\" y=\"80.680794\" style=\"fill: #1f77b4; stroke: #1f77b4\"/>\n     <use xlink:href=\"#ma0cf5655ea\" x=\"129.884028\" y=\"98.578632\" style=\"fill: #1f77b4; stroke: #1f77b4\"/>\n     <use xlink:href=\"#ma0cf5655ea\" x=\"144.325519\" y=\"89.133252\" style=\"fill: #1f77b4; stroke: #1f77b4\"/>\n     <use xlink:href=\"#ma0cf5655ea\" x=\"100.262758\" y=\"74.557967\" style=\"fill: #1f77b4; stroke: #1f77b4\"/>\n     <use xlink:href=\"#ma0cf5655ea\" x=\"98.84687\" y=\"80.910678\" style=\"fill: #1f77b4; stroke: #1f77b4\"/>\n     <use xlink:href=\"#ma0cf5655ea\" x=\"152.194071\" y=\"111.078486\" style=\"fill: #1f77b4; stroke: #1f77b4\"/>\n     <use xlink:href=\"#ma0cf5655ea\" x=\"157.875897\" y=\"108.470454\" style=\"fill: #1f77b4; stroke: #1f77b4\"/>\n     <use xlink:href=\"#ma0cf5655ea\" x=\"97.067431\" y=\"68.105574\" style=\"fill: #1f77b4; stroke: #1f77b4\"/>\n     <use xlink:href=\"#ma0cf5655ea\" x=\"127.911797\" y=\"77.478123\" style=\"fill: #1f77b4; stroke: #1f77b4\"/>\n     <use xlink:href=\"#ma0cf5655ea\" x=\"112.863821\" y=\"87.604999\" style=\"fill: #1f77b4; stroke: #1f77b4\"/>\n     <use xlink:href=\"#ma0cf5655ea\" x=\"94.404659\" y=\"69.288539\" style=\"fill: #1f77b4; stroke: #1f77b4\"/>\n     <use xlink:href=\"#ma0cf5655ea\" x=\"70.434139\" y=\"55.488142\" style=\"fill: #1f77b4; stroke: #1f77b4\"/>\n     <use xlink:href=\"#ma0cf5655ea\" x=\"79.26525\" y=\"49.060834\" style=\"fill: #1f77b4; stroke: #1f77b4\"/>\n     <use xlink:href=\"#ma0cf5655ea\" x=\"184.678773\" y=\"112.870827\" style=\"fill: #1f77b4; stroke: #1f77b4\"/>\n     <use xlink:href=\"#ma0cf5655ea\" x=\"101.908611\" y=\"88.197713\" style=\"fill: #1f77b4; stroke: #1f77b4\"/>\n     <use xlink:href=\"#ma0cf5655ea\" x=\"120.315182\" y=\"93.494262\" style=\"fill: #1f77b4; stroke: #1f77b4\"/>\n     <use xlink:href=\"#ma0cf5655ea\" x=\"128.735068\" y=\"86.297005\" style=\"fill: #1f77b4; stroke: #1f77b4\"/>\n     <use xlink:href=\"#ma0cf5655ea\" x=\"89.354229\" y=\"55.027543\" style=\"fill: #1f77b4; stroke: #1f77b4\"/>\n     <use xlink:href=\"#ma0cf5655ea\" x=\"165.684292\" y=\"127.781357\" style=\"fill: #1f77b4; stroke: #1f77b4\"/>\n     <use xlink:href=\"#ma0cf5655ea\" x=\"153.484445\" y=\"102.695336\" style=\"fill: #1f77b4; stroke: #1f77b4\"/>\n     <use xlink:href=\"#ma0cf5655ea\" x=\"94.671819\" y=\"77.224007\" style=\"fill: #1f77b4; stroke: #1f77b4\"/>\n     <use xlink:href=\"#ma0cf5655ea\" x=\"117.293838\" y=\"78.049242\" style=\"fill: #1f77b4; stroke: #1f77b4\"/>\n     <use xlink:href=\"#ma0cf5655ea\" x=\"101.661176\" y=\"57.478484\" style=\"fill: #1f77b4; stroke: #1f77b4\"/>\n     <use xlink:href=\"#ma0cf5655ea\" x=\"122.045352\" y=\"79.80036\" style=\"fill: #1f77b4; stroke: #1f77b4\"/>\n     <use xlink:href=\"#ma0cf5655ea\" x=\"164.970486\" y=\"104.217258\" style=\"fill: #1f77b4; stroke: #1f77b4\"/>\n     <use xlink:href=\"#ma0cf5655ea\" x=\"146.825528\" y=\"92.866572\" style=\"fill: #1f77b4; stroke: #1f77b4\"/>\n     <use xlink:href=\"#ma0cf5655ea\" x=\"115.887242\" y=\"84.229259\" style=\"fill: #1f77b4; stroke: #1f77b4\"/>\n     <use xlink:href=\"#ma0cf5655ea\" x=\"114.151445\" y=\"66.235881\" style=\"fill: #1f77b4; stroke: #1f77b4\"/>\n     <use xlink:href=\"#ma0cf5655ea\" x=\"149.579807\" y=\"95.034325\" style=\"fill: #1f77b4; stroke: #1f77b4\"/>\n     <use xlink:href=\"#ma0cf5655ea\" x=\"148.309126\" y=\"113.253944\" style=\"fill: #1f77b4; stroke: #1f77b4\"/>\n     <use xlink:href=\"#ma0cf5655ea\" x=\"120.771445\" y=\"73.134551\" style=\"fill: #1f77b4; stroke: #1f77b4\"/>\n     <use xlink:href=\"#ma0cf5655ea\" x=\"77.943446\" y=\"73.926359\" style=\"fill: #1f77b4; stroke: #1f77b4\"/>\n     <use xlink:href=\"#ma0cf5655ea\" x=\"125.732191\" y=\"80.595325\" style=\"fill: #1f77b4; stroke: #1f77b4\"/>\n     <use xlink:href=\"#ma0cf5655ea\" x=\"135.062255\" y=\"97.988202\" style=\"fill: #1f77b4; stroke: #1f77b4\"/>\n     <use xlink:href=\"#ma0cf5655ea\" x=\"99.544104\" y=\"73.151119\" style=\"fill: #1f77b4; stroke: #1f77b4\"/>\n     <use xlink:href=\"#ma0cf5655ea\" x=\"146.168644\" y=\"90.512269\" style=\"fill: #1f77b4; stroke: #1f77b4\"/>\n     <use xlink:href=\"#ma0cf5655ea\" x=\"135.727411\" y=\"81.802947\" style=\"fill: #1f77b4; stroke: #1f77b4\"/>\n     <use xlink:href=\"#ma0cf5655ea\" x=\"72.463471\" y=\"50.444228\" style=\"fill: #1f77b4; stroke: #1f77b4\"/>\n     <use xlink:href=\"#ma0cf5655ea\" x=\"116.872948\" y=\"72.383641\" style=\"fill: #1f77b4; stroke: #1f77b4\"/>\n     <use xlink:href=\"#ma0cf5655ea\" x=\"153.407785\" y=\"88.086366\" style=\"fill: #1f77b4; stroke: #1f77b4\"/>\n     <use xlink:href=\"#ma0cf5655ea\" x=\"98.574807\" y=\"60.215517\" style=\"fill: #1f77b4; stroke: #1f77b4\"/>\n     <use xlink:href=\"#ma0cf5655ea\" x=\"131.471542\" y=\"79.134246\" style=\"fill: #1f77b4; stroke: #1f77b4\"/>\n     <use xlink:href=\"#ma0cf5655ea\" x=\"81.510462\" y=\"71.86156\" style=\"fill: #1f77b4; stroke: #1f77b4\"/>\n     <use xlink:href=\"#ma0cf5655ea\" x=\"91.528563\" y=\"52.639638\" style=\"fill: #1f77b4; stroke: #1f77b4\"/>\n     <use xlink:href=\"#ma0cf5655ea\" x=\"125.732761\" y=\"92.899131\" style=\"fill: #1f77b4; stroke: #1f77b4\"/>\n     <use xlink:href=\"#ma0cf5655ea\" x=\"158.025537\" y=\"87.84086\" style=\"fill: #1f77b4; stroke: #1f77b4\"/>\n     <use xlink:href=\"#ma0cf5655ea\" x=\"111.743117\" y=\"91.02766\" style=\"fill: #1f77b4; stroke: #1f77b4\"/>\n     <use xlink:href=\"#ma0cf5655ea\" x=\"168.37176\" y=\"100.736995\" style=\"fill: #1f77b4; stroke: #1f77b4\"/>\n     <use xlink:href=\"#ma0cf5655ea\" x=\"86.0515\" y=\"71.275795\" style=\"fill: #1f77b4; stroke: #1f77b4\"/>\n     <use xlink:href=\"#ma0cf5655ea\" x=\"97.590382\" y=\"48.89313\" style=\"fill: #1f77b4; stroke: #1f77b4\"/>\n     <use xlink:href=\"#ma0cf5655ea\" x=\"100.133214\" y=\"85.568035\" style=\"fill: #1f77b4; stroke: #1f77b4\"/>\n     <use xlink:href=\"#ma0cf5655ea\" x=\"121.491868\" y=\"93.605211\" style=\"fill: #1f77b4; stroke: #1f77b4\"/>\n     <use xlink:href=\"#ma0cf5655ea\" x=\"86.065099\" y=\"61.757114\" style=\"fill: #1f77b4; stroke: #1f77b4\"/>\n     <use xlink:href=\"#ma0cf5655ea\" x=\"69.495482\" y=\"43.568258\" style=\"fill: #1f77b4; stroke: #1f77b4\"/>\n     <use xlink:href=\"#ma0cf5655ea\" x=\"71.545363\" y=\"62.820825\" style=\"fill: #1f77b4; stroke: #1f77b4\"/>\n     <use xlink:href=\"#ma0cf5655ea\" x=\"124.041581\" y=\"85.938842\" style=\"fill: #1f77b4; stroke: #1f77b4\"/>\n     <use xlink:href=\"#ma0cf5655ea\" x=\"181.432614\" y=\"97.330155\" style=\"fill: #1f77b4; stroke: #1f77b4\"/>\n     <use xlink:href=\"#ma0cf5655ea\" x=\"107.714272\" y=\"55.683495\" style=\"fill: #1f77b4; stroke: #1f77b4\"/>\n     <use xlink:href=\"#ma0cf5655ea\" x=\"128.643608\" y=\"83.071577\" style=\"fill: #1f77b4; stroke: #1f77b4\"/>\n     <use xlink:href=\"#ma0cf5655ea\" x=\"132.620153\" y=\"81.940203\" style=\"fill: #1f77b4; stroke: #1f77b4\"/>\n     <use xlink:href=\"#ma0cf5655ea\" x=\"72.415713\" y=\"64.295808\" style=\"fill: #1f77b4; stroke: #1f77b4\"/>\n     <use xlink:href=\"#ma0cf5655ea\" x=\"150.721297\" y=\"81.131543\" style=\"fill: #1f77b4; stroke: #1f77b4\"/>\n     <use xlink:href=\"#ma0cf5655ea\" x=\"172.779169\" y=\"111.698071\" style=\"fill: #1f77b4; stroke: #1f77b4\"/>\n     <use xlink:href=\"#ma0cf5655ea\" x=\"109.115484\" y=\"94.019194\" style=\"fill: #1f77b4; stroke: #1f77b4\"/>\n     <use xlink:href=\"#ma0cf5655ea\" x=\"124.402132\" y=\"88.48353\" style=\"fill: #1f77b4; stroke: #1f77b4\"/>\n     <use xlink:href=\"#ma0cf5655ea\" x=\"97.224343\" y=\"69.252293\" style=\"fill: #1f77b4; stroke: #1f77b4\"/>\n     <use xlink:href=\"#ma0cf5655ea\" x=\"115.423967\" y=\"60.904781\" style=\"fill: #1f77b4; stroke: #1f77b4\"/>\n     <use xlink:href=\"#ma0cf5655ea\" x=\"108.738685\" y=\"74.893762\" style=\"fill: #1f77b4; stroke: #1f77b4\"/>\n     <use xlink:href=\"#ma0cf5655ea\" x=\"105.802452\" y=\"58.289948\" style=\"fill: #1f77b4; stroke: #1f77b4\"/>\n     <use xlink:href=\"#ma0cf5655ea\" x=\"125.486444\" y=\"67.025323\" style=\"fill: #1f77b4; stroke: #1f77b4\"/>\n     <use xlink:href=\"#ma0cf5655ea\" x=\"110.265529\" y=\"81.559881\" style=\"fill: #1f77b4; stroke: #1f77b4\"/>\n     <use xlink:href=\"#ma0cf5655ea\" x=\"102.239378\" y=\"74.207263\" style=\"fill: #1f77b4; stroke: #1f77b4\"/>\n     <use xlink:href=\"#ma0cf5655ea\" x=\"93.116774\" y=\"76.757126\" style=\"fill: #1f77b4; stroke: #1f77b4\"/>\n     <use xlink:href=\"#ma0cf5655ea\" x=\"119.675463\" y=\"88.928367\" style=\"fill: #1f77b4; stroke: #1f77b4\"/>\n     <use xlink:href=\"#ma0cf5655ea\" x=\"131.340814\" y=\"98.439206\" style=\"fill: #1f77b4; stroke: #1f77b4\"/>\n     <use xlink:href=\"#ma0cf5655ea\" x=\"114.106027\" y=\"59.455968\" style=\"fill: #1f77b4; stroke: #1f77b4\"/>\n     <use xlink:href=\"#ma0cf5655ea\" x=\"89.067067\" y=\"61.889451\" style=\"fill: #1f77b4; stroke: #1f77b4\"/>\n     <use xlink:href=\"#ma0cf5655ea\" x=\"71.290574\" y=\"68.282042\" style=\"fill: #1f77b4; stroke: #1f77b4\"/>\n     <use xlink:href=\"#ma0cf5655ea\" x=\"148.931405\" y=\"97.279857\" style=\"fill: #1f77b4; stroke: #1f77b4\"/>\n     <use xlink:href=\"#ma0cf5655ea\" x=\"127.376038\" y=\"84.307598\" style=\"fill: #1f77b4; stroke: #1f77b4\"/>\n     <use xlink:href=\"#ma0cf5655ea\" x=\"105.667693\" y=\"70.133917\" style=\"fill: #1f77b4; stroke: #1f77b4\"/>\n     <use xlink:href=\"#ma0cf5655ea\" x=\"104.52952\" y=\"65.479744\" style=\"fill: #1f77b4; stroke: #1f77b4\"/>\n     <use xlink:href=\"#ma0cf5655ea\" x=\"112.571966\" y=\"66.983421\" style=\"fill: #1f77b4; stroke: #1f77b4\"/>\n     <use xlink:href=\"#ma0cf5655ea\" x=\"139.73999\" y=\"108.485193\" style=\"fill: #1f77b4; stroke: #1f77b4\"/>\n     <use xlink:href=\"#ma0cf5655ea\" x=\"131.440184\" y=\"93.42316\" style=\"fill: #1f77b4; stroke: #1f77b4\"/>\n     <use xlink:href=\"#ma0cf5655ea\" x=\"108.843854\" y=\"63.741769\" style=\"fill: #1f77b4; stroke: #1f77b4\"/>\n     <use xlink:href=\"#ma0cf5655ea\" x=\"113.643397\" y=\"84.062081\" style=\"fill: #1f77b4; stroke: #1f77b4\"/>\n     <use xlink:href=\"#ma0cf5655ea\" x=\"98.805598\" y=\"73.277957\" style=\"fill: #1f77b4; stroke: #1f77b4\"/>\n     <use xlink:href=\"#ma0cf5655ea\" x=\"150.967945\" y=\"97.350256\" style=\"fill: #1f77b4; stroke: #1f77b4\"/>\n     <use xlink:href=\"#ma0cf5655ea\" x=\"64.364687\" y=\"53.870637\" style=\"fill: #1f77b4; stroke: #1f77b4\"/>\n     <use xlink:href=\"#ma0cf5655ea\" x=\"116.603095\" y=\"81.007845\" style=\"fill: #1f77b4; stroke: #1f77b4\"/>\n     <use xlink:href=\"#ma0cf5655ea\" x=\"139.565375\" y=\"93.119239\" style=\"fill: #1f77b4; stroke: #1f77b4\"/>\n     <use xlink:href=\"#ma0cf5655ea\" x=\"151.714989\" y=\"86.909651\" style=\"fill: #1f77b4; stroke: #1f77b4\"/>\n     <use xlink:href=\"#ma0cf5655ea\" x=\"158.059884\" y=\"100.309746\" style=\"fill: #1f77b4; stroke: #1f77b4\"/>\n     <use xlink:href=\"#ma0cf5655ea\" x=\"193.59278\" y=\"126.318354\" style=\"fill: #1f77b4; stroke: #1f77b4\"/>\n     <use xlink:href=\"#ma0cf5655ea\" x=\"141.873687\" y=\"111.132677\" style=\"fill: #1f77b4; stroke: #1f77b4\"/>\n     <use xlink:href=\"#ma0cf5655ea\" x=\"146.255973\" y=\"104.433683\" style=\"fill: #1f77b4; stroke: #1f77b4\"/>\n     <use xlink:href=\"#ma0cf5655ea\" x=\"129.260772\" y=\"87.770953\" style=\"fill: #1f77b4; stroke: #1f77b4\"/>\n     <use xlink:href=\"#ma0cf5655ea\" x=\"86.387033\" y=\"42.752521\" style=\"fill: #1f77b4; stroke: #1f77b4\"/>\n     <use xlink:href=\"#ma0cf5655ea\" x=\"172.020862\" y=\"121.381779\" style=\"fill: #1f77b4; stroke: #1f77b4\"/>\n     <use xlink:href=\"#ma0cf5655ea\" x=\"164.473149\" y=\"124.319116\" style=\"fill: #1f77b4; stroke: #1f77b4\"/>\n     <use xlink:href=\"#ma0cf5655ea\" x=\"96.096241\" y=\"55.870308\" style=\"fill: #1f77b4; stroke: #1f77b4\"/>\n     <use xlink:href=\"#ma0cf5655ea\" x=\"66.695505\" y=\"35.782744\" style=\"fill: #1f77b4; stroke: #1f77b4\"/>\n     <use xlink:href=\"#ma0cf5655ea\" x=\"159.541442\" y=\"85.002588\" style=\"fill: #1f77b4; stroke: #1f77b4\"/>\n     <use xlink:href=\"#ma0cf5655ea\" x=\"130.525359\" y=\"81.450472\" style=\"fill: #1f77b4; stroke: #1f77b4\"/>\n     <use xlink:href=\"#ma0cf5655ea\" x=\"128.189988\" y=\"73.952285\" style=\"fill: #1f77b4; stroke: #1f77b4\"/>\n     <use xlink:href=\"#ma0cf5655ea\" x=\"138.740134\" y=\"81.52489\" style=\"fill: #1f77b4; stroke: #1f77b4\"/>\n     <use xlink:href=\"#ma0cf5655ea\" x=\"164.43758\" y=\"101.09754\" style=\"fill: #1f77b4; stroke: #1f77b4\"/>\n     <use xlink:href=\"#ma0cf5655ea\" x=\"157.773572\" y=\"98.703446\" style=\"fill: #1f77b4; stroke: #1f77b4\"/>\n     <use xlink:href=\"#ma0cf5655ea\" x=\"91.843009\" y=\"59.977934\" style=\"fill: #1f77b4; stroke: #1f77b4\"/>\n     <use xlink:href=\"#ma0cf5655ea\" x=\"153.732613\" y=\"84.017936\" style=\"fill: #1f77b4; stroke: #1f77b4\"/>\n     <use xlink:href=\"#ma0cf5655ea\" x=\"154.343978\" y=\"107.411741\" style=\"fill: #1f77b4; stroke: #1f77b4\"/>\n     <use xlink:href=\"#ma0cf5655ea\" x=\"107.456104\" y=\"68.867003\" style=\"fill: #1f77b4; stroke: #1f77b4\"/>\n     <use xlink:href=\"#ma0cf5655ea\" x=\"160.792195\" y=\"94.982541\" style=\"fill: #1f77b4; stroke: #1f77b4\"/>\n     <use xlink:href=\"#ma0cf5655ea\" x=\"118.704779\" y=\"86.651071\" style=\"fill: #1f77b4; stroke: #1f77b4\"/>\n     <use xlink:href=\"#ma0cf5655ea\" x=\"145.991478\" y=\"97.114767\" style=\"fill: #1f77b4; stroke: #1f77b4\"/>\n     <use xlink:href=\"#ma0cf5655ea\" x=\"129.362829\" y=\"63.419174\" style=\"fill: #1f77b4; stroke: #1f77b4\"/>\n     <use xlink:href=\"#ma0cf5655ea\" x=\"127.564471\" y=\"82.518705\" style=\"fill: #1f77b4; stroke: #1f77b4\"/>\n     <use xlink:href=\"#ma0cf5655ea\" x=\"164.901134\" y=\"109.663343\" style=\"fill: #1f77b4; stroke: #1f77b4\"/>\n     <use xlink:href=\"#ma0cf5655ea\" x=\"100.13017\" y=\"80.419831\" style=\"fill: #1f77b4; stroke: #1f77b4\"/>\n     <use xlink:href=\"#ma0cf5655ea\" x=\"120.728125\" y=\"86.695055\" style=\"fill: #1f77b4; stroke: #1f77b4\"/>\n     <use xlink:href=\"#ma0cf5655ea\" x=\"109.1005\" y=\"85.555987\" style=\"fill: #1f77b4; stroke: #1f77b4\"/>\n     <use xlink:href=\"#ma0cf5655ea\" x=\"152.140945\" y=\"85.878696\" style=\"fill: #1f77b4; stroke: #1f77b4\"/>\n     <use xlink:href=\"#ma0cf5655ea\" x=\"63.742953\" y=\"54.693148\" style=\"fill: #1f77b4; stroke: #1f77b4\"/>\n     <use xlink:href=\"#ma0cf5655ea\" x=\"172.308168\" y=\"96.089477\" style=\"fill: #1f77b4; stroke: #1f77b4\"/>\n     <use xlink:href=\"#ma0cf5655ea\" x=\"66.67041\" y=\"68.614115\" style=\"fill: #1f77b4; stroke: #1f77b4\"/>\n     <use xlink:href=\"#ma0cf5655ea\" x=\"70.349325\" y=\"76.531949\" style=\"fill: #1f77b4; stroke: #1f77b4\"/>\n     <use xlink:href=\"#ma0cf5655ea\" x=\"76.52178\" y=\"70.143549\" style=\"fill: #1f77b4; stroke: #1f77b4\"/>\n     <use xlink:href=\"#ma0cf5655ea\" x=\"96.171898\" y=\"37.168359\" style=\"fill: #1f77b4; stroke: #1f77b4\"/>\n     <use xlink:href=\"#ma0cf5655ea\" x=\"144.747672\" y=\"81.391476\" style=\"fill: #1f77b4; stroke: #1f77b4\"/>\n     <use xlink:href=\"#ma0cf5655ea\" x=\"101.376335\" y=\"75.88001\" style=\"fill: #1f77b4; stroke: #1f77b4\"/>\n     <use xlink:href=\"#ma0cf5655ea\" x=\"117.548821\" y=\"78.251991\" style=\"fill: #1f77b4; stroke: #1f77b4\"/>\n     <use xlink:href=\"#ma0cf5655ea\" x=\"81.040755\" y=\"65.54477\" style=\"fill: #1f77b4; stroke: #1f77b4\"/>\n     <use xlink:href=\"#ma0cf5655ea\" x=\"180.71677\" y=\"103.988255\" style=\"fill: #1f77b4; stroke: #1f77b4\"/>\n     <use xlink:href=\"#ma0cf5655ea\" x=\"92.427827\" y=\"58.873037\" style=\"fill: #1f77b4; stroke: #1f77b4\"/>\n     <use xlink:href=\"#ma0cf5655ea\" x=\"115.825401\" y=\"53.455933\" style=\"fill: #1f77b4; stroke: #1f77b4\"/>\n     <use xlink:href=\"#ma0cf5655ea\" x=\"101.00136\" y=\"70.068035\" style=\"fill: #1f77b4; stroke: #1f77b4\"/>\n     <use xlink:href=\"#ma0cf5655ea\" x=\"105.392127\" y=\"87.898311\" style=\"fill: #1f77b4; stroke: #1f77b4\"/>\n     <use xlink:href=\"#ma0cf5655ea\" x=\"123.763377\" y=\"76.51193\" style=\"fill: #1f77b4; stroke: #1f77b4\"/>\n     <use xlink:href=\"#ma0cf5655ea\" x=\"134.591477\" y=\"96.121407\" style=\"fill: #1f77b4; stroke: #1f77b4\"/>\n     <use xlink:href=\"#ma0cf5655ea\" x=\"132.220858\" y=\"74.955368\" style=\"fill: #1f77b4; stroke: #1f77b4\"/>\n     <use xlink:href=\"#ma0cf5655ea\" x=\"126.889004\" y=\"96.767567\" style=\"fill: #1f77b4; stroke: #1f77b4\"/>\n     <use xlink:href=\"#ma0cf5655ea\" x=\"145.375004\" y=\"100.015195\" style=\"fill: #1f77b4; stroke: #1f77b4\"/>\n     <use xlink:href=\"#ma0cf5655ea\" x=\"101.560146\" y=\"72.751716\" style=\"fill: #1f77b4; stroke: #1f77b4\"/>\n     <use xlink:href=\"#ma0cf5655ea\" x=\"79.674962\" y=\"85.160501\" style=\"fill: #1f77b4; stroke: #1f77b4\"/>\n     <use xlink:href=\"#ma0cf5655ea\" x=\"183.115915\" y=\"122.004781\" style=\"fill: #1f77b4; stroke: #1f77b4\"/>\n     <use xlink:href=\"#ma0cf5655ea\" x=\"98.971831\" y=\"74.603764\" style=\"fill: #1f77b4; stroke: #1f77b4\"/>\n     <use xlink:href=\"#ma0cf5655ea\" x=\"122.441775\" y=\"89.46897\" style=\"fill: #1f77b4; stroke: #1f77b4\"/>\n     <use xlink:href=\"#ma0cf5655ea\" x=\"150.679339\" y=\"92.315775\" style=\"fill: #1f77b4; stroke: #1f77b4\"/>\n     <use xlink:href=\"#ma0cf5655ea\" x=\"127.940123\" y=\"109.877556\" style=\"fill: #1f77b4; stroke: #1f77b4\"/>\n     <use xlink:href=\"#ma0cf5655ea\" x=\"156.843164\" y=\"89.875452\" style=\"fill: #1f77b4; stroke: #1f77b4\"/>\n     <use xlink:href=\"#ma0cf5655ea\" x=\"186.892213\" y=\"118.05135\" style=\"fill: #1f77b4; stroke: #1f77b4\"/>\n     <use xlink:href=\"#ma0cf5655ea\" x=\"77.529605\" y=\"75.061938\" style=\"fill: #1f77b4; stroke: #1f77b4\"/>\n     <use xlink:href=\"#ma0cf5655ea\" x=\"80.116314\" y=\"52.527814\" style=\"fill: #1f77b4; stroke: #1f77b4\"/>\n     <use xlink:href=\"#ma0cf5655ea\" x=\"43.189255\" y=\"46.115659\" style=\"fill: #1f77b4; stroke: #1f77b4\"/>\n     <use xlink:href=\"#ma0cf5655ea\" x=\"178.748374\" y=\"100.412761\" style=\"fill: #1f77b4; stroke: #1f77b4\"/>\n     <use xlink:href=\"#ma0cf5655ea\" x=\"196.597536\" y=\"121.40952\" style=\"fill: #1f77b4; stroke: #1f77b4\"/>\n     <use xlink:href=\"#ma0cf5655ea\" x=\"151.943261\" y=\"111.269839\" style=\"fill: #1f77b4; stroke: #1f77b4\"/>\n     <use xlink:href=\"#ma0cf5655ea\" x=\"131.59846\" y=\"89.366263\" style=\"fill: #1f77b4; stroke: #1f77b4\"/>\n     <use xlink:href=\"#ma0cf5655ea\" x=\"159.76681\" y=\"93.82484\" style=\"fill: #1f77b4; stroke: #1f77b4\"/>\n     <use xlink:href=\"#ma0cf5655ea\" x=\"116.513008\" y=\"92.152572\" style=\"fill: #1f77b4; stroke: #1f77b4\"/>\n     <use xlink:href=\"#ma0cf5655ea\" x=\"101.149563\" y=\"71.772151\" style=\"fill: #1f77b4; stroke: #1f77b4\"/>\n     <use xlink:href=\"#ma0cf5655ea\" x=\"141.312082\" y=\"95.213234\" style=\"fill: #1f77b4; stroke: #1f77b4\"/>\n     <use xlink:href=\"#ma0cf5655ea\" x=\"172.653194\" y=\"135.393724\" style=\"fill: #1f77b4; stroke: #1f77b4\"/>\n     <use xlink:href=\"#ma0cf5655ea\" x=\"103.763288\" y=\"74.20438\" style=\"fill: #1f77b4; stroke: #1f77b4\"/>\n     <use xlink:href=\"#ma0cf5655ea\" x=\"114.003855\" y=\"88.290228\" style=\"fill: #1f77b4; stroke: #1f77b4\"/>\n     <use xlink:href=\"#ma0cf5655ea\" x=\"130.232675\" y=\"81.600125\" style=\"fill: #1f77b4; stroke: #1f77b4\"/>\n     <use xlink:href=\"#ma0cf5655ea\" x=\"183.359416\" y=\"99.333214\" style=\"fill: #1f77b4; stroke: #1f77b4\"/>\n     <use xlink:href=\"#ma0cf5655ea\" x=\"132.844251\" y=\"82.028967\" style=\"fill: #1f77b4; stroke: #1f77b4\"/>\n     <use xlink:href=\"#ma0cf5655ea\" x=\"90.871352\" y=\"54.329435\" style=\"fill: #1f77b4; stroke: #1f77b4\"/>\n     <use xlink:href=\"#ma0cf5655ea\" x=\"123.261477\" y=\"78.501066\" style=\"fill: #1f77b4; stroke: #1f77b4\"/>\n     <use xlink:href=\"#ma0cf5655ea\" x=\"81.626751\" y=\"51.106376\" style=\"fill: #1f77b4; stroke: #1f77b4\"/>\n     <use xlink:href=\"#ma0cf5655ea\" x=\"144.4153\" y=\"82.544837\" style=\"fill: #1f77b4; stroke: #1f77b4\"/>\n     <use xlink:href=\"#ma0cf5655ea\" x=\"135.671915\" y=\"89.964833\" style=\"fill: #1f77b4; stroke: #1f77b4\"/>\n     <use xlink:href=\"#ma0cf5655ea\" x=\"81.8466\" y=\"58.939562\" style=\"fill: #1f77b4; stroke: #1f77b4\"/>\n     <use xlink:href=\"#ma0cf5655ea\" x=\"135.460257\" y=\"88.318063\" style=\"fill: #1f77b4; stroke: #1f77b4\"/>\n     <use xlink:href=\"#ma0cf5655ea\" x=\"146.85992\" y=\"88.834192\" style=\"fill: #1f77b4; stroke: #1f77b4\"/>\n     <use xlink:href=\"#ma0cf5655ea\" x=\"112.771551\" y=\"80.325\" style=\"fill: #1f77b4; stroke: #1f77b4\"/>\n     <use xlink:href=\"#ma0cf5655ea\" x=\"117.028775\" y=\"86.76967\" style=\"fill: #1f77b4; stroke: #1f77b4\"/>\n     <use xlink:href=\"#ma0cf5655ea\" x=\"139.337959\" y=\"96.524177\" style=\"fill: #1f77b4; stroke: #1f77b4\"/>\n     <use xlink:href=\"#ma0cf5655ea\" x=\"160.797955\" y=\"118.149203\" style=\"fill: #1f77b4; stroke: #1f77b4\"/>\n     <use xlink:href=\"#ma0cf5655ea\" x=\"76.399803\" y=\"54.177231\" style=\"fill: #1f77b4; stroke: #1f77b4\"/>\n     <use xlink:href=\"#ma0cf5655ea\" x=\"179.908422\" y=\"107.716247\" style=\"fill: #1f77b4; stroke: #1f77b4\"/>\n     <use xlink:href=\"#ma0cf5655ea\" x=\"143.733396\" y=\"76.496297\" style=\"fill: #1f77b4; stroke: #1f77b4\"/>\n     <use xlink:href=\"#ma0cf5655ea\" x=\"188.213011\" y=\"127.274446\" style=\"fill: #1f77b4; stroke: #1f77b4\"/>\n     <use xlink:href=\"#ma0cf5655ea\" x=\"136.505307\" y=\"84.367851\" style=\"fill: #1f77b4; stroke: #1f77b4\"/>\n     <use xlink:href=\"#ma0cf5655ea\" x=\"132.585703\" y=\"77.021915\" style=\"fill: #1f77b4; stroke: #1f77b4\"/>\n     <use xlink:href=\"#ma0cf5655ea\" x=\"128.806607\" y=\"83.356729\" style=\"fill: #1f77b4; stroke: #1f77b4\"/>\n     <use xlink:href=\"#ma0cf5655ea\" x=\"133.433425\" y=\"109.249164\" style=\"fill: #1f77b4; stroke: #1f77b4\"/>\n     <use xlink:href=\"#ma0cf5655ea\" x=\"142.877975\" y=\"95.230282\" style=\"fill: #1f77b4; stroke: #1f77b4\"/>\n     <use xlink:href=\"#ma0cf5655ea\" x=\"92.072098\" y=\"53.119355\" style=\"fill: #1f77b4; stroke: #1f77b4\"/>\n     <use xlink:href=\"#ma0cf5655ea\" x=\"135.993868\" y=\"95.02907\" style=\"fill: #1f77b4; stroke: #1f77b4\"/>\n     <use xlink:href=\"#ma0cf5655ea\" x=\"181.093176\" y=\"120.51696\" style=\"fill: #1f77b4; stroke: #1f77b4\"/>\n     <use xlink:href=\"#ma0cf5655ea\" x=\"67.053209\" y=\"65.931888\" style=\"fill: #1f77b4; stroke: #1f77b4\"/>\n     <use xlink:href=\"#ma0cf5655ea\" x=\"83.643887\" y=\"64.661871\" style=\"fill: #1f77b4; stroke: #1f77b4\"/>\n     <use xlink:href=\"#ma0cf5655ea\" x=\"178.390858\" y=\"119.583595\" style=\"fill: #1f77b4; stroke: #1f77b4\"/>\n     <use xlink:href=\"#ma0cf5655ea\" x=\"116.626289\" y=\"93.972122\" style=\"fill: #1f77b4; stroke: #1f77b4\"/>\n     <use xlink:href=\"#ma0cf5655ea\" x=\"148.022974\" y=\"87.817572\" style=\"fill: #1f77b4; stroke: #1f77b4\"/>\n     <use xlink:href=\"#ma0cf5655ea\" x=\"145.503426\" y=\"97.981474\" style=\"fill: #1f77b4; stroke: #1f77b4\"/>\n     <use xlink:href=\"#ma0cf5655ea\" x=\"89.057025\" y=\"68.645572\" style=\"fill: #1f77b4; stroke: #1f77b4\"/>\n     <use xlink:href=\"#ma0cf5655ea\" x=\"110.183394\" y=\"89.111512\" style=\"fill: #1f77b4; stroke: #1f77b4\"/>\n     <use xlink:href=\"#ma0cf5655ea\" x=\"99.944469\" y=\"67.025343\" style=\"fill: #1f77b4; stroke: #1f77b4\"/>\n     <use xlink:href=\"#ma0cf5655ea\" x=\"122.386527\" y=\"105.532292\" style=\"fill: #1f77b4; stroke: #1f77b4\"/>\n     <use xlink:href=\"#ma0cf5655ea\" x=\"84.145887\" y=\"60.452488\" style=\"fill: #1f77b4; stroke: #1f77b4\"/>\n     <use xlink:href=\"#ma0cf5655ea\" x=\"143.680836\" y=\"86.308777\" style=\"fill: #1f77b4; stroke: #1f77b4\"/>\n     <use xlink:href=\"#ma0cf5655ea\" x=\"95.832602\" y=\"80.241041\" style=\"fill: #1f77b4; stroke: #1f77b4\"/>\n     <use xlink:href=\"#ma0cf5655ea\" x=\"78.795071\" y=\"75.949272\" style=\"fill: #1f77b4; stroke: #1f77b4\"/>\n     <use xlink:href=\"#ma0cf5655ea\" x=\"128.622352\" y=\"87.278135\" style=\"fill: #1f77b4; stroke: #1f77b4\"/>\n     <use xlink:href=\"#ma0cf5655ea\" x=\"61.770467\" y=\"44.649966\" style=\"fill: #1f77b4; stroke: #1f77b4\"/>\n     <use xlink:href=\"#ma0cf5655ea\" x=\"125.453638\" y=\"59.681995\" style=\"fill: #1f77b4; stroke: #1f77b4\"/>\n     <use xlink:href=\"#ma0cf5655ea\" x=\"160.830524\" y=\"103.766047\" style=\"fill: #1f77b4; stroke: #1f77b4\"/>\n     <use xlink:href=\"#ma0cf5655ea\" x=\"72.05138\" y=\"58.073921\" style=\"fill: #1f77b4; stroke: #1f77b4\"/>\n     <use xlink:href=\"#ma0cf5655ea\" x=\"172.42368\" y=\"101.649841\" style=\"fill: #1f77b4; stroke: #1f77b4\"/>\n     <use xlink:href=\"#ma0cf5655ea\" x=\"118.59337\" y=\"78.6778\" style=\"fill: #1f77b4; stroke: #1f77b4\"/>\n     <use xlink:href=\"#ma0cf5655ea\" x=\"99.581584\" y=\"43.117492\" style=\"fill: #1f77b4; stroke: #1f77b4\"/>\n     <use xlink:href=\"#ma0cf5655ea\" x=\"196.074347\" y=\"128.345636\" style=\"fill: #1f77b4; stroke: #1f77b4\"/>\n     <use xlink:href=\"#ma0cf5655ea\" x=\"139.307429\" y=\"93.553373\" style=\"fill: #1f77b4; stroke: #1f77b4\"/>\n     <use xlink:href=\"#ma0cf5655ea\" x=\"144.147032\" y=\"68.403562\" style=\"fill: #1f77b4; stroke: #1f77b4\"/>\n     <use xlink:href=\"#ma0cf5655ea\" x=\"132.863642\" y=\"79.026448\" style=\"fill: #1f77b4; stroke: #1f77b4\"/>\n     <use xlink:href=\"#ma0cf5655ea\" x=\"182.010607\" y=\"106.701285\" style=\"fill: #1f77b4; stroke: #1f77b4\"/>\n     <use xlink:href=\"#ma0cf5655ea\" x=\"116.274451\" y=\"69.186582\" style=\"fill: #1f77b4; stroke: #1f77b4\"/>\n     <use xlink:href=\"#ma0cf5655ea\" x=\"123.249786\" y=\"91.32449\" style=\"fill: #1f77b4; stroke: #1f77b4\"/>\n     <use xlink:href=\"#ma0cf5655ea\" x=\"130.912113\" y=\"89.983679\" style=\"fill: #1f77b4; stroke: #1f77b4\"/>\n     <use xlink:href=\"#ma0cf5655ea\" x=\"74.631548\" y=\"67.399598\" style=\"fill: #1f77b4; stroke: #1f77b4\"/>\n     <use xlink:href=\"#ma0cf5655ea\" x=\"155.591728\" y=\"87.645337\" style=\"fill: #1f77b4; stroke: #1f77b4\"/>\n     <use xlink:href=\"#ma0cf5655ea\" x=\"122.24754\" y=\"71.835458\" style=\"fill: #1f77b4; stroke: #1f77b4\"/>\n     <use xlink:href=\"#ma0cf5655ea\" x=\"130.959053\" y=\"90.934135\" style=\"fill: #1f77b4; stroke: #1f77b4\"/>\n     <use xlink:href=\"#ma0cf5655ea\" x=\"74.997423\" y=\"71.987845\" style=\"fill: #1f77b4; stroke: #1f77b4\"/>\n     <use xlink:href=\"#ma0cf5655ea\" x=\"79.089511\" y=\"46.447407\" style=\"fill: #1f77b4; stroke: #1f77b4\"/>\n     <use xlink:href=\"#ma0cf5655ea\" x=\"84.207544\" y=\"54.813151\" style=\"fill: #1f77b4; stroke: #1f77b4\"/>\n     <use xlink:href=\"#ma0cf5655ea\" x=\"159.192879\" y=\"98.518222\" style=\"fill: #1f77b4; stroke: #1f77b4\"/>\n     <use xlink:href=\"#ma0cf5655ea\" x=\"86.156157\" y=\"63.542882\" style=\"fill: #1f77b4; stroke: #1f77b4\"/>\n     <use xlink:href=\"#ma0cf5655ea\" x=\"137.836434\" y=\"98.067013\" style=\"fill: #1f77b4; stroke: #1f77b4\"/>\n     <use xlink:href=\"#ma0cf5655ea\" x=\"116.254762\" y=\"88.443353\" style=\"fill: #1f77b4; stroke: #1f77b4\"/>\n     <use xlink:href=\"#ma0cf5655ea\" x=\"168.74674\" y=\"125.315379\" style=\"fill: #1f77b4; stroke: #1f77b4\"/>\n     <use xlink:href=\"#ma0cf5655ea\" x=\"134.419497\" y=\"90.997902\" style=\"fill: #1f77b4; stroke: #1f77b4\"/>\n     <use xlink:href=\"#ma0cf5655ea\" x=\"113.891347\" y=\"72.221275\" style=\"fill: #1f77b4; stroke: #1f77b4\"/>\n     <use xlink:href=\"#ma0cf5655ea\" x=\"156.051379\" y=\"89.787977\" style=\"fill: #1f77b4; stroke: #1f77b4\"/>\n     <use xlink:href=\"#ma0cf5655ea\" x=\"112.180597\" y=\"73.998641\" style=\"fill: #1f77b4; stroke: #1f77b4\"/>\n     <use xlink:href=\"#ma0cf5655ea\" x=\"82.467721\" y=\"64.694243\" style=\"fill: #1f77b4; stroke: #1f77b4\"/>\n     <use xlink:href=\"#ma0cf5655ea\" x=\"113.439134\" y=\"69.749557\" style=\"fill: #1f77b4; stroke: #1f77b4\"/>\n     <use xlink:href=\"#ma0cf5655ea\" x=\"128.68828\" y=\"97.227681\" style=\"fill: #1f77b4; stroke: #1f77b4\"/>\n     <use xlink:href=\"#ma0cf5655ea\" x=\"94.460242\" y=\"75.261887\" style=\"fill: #1f77b4; stroke: #1f77b4\"/>\n     <use xlink:href=\"#ma0cf5655ea\" x=\"112.82086\" y=\"88.55851\" style=\"fill: #1f77b4; stroke: #1f77b4\"/>\n     <use xlink:href=\"#ma0cf5655ea\" x=\"181.50898\" y=\"113.84214\" style=\"fill: #1f77b4; stroke: #1f77b4\"/>\n     <use xlink:href=\"#ma0cf5655ea\" x=\"161.377951\" y=\"109.38664\" style=\"fill: #1f77b4; stroke: #1f77b4\"/>\n     <use xlink:href=\"#ma0cf5655ea\" x=\"141.026451\" y=\"79.261601\" style=\"fill: #1f77b4; stroke: #1f77b4\"/>\n     <use xlink:href=\"#ma0cf5655ea\" x=\"189.576073\" y=\"124.291286\" style=\"fill: #1f77b4; stroke: #1f77b4\"/>\n     <use xlink:href=\"#ma0cf5655ea\" x=\"120.358265\" y=\"80.04652\" style=\"fill: #1f77b4; stroke: #1f77b4\"/>\n     <use xlink:href=\"#ma0cf5655ea\" x=\"101.708984\" y=\"64.532128\" style=\"fill: #1f77b4; stroke: #1f77b4\"/>\n     <use xlink:href=\"#ma0cf5655ea\" x=\"103.543072\" y=\"68.040145\" style=\"fill: #1f77b4; stroke: #1f77b4\"/>\n     <use xlink:href=\"#ma0cf5655ea\" x=\"65.07536\" y=\"43.292753\" style=\"fill: #1f77b4; stroke: #1f77b4\"/>\n     <use xlink:href=\"#ma0cf5655ea\" x=\"144.050584\" y=\"93.985442\" style=\"fill: #1f77b4; stroke: #1f77b4\"/>\n     <use xlink:href=\"#ma0cf5655ea\" x=\"184.824515\" y=\"107.521277\" style=\"fill: #1f77b4; stroke: #1f77b4\"/>\n     <use xlink:href=\"#ma0cf5655ea\" x=\"140.085555\" y=\"76.037783\" style=\"fill: #1f77b4; stroke: #1f77b4\"/>\n     <use xlink:href=\"#ma0cf5655ea\" x=\"101.720775\" y=\"72.897311\" style=\"fill: #1f77b4; stroke: #1f77b4\"/>\n     <use xlink:href=\"#ma0cf5655ea\" x=\"132.664847\" y=\"98.295798\" style=\"fill: #1f77b4; stroke: #1f77b4\"/>\n     <use xlink:href=\"#ma0cf5655ea\" x=\"115.702275\" y=\"102.284956\" style=\"fill: #1f77b4; stroke: #1f77b4\"/>\n     <use xlink:href=\"#ma0cf5655ea\" x=\"138.377227\" y=\"93.692725\" style=\"fill: #1f77b4; stroke: #1f77b4\"/>\n     <use xlink:href=\"#ma0cf5655ea\" x=\"113.36088\" y=\"63.903976\" style=\"fill: #1f77b4; stroke: #1f77b4\"/>\n     <use xlink:href=\"#ma0cf5655ea\" x=\"61.964801\" y=\"41.285496\" style=\"fill: #1f77b4; stroke: #1f77b4\"/>\n     <use xlink:href=\"#ma0cf5655ea\" x=\"130.569402\" y=\"81.033862\" style=\"fill: #1f77b4; stroke: #1f77b4\"/>\n     <use xlink:href=\"#ma0cf5655ea\" x=\"144.6769\" y=\"86.104475\" style=\"fill: #1f77b4; stroke: #1f77b4\"/>\n     <use xlink:href=\"#ma0cf5655ea\" x=\"89.694393\" y=\"67.810815\" style=\"fill: #1f77b4; stroke: #1f77b4\"/>\n     <use xlink:href=\"#ma0cf5655ea\" x=\"106.172399\" y=\"83.768484\" style=\"fill: #1f77b4; stroke: #1f77b4\"/>\n     <use xlink:href=\"#ma0cf5655ea\" x=\"128.619138\" y=\"78.107173\" style=\"fill: #1f77b4; stroke: #1f77b4\"/>\n     <use xlink:href=\"#ma0cf5655ea\" x=\"137.448691\" y=\"98.343021\" style=\"fill: #1f77b4; stroke: #1f77b4\"/>\n     <use xlink:href=\"#ma0cf5655ea\" x=\"142.235761\" y=\"98.244905\" style=\"fill: #1f77b4; stroke: #1f77b4\"/>\n     <use xlink:href=\"#ma0cf5655ea\" x=\"100.400847\" y=\"63.18071\" style=\"fill: #1f77b4; stroke: #1f77b4\"/>\n     <use xlink:href=\"#ma0cf5655ea\" x=\"97.040602\" y=\"58.159193\" style=\"fill: #1f77b4; stroke: #1f77b4\"/>\n     <use xlink:href=\"#ma0cf5655ea\" x=\"114.820993\" y=\"56.228764\" style=\"fill: #1f77b4; stroke: #1f77b4\"/>\n     <use xlink:href=\"#ma0cf5655ea\" x=\"97.129906\" y=\"58.254645\" style=\"fill: #1f77b4; stroke: #1f77b4\"/>\n     <use xlink:href=\"#ma0cf5655ea\" x=\"127.615616\" y=\"71.720047\" style=\"fill: #1f77b4; stroke: #1f77b4\"/>\n     <use xlink:href=\"#ma0cf5655ea\" x=\"118.018954\" y=\"58.88378\" style=\"fill: #1f77b4; stroke: #1f77b4\"/>\n     <use xlink:href=\"#ma0cf5655ea\" x=\"161.91685\" y=\"92.196859\" style=\"fill: #1f77b4; stroke: #1f77b4\"/>\n     <use xlink:href=\"#ma0cf5655ea\" x=\"188.6986\" y=\"122.546051\" style=\"fill: #1f77b4; stroke: #1f77b4\"/>\n     <use xlink:href=\"#ma0cf5655ea\" x=\"137.663739\" y=\"96.484516\" style=\"fill: #1f77b4; stroke: #1f77b4\"/>\n     <use xlink:href=\"#ma0cf5655ea\" x=\"104.519694\" y=\"77.4979\" style=\"fill: #1f77b4; stroke: #1f77b4\"/>\n     <use xlink:href=\"#ma0cf5655ea\" x=\"172.600838\" y=\"124.435188\" style=\"fill: #1f77b4; stroke: #1f77b4\"/>\n     <use xlink:href=\"#ma0cf5655ea\" x=\"71.680642\" y=\"42.282353\" style=\"fill: #1f77b4; stroke: #1f77b4\"/>\n     <use xlink:href=\"#ma0cf5655ea\" x=\"110.038182\" y=\"84.203649\" style=\"fill: #1f77b4; stroke: #1f77b4\"/>\n     <use xlink:href=\"#ma0cf5655ea\" x=\"122.03792\" y=\"84.67994\" style=\"fill: #1f77b4; stroke: #1f77b4\"/>\n     <use xlink:href=\"#ma0cf5655ea\" x=\"124.47885\" y=\"81.227012\" style=\"fill: #1f77b4; stroke: #1f77b4\"/>\n     <use xlink:href=\"#ma0cf5655ea\" x=\"187.834775\" y=\"125.839452\" style=\"fill: #1f77b4; stroke: #1f77b4\"/>\n     <use xlink:href=\"#ma0cf5655ea\" x=\"128.323876\" y=\"84.942232\" style=\"fill: #1f77b4; stroke: #1f77b4\"/>\n     <use xlink:href=\"#ma0cf5655ea\" x=\"120.787648\" y=\"77.127227\" style=\"fill: #1f77b4; stroke: #1f77b4\"/>\n     <use xlink:href=\"#ma0cf5655ea\" x=\"155.389131\" y=\"87.543733\" style=\"fill: #1f77b4; stroke: #1f77b4\"/>\n     <use xlink:href=\"#ma0cf5655ea\" x=\"162.064222\" y=\"97.504945\" style=\"fill: #1f77b4; stroke: #1f77b4\"/>\n     <use xlink:href=\"#ma0cf5655ea\" x=\"122.429897\" y=\"82.410662\" style=\"fill: #1f77b4; stroke: #1f77b4\"/>\n     <use xlink:href=\"#ma0cf5655ea\" x=\"142.592027\" y=\"91.901823\" style=\"fill: #1f77b4; stroke: #1f77b4\"/>\n     <use xlink:href=\"#ma0cf5655ea\" x=\"98.335533\" y=\"54.58199\" style=\"fill: #1f77b4; stroke: #1f77b4\"/>\n     <use xlink:href=\"#ma0cf5655ea\" x=\"140.256544\" y=\"71.410486\" style=\"fill: #1f77b4; stroke: #1f77b4\"/>\n     <use xlink:href=\"#ma0cf5655ea\" x=\"94.845003\" y=\"68.478616\" style=\"fill: #1f77b4; stroke: #1f77b4\"/>\n     <use xlink:href=\"#ma0cf5655ea\" x=\"171.008459\" y=\"100.944039\" style=\"fill: #1f77b4; stroke: #1f77b4\"/>\n     <use xlink:href=\"#ma0cf5655ea\" x=\"129.573509\" y=\"78.558691\" style=\"fill: #1f77b4; stroke: #1f77b4\"/>\n     <use xlink:href=\"#ma0cf5655ea\" x=\"93.306086\" y=\"51.840816\" style=\"fill: #1f77b4; stroke: #1f77b4\"/>\n     <use xlink:href=\"#ma0cf5655ea\" x=\"115.42195\" y=\"69.700174\" style=\"fill: #1f77b4; stroke: #1f77b4\"/>\n     <use xlink:href=\"#ma0cf5655ea\" x=\"143.794013\" y=\"82.392315\" style=\"fill: #1f77b4; stroke: #1f77b4\"/>\n     <use xlink:href=\"#ma0cf5655ea\" x=\"139.359915\" y=\"78.988734\" style=\"fill: #1f77b4; stroke: #1f77b4\"/>\n     <use xlink:href=\"#ma0cf5655ea\" x=\"183.98504\" y=\"113.878461\" style=\"fill: #1f77b4; stroke: #1f77b4\"/>\n     <use xlink:href=\"#ma0cf5655ea\" x=\"38.931658\" y=\"35.961926\" style=\"fill: #1f77b4; stroke: #1f77b4\"/>\n     <use xlink:href=\"#ma0cf5655ea\" x=\"154.007041\" y=\"88.275726\" style=\"fill: #1f77b4; stroke: #1f77b4\"/>\n     <use xlink:href=\"#ma0cf5655ea\" x=\"178.278446\" y=\"114.953341\" style=\"fill: #1f77b4; stroke: #1f77b4\"/>\n     <use xlink:href=\"#ma0cf5655ea\" x=\"99.576231\" y=\"81.956186\" style=\"fill: #1f77b4; stroke: #1f77b4\"/>\n     <use xlink:href=\"#ma0cf5655ea\" x=\"131.709381\" y=\"91.177969\" style=\"fill: #1f77b4; stroke: #1f77b4\"/>\n     <use xlink:href=\"#ma0cf5655ea\" x=\"161.096153\" y=\"107.285261\" style=\"fill: #1f77b4; stroke: #1f77b4\"/>\n     <use xlink:href=\"#ma0cf5655ea\" x=\"148.797113\" y=\"92.678807\" style=\"fill: #1f77b4; stroke: #1f77b4\"/>\n     <use xlink:href=\"#ma0cf5655ea\" x=\"138.219988\" y=\"73.050141\" style=\"fill: #1f77b4; stroke: #1f77b4\"/>\n     <use xlink:href=\"#ma0cf5655ea\" x=\"190.241955\" y=\"113.640747\" style=\"fill: #1f77b4; stroke: #1f77b4\"/>\n     <use xlink:href=\"#ma0cf5655ea\" x=\"169.084684\" y=\"100.131864\" style=\"fill: #1f77b4; stroke: #1f77b4\"/>\n     <use xlink:href=\"#ma0cf5655ea\" x=\"109.599787\" y=\"79.357938\" style=\"fill: #1f77b4; stroke: #1f77b4\"/>\n     <use xlink:href=\"#ma0cf5655ea\" x=\"85.771636\" y=\"60.999768\" style=\"fill: #1f77b4; stroke: #1f77b4\"/>\n     <use xlink:href=\"#ma0cf5655ea\" x=\"171.084584\" y=\"114.61988\" style=\"fill: #1f77b4; stroke: #1f77b4\"/>\n     <use xlink:href=\"#ma0cf5655ea\" x=\"123.762603\" y=\"86.294531\" style=\"fill: #1f77b4; stroke: #1f77b4\"/>\n     <use xlink:href=\"#ma0cf5655ea\" x=\"122.539315\" y=\"95.489874\" style=\"fill: #1f77b4; stroke: #1f77b4\"/>\n    </g>\n   </g>\n   <g id=\"matplotlib.axis_1\">\n    <g id=\"xtick_1\">\n     <g id=\"line2d_1\">\n      <defs>\n       <path id=\"m2e69647ff3\" d=\"M 0 0 \nL 0 3.5 \n\" style=\"stroke: #000000; stroke-width: 0.8\"/>\n      </defs>\n      <g>\n       <use xlink:href=\"#m2e69647ff3\" x=\"57.849749\" y=\"145.8\" style=\"stroke: #000000; stroke-width: 0.8\"/>\n      </g>\n     </g>\n     <g id=\"text_1\">\n      <!-- −2 -->\n      <g transform=\"translate(50.478656 160.398438) scale(0.1 -0.1)\">\n       <defs>\n        <path id=\"DejaVuSans-2212\" d=\"M 678 2272 \nL 4684 2272 \nL 4684 1741 \nL 678 1741 \nL 678 2272 \nz\n\" transform=\"scale(0.015625)\"/>\n        <path id=\"DejaVuSans-32\" d=\"M 1228 531 \nL 3431 531 \nL 3431 0 \nL 469 0 \nL 469 531 \nQ 828 903 1448 1529 \nQ 2069 2156 2228 2338 \nQ 2531 2678 2651 2914 \nQ 2772 3150 2772 3378 \nQ 2772 3750 2511 3984 \nQ 2250 4219 1831 4219 \nQ 1534 4219 1204 4116 \nQ 875 4013 500 3803 \nL 500 4441 \nQ 881 4594 1212 4672 \nQ 1544 4750 1819 4750 \nQ 2544 4750 2975 4387 \nQ 3406 4025 3406 3419 \nQ 3406 3131 3298 2873 \nQ 3191 2616 2906 2266 \nQ 2828 2175 2409 1742 \nQ 1991 1309 1228 531 \nz\n\" transform=\"scale(0.015625)\"/>\n       </defs>\n       <use xlink:href=\"#DejaVuSans-2212\"/>\n       <use xlink:href=\"#DejaVuSans-32\" x=\"83.789062\"/>\n      </g>\n     </g>\n    </g>\n    <g id=\"xtick_2\">\n     <g id=\"line2d_2\">\n      <g>\n       <use xlink:href=\"#m2e69647ff3\" x=\"91.450751\" y=\"145.8\" style=\"stroke: #000000; stroke-width: 0.8\"/>\n      </g>\n     </g>\n     <g id=\"text_2\">\n      <!-- −1 -->\n      <g transform=\"translate(84.079657 160.398438) scale(0.1 -0.1)\">\n       <defs>\n        <path id=\"DejaVuSans-31\" d=\"M 794 531 \nL 1825 531 \nL 1825 4091 \nL 703 3866 \nL 703 4441 \nL 1819 4666 \nL 2450 4666 \nL 2450 531 \nL 3481 531 \nL 3481 0 \nL 794 0 \nL 794 531 \nz\n\" transform=\"scale(0.015625)\"/>\n       </defs>\n       <use xlink:href=\"#DejaVuSans-2212\"/>\n       <use xlink:href=\"#DejaVuSans-31\" x=\"83.789062\"/>\n      </g>\n     </g>\n    </g>\n    <g id=\"xtick_3\">\n     <g id=\"line2d_3\">\n      <g>\n       <use xlink:href=\"#m2e69647ff3\" x=\"125.051753\" y=\"145.8\" style=\"stroke: #000000; stroke-width: 0.8\"/>\n      </g>\n     </g>\n     <g id=\"text_3\">\n      <!-- 0 -->\n      <g transform=\"translate(121.870503 160.398438) scale(0.1 -0.1)\">\n       <defs>\n        <path id=\"DejaVuSans-30\" d=\"M 2034 4250 \nQ 1547 4250 1301 3770 \nQ 1056 3291 1056 2328 \nQ 1056 1369 1301 889 \nQ 1547 409 2034 409 \nQ 2525 409 2770 889 \nQ 3016 1369 3016 2328 \nQ 3016 3291 2770 3770 \nQ 2525 4250 2034 4250 \nz\nM 2034 4750 \nQ 2819 4750 3233 4129 \nQ 3647 3509 3647 2328 \nQ 3647 1150 3233 529 \nQ 2819 -91 2034 -91 \nQ 1250 -91 836 529 \nQ 422 1150 422 2328 \nQ 422 3509 836 4129 \nQ 1250 4750 2034 4750 \nz\n\" transform=\"scale(0.015625)\"/>\n       </defs>\n       <use xlink:href=\"#DejaVuSans-30\"/>\n      </g>\n     </g>\n    </g>\n    <g id=\"xtick_4\">\n     <g id=\"line2d_4\">\n      <g>\n       <use xlink:href=\"#m2e69647ff3\" x=\"158.652754\" y=\"145.8\" style=\"stroke: #000000; stroke-width: 0.8\"/>\n      </g>\n     </g>\n     <g id=\"text_4\">\n      <!-- 1 -->\n      <g transform=\"translate(155.471504 160.398438) scale(0.1 -0.1)\">\n       <use xlink:href=\"#DejaVuSans-31\"/>\n      </g>\n     </g>\n    </g>\n    <g id=\"xtick_5\">\n     <g id=\"line2d_5\">\n      <g>\n       <use xlink:href=\"#m2e69647ff3\" x=\"192.253756\" y=\"145.8\" style=\"stroke: #000000; stroke-width: 0.8\"/>\n      </g>\n     </g>\n     <g id=\"text_5\">\n      <!-- 2 -->\n      <g transform=\"translate(189.072506 160.398438) scale(0.1 -0.1)\">\n       <use xlink:href=\"#DejaVuSans-32\"/>\n      </g>\n     </g>\n    </g>\n   </g>\n   <g id=\"matplotlib.axis_2\">\n    <g id=\"ytick_1\">\n     <g id=\"line2d_6\">\n      <defs>\n       <path id=\"mf6586f9029\" d=\"M 0 0 \nL -3.5 0 \n\" style=\"stroke: #000000; stroke-width: 0.8\"/>\n      </defs>\n      <g>\n       <use xlink:href=\"#mf6586f9029\" x=\"28.942188\" y=\"131.568161\" style=\"stroke: #000000; stroke-width: 0.8\"/>\n      </g>\n     </g>\n     <g id=\"text_6\">\n      <!-- −5 -->\n      <g transform=\"translate(7.2 135.36738) scale(0.1 -0.1)\">\n       <defs>\n        <path id=\"DejaVuSans-35\" d=\"M 691 4666 \nL 3169 4666 \nL 3169 4134 \nL 1269 4134 \nL 1269 2991 \nQ 1406 3038 1543 3061 \nQ 1681 3084 1819 3084 \nQ 2600 3084 3056 2656 \nQ 3513 2228 3513 1497 \nQ 3513 744 3044 326 \nQ 2575 -91 1722 -91 \nQ 1428 -91 1123 -41 \nQ 819 9 494 109 \nL 494 744 \nQ 775 591 1075 516 \nQ 1375 441 1709 441 \nQ 2250 441 2565 725 \nQ 2881 1009 2881 1497 \nQ 2881 1984 2565 2268 \nQ 2250 2553 1709 2553 \nQ 1456 2553 1204 2497 \nQ 953 2441 691 2322 \nL 691 4666 \nz\n\" transform=\"scale(0.015625)\"/>\n       </defs>\n       <use xlink:href=\"#DejaVuSans-2212\"/>\n       <use xlink:href=\"#DejaVuSans-35\" x=\"83.789062\"/>\n      </g>\n     </g>\n    </g>\n    <g id=\"ytick_2\">\n     <g id=\"line2d_7\">\n      <g>\n       <use xlink:href=\"#mf6586f9029\" x=\"28.942188\" y=\"105.907032\" style=\"stroke: #000000; stroke-width: 0.8\"/>\n      </g>\n     </g>\n     <g id=\"text_7\">\n      <!-- 0 -->\n      <g transform=\"translate(15.579688 109.706251) scale(0.1 -0.1)\">\n       <use xlink:href=\"#DejaVuSans-30\"/>\n      </g>\n     </g>\n    </g>\n    <g id=\"ytick_3\">\n     <g id=\"line2d_8\">\n      <g>\n       <use xlink:href=\"#mf6586f9029\" x=\"28.942188\" y=\"80.245903\" style=\"stroke: #000000; stroke-width: 0.8\"/>\n      </g>\n     </g>\n     <g id=\"text_8\">\n      <!-- 5 -->\n      <g transform=\"translate(15.579688 84.045122) scale(0.1 -0.1)\">\n       <use xlink:href=\"#DejaVuSans-35\"/>\n      </g>\n     </g>\n    </g>\n    <g id=\"ytick_4\">\n     <g id=\"line2d_9\">\n      <g>\n       <use xlink:href=\"#mf6586f9029\" x=\"28.942188\" y=\"54.584775\" style=\"stroke: #000000; stroke-width: 0.8\"/>\n      </g>\n     </g>\n     <g id=\"text_9\">\n      <!-- 10 -->\n      <g transform=\"translate(9.217188 58.383993) scale(0.1 -0.1)\">\n       <use xlink:href=\"#DejaVuSans-31\"/>\n       <use xlink:href=\"#DejaVuSans-30\" x=\"63.623047\"/>\n      </g>\n     </g>\n    </g>\n    <g id=\"ytick_5\">\n     <g id=\"line2d_10\">\n      <g>\n       <use xlink:href=\"#mf6586f9029\" x=\"28.942188\" y=\"28.923646\" style=\"stroke: #000000; stroke-width: 0.8\"/>\n      </g>\n     </g>\n     <g id=\"text_10\">\n      <!-- 15 -->\n      <g transform=\"translate(9.217188 32.722865) scale(0.1 -0.1)\">\n       <use xlink:href=\"#DejaVuSans-31\"/>\n       <use xlink:href=\"#DejaVuSans-35\" x=\"63.623047\"/>\n      </g>\n     </g>\n    </g>\n   </g>\n   <g id=\"patch_3\">\n    <path d=\"M 28.942188 145.8 \nL 28.942188 7.2 \n\" style=\"fill: none; stroke: #000000; stroke-width: 0.8; stroke-linejoin: miter; stroke-linecap: square\"/>\n   </g>\n   <g id=\"patch_4\">\n    <path d=\"M 224.242188 145.8 \nL 224.242188 7.2 \n\" style=\"fill: none; stroke: #000000; stroke-width: 0.8; stroke-linejoin: miter; stroke-linecap: square\"/>\n   </g>\n   <g id=\"patch_5\">\n    <path d=\"M 28.942188 145.8 \nL 224.242188 145.8 \n\" style=\"fill: none; stroke: #000000; stroke-width: 0.8; stroke-linejoin: miter; stroke-linecap: square\"/>\n   </g>\n   <g id=\"patch_6\">\n    <path d=\"M 28.942188 7.2 \nL 224.242188 7.2 \n\" style=\"fill: none; stroke: #000000; stroke-width: 0.8; stroke-linejoin: miter; stroke-linecap: square\"/>\n   </g>\n  </g>\n </g>\n <defs>\n  <clipPath id=\"p429c04a79f\">\n   <rect x=\"28.942188\" y=\"7.2\" width=\"195.3\" height=\"138.6\"/>\n  </clipPath>\n </defs>\n</svg>\n"
          },
          "metadata": {}
        }
      ],
      "source": [
        "d2l.set_figsize()\n",
        "d2l.plt.scatter(features[:, (1)].detach().numpy(), labels.detach().numpy(), 1);"
      ]
    },
    {
      "cell_type": "markdown",
      "id": "b032f500",
      "metadata": {
        "origin_pos": 13,
        "id": "b032f500"
      },
      "source": [
        "## 读取数据集\n",
        "\n",
        "回想一下，训练模型时要对数据集进行遍历，每次抽取一小批量样本，并使用它们来更新我们的模型。\n",
        "由于这个过程是训练机器学习算法的基础，所以有必要定义一个函数，\n",
        "该函数能打乱数据集中的样本并以小批量方式获取数据。\n",
        "\n",
        "在下面的代码中，我们[**定义一个`data_iter`函数，\n",
        "该函数接收批量大小、特征矩阵和标签向量作为输入，生成大小为`batch_size`的小批量**]。\n",
        "每个小批量包含一组特征和标签。\n"
      ]
    },
    {
      "cell_type": "code",
      "execution_count": 11,
      "id": "3da34ac6",
      "metadata": {
        "execution": {
          "iopub.execute_input": "2023-08-18T07:02:04.839342Z",
          "iopub.status.busy": "2023-08-18T07:02:04.838682Z",
          "iopub.status.idle": "2023-08-18T07:02:04.846329Z",
          "shell.execute_reply": "2023-08-18T07:02:04.845247Z"
        },
        "origin_pos": 14,
        "tab": [
          "pytorch"
        ],
        "id": "3da34ac6"
      },
      "outputs": [],
      "source": [
        "def data_iter(batch_size, features, labels):\n",
        "    num_examples = len(features) #1000\n",
        "    indices = list(range(num_examples))\n",
        "    # 这些样本是随机读取的，没有特定的顺序\n",
        "    random.shuffle(indices)\n",
        "    for i in range(0, num_examples, batch_size):\n",
        "        batch_indices = torch.tensor(\n",
        "            indices[i: min(i + batch_size, num_examples)])\n",
        "        yield features[batch_indices], labels[batch_indices] #使data_iter成为一个生成器函数"
      ]
    },
    {
      "cell_type": "markdown",
      "id": "52e08a78",
      "metadata": {
        "origin_pos": 16,
        "id": "52e08a78"
      },
      "source": [
        "通常，我们利用GPU并行运算的优势，处理合理大小的“小批量”。\n",
        "每个样本都可以并行地进行模型计算，且每个样本损失函数的梯度也可以被并行计算。\n",
        "GPU可以在处理几百个样本时，所花费的时间不比处理一个样本时多太多。\n",
        "\n",
        "我们直观感受一下小批量运算：读取第一个小批量数据样本并打印。\n",
        "每个批量的特征维度显示批量大小和输入特征数。\n",
        "同样的，批量的标签形状与`batch_size`相等。\n"
      ]
    },
    {
      "cell_type": "code",
      "execution_count": 17,
      "id": "1dce0726",
      "metadata": {
        "execution": {
          "iopub.execute_input": "2023-08-18T07:02:04.851066Z",
          "iopub.status.busy": "2023-08-18T07:02:04.850456Z",
          "iopub.status.idle": "2023-08-18T07:02:04.859860Z",
          "shell.execute_reply": "2023-08-18T07:02:04.858756Z"
        },
        "origin_pos": 17,
        "tab": [
          "pytorch"
        ],
        "id": "1dce0726",
        "outputId": "6784c833-c76b-4de3-e554-b369e776e9e9",
        "colab": {
          "base_uri": "https://localhost:8080/"
        }
      },
      "outputs": [
        {
          "output_type": "stream",
          "name": "stdout",
          "text": [
            "tensor([[-1.1713, -1.7037],\n",
            "        [ 0.2046,  0.7300],\n",
            "        [ 0.3459,  0.7318],\n",
            "        [ 0.7406, -0.3085],\n",
            "        [ 0.3667, -0.1589],\n",
            "        [-0.8470, -0.3240],\n",
            "        [-0.5348,  0.4456],\n",
            "        [ 0.2631,  1.1824],\n",
            "        [-0.2957, -1.6424],\n",
            "        [-1.0482,  0.1872]]) \n",
            " tensor([[7.6350],\n",
            "        [2.1185],\n",
            "        [2.4076],\n",
            "        [6.7482],\n",
            "        [5.4708],\n",
            "        [3.6160],\n",
            "        [1.6181],\n",
            "        [0.7238],\n",
            "        [9.2031],\n",
            "        [1.4551]])\n"
          ]
        }
      ],
      "source": [
        "batch_size = 10\n",
        "\n",
        "for X, y in data_iter(batch_size, features, labels):\n",
        "    print(X, '\\n', y)\n",
        "    break"
      ]
    },
    {
      "cell_type": "markdown",
      "id": "d86e62d7",
      "metadata": {
        "origin_pos": 18,
        "id": "d86e62d7"
      },
      "source": [
        "当我们运行迭代时，我们会连续地获得不同的小批量，直至遍历完整个数据集。\n",
        "上面实现的迭代对教学来说很好，但它的执行效率很低，可能会在实际问题上陷入麻烦。\n",
        "例如，它要求我们将所有数据加载到内存中，并执行大量的随机内存访问。\n",
        "在深度学习框架中实现的内置迭代器效率要高得多，\n",
        "它可以处理存储在文件中的数据和数据流提供的数据。\n",
        "\n",
        "## 初始化模型参数\n",
        "\n",
        "[**在我们开始用小批量随机梯度下降优化我们的模型参数之前**]，\n",
        "(**我们需要先有一些参数**)。\n",
        "在下面的代码中，我们通过从均值为0、标准差为0.01的正态分布中采样随机数来初始化权重，\n",
        "并将偏置初始化为0。\n"
      ]
    },
    {
      "cell_type": "code",
      "execution_count": 18,
      "id": "12c51289",
      "metadata": {
        "execution": {
          "iopub.execute_input": "2023-08-18T07:02:04.864457Z",
          "iopub.status.busy": "2023-08-18T07:02:04.863853Z",
          "iopub.status.idle": "2023-08-18T07:02:04.869983Z",
          "shell.execute_reply": "2023-08-18T07:02:04.868859Z"
        },
        "origin_pos": 20,
        "tab": [
          "pytorch"
        ],
        "id": "12c51289"
      },
      "outputs": [],
      "source": [
        "w = torch.normal(0, 0.01, size=(2,1), requires_grad=True)\n",
        "b = torch.zeros(1, requires_grad=True)"
      ]
    },
    {
      "cell_type": "markdown",
      "id": "c59d5d68",
      "metadata": {
        "origin_pos": 23,
        "id": "c59d5d68"
      },
      "source": [
        "在初始化参数之后，我们的任务是更新这些参数，直到这些参数足够拟合我们的数据。\n",
        "每次更新都需要计算损失函数关于模型参数的梯度。\n",
        "有了这个梯度，我们就可以向减小损失的方向更新每个参数。\n",
        "因为手动计算梯度很枯燥而且容易出错，所以没有人会手动计算梯度。\n",
        "我们使用 :numref:`sec_autograd`中引入的自动微分来计算梯度。\n",
        "\n",
        "## 定义模型\n",
        "\n",
        "接下来，我们必须[**定义模型，将模型的输入和参数同模型的输出关联起来。**]\n",
        "回想一下，要计算线性模型的输出，\n",
        "我们只需计算输入特征$\\mathbf{X}$和模型权重$\\mathbf{w}$的矩阵-向量乘法后加上偏置$b$。\n",
        "注意，上面的$\\mathbf{Xw}$是一个向量，而$b$是一个标量。\n",
        "回想一下 :numref:`subsec_broadcasting`中描述的广播机制：\n",
        "当我们用一个向量加一个标量时，标量会被加到向量的每个分量上。\n"
      ]
    },
    {
      "cell_type": "code",
      "execution_count": 21,
      "id": "b8b29b19",
      "metadata": {
        "execution": {
          "iopub.execute_input": "2023-08-18T07:02:04.874642Z",
          "iopub.status.busy": "2023-08-18T07:02:04.874004Z",
          "iopub.status.idle": "2023-08-18T07:02:04.879521Z",
          "shell.execute_reply": "2023-08-18T07:02:04.878471Z"
        },
        "origin_pos": 24,
        "tab": [
          "pytorch"
        ],
        "id": "b8b29b19"
      },
      "outputs": [],
      "source": [
        "def linreg(X, w, b):\n",
        "    \"\"\"线性回归模型\"\"\"\n",
        "    return torch.matmul(X, w) + b"
      ]
    },
    {
      "cell_type": "markdown",
      "id": "6b7765ef",
      "metadata": {
        "origin_pos": 25,
        "id": "6b7765ef"
      },
      "source": [
        "## [**定义损失函数**]\n",
        "\n",
        "因为需要计算损失函数的梯度，所以我们应该先定义损失函数。\n",
        "这里我们使用 :numref:`sec_linear_regression`中描述的平方损失函数。\n",
        "在实现中，我们需要将真实值`y`的形状转换为和预测值`y_hat`的形状相同。\n"
      ]
    },
    {
      "cell_type": "code",
      "execution_count": 22,
      "id": "3dda15c7",
      "metadata": {
        "execution": {
          "iopub.execute_input": "2023-08-18T07:02:04.884156Z",
          "iopub.status.busy": "2023-08-18T07:02:04.883559Z",
          "iopub.status.idle": "2023-08-18T07:02:04.889065Z",
          "shell.execute_reply": "2023-08-18T07:02:04.887964Z"
        },
        "origin_pos": 26,
        "tab": [
          "pytorch"
        ],
        "id": "3dda15c7"
      },
      "outputs": [],
      "source": [
        "def squared_loss(y_hat, y):\n",
        "    \"\"\"均方损失\"\"\"\n",
        "    return (y_hat - y.reshape(y_hat.shape)) ** 2 / 2"
      ]
    },
    {
      "cell_type": "markdown",
      "id": "56969029",
      "metadata": {
        "origin_pos": 27,
        "id": "56969029"
      },
      "source": [
        "## (**定义优化算法**)\n",
        "\n",
        "正如我们在 :numref:`sec_linear_regression`中讨论的，线性回归有解析解。\n",
        "尽管线性回归有解析解，但本书中的其他模型却没有。\n",
        "这里我们介绍小批量随机梯度下降。\n",
        "\n",
        "在每一步中，使用从数据集中随机抽取的一个小批量，然后根据参数计算损失的梯度。\n",
        "接下来，朝着减少损失的方向更新我们的参数。\n",
        "下面的函数实现小批量随机梯度下降更新。\n",
        "该函数接受模型参数集合、学习速率和批量大小作为输入。每\n",
        "一步更新的大小由学习速率`lr`决定。\n",
        "因为我们计算的损失是一个批量样本的总和，所以我们用批量大小（`batch_size`）\n",
        "来规范化步长，这样步长大小就不会取决于我们对批量大小的选择。\n"
      ]
    },
    {
      "cell_type": "code",
      "execution_count": 23,
      "id": "8f92242d",
      "metadata": {
        "execution": {
          "iopub.execute_input": "2023-08-18T07:02:04.893665Z",
          "iopub.status.busy": "2023-08-18T07:02:04.892999Z",
          "iopub.status.idle": "2023-08-18T07:02:04.899100Z",
          "shell.execute_reply": "2023-08-18T07:02:04.898003Z"
        },
        "origin_pos": 29,
        "tab": [
          "pytorch"
        ],
        "id": "8f92242d"
      },
      "outputs": [],
      "source": [
        "def sgd(params, lr, batch_size):\n",
        "    \"\"\"小批量随机梯度下降\"\"\"\n",
        "    with torch.no_grad():\n",
        "        for param in params:\n",
        "            param -= lr * param.grad / batch_size\n",
        "            param.grad.zero_()"
      ]
    },
    {
      "cell_type": "markdown",
      "id": "89067f86",
      "metadata": {
        "origin_pos": 32,
        "id": "89067f86"
      },
      "source": [
        "## 训练\n",
        "\n",
        "现在我们已经准备好了模型训练所有需要的要素，可以实现主要的[**训练过程**]部分了。\n",
        "理解这段代码至关重要，因为从事深度学习后，\n",
        "相同的训练过程几乎一遍又一遍地出现。\n",
        "在每次迭代中，我们读取一小批量训练样本，并通过我们的模型来获得一组预测。\n",
        "计算完损失后，我们开始反向传播，存储每个参数的梯度。\n",
        "最后，我们调用优化算法`sgd`来更新模型参数。\n",
        "\n",
        "概括一下，我们将执行以下循环：\n",
        "\n",
        "* 初始化参数\n",
        "* 重复以下训练，直到完成\n",
        "    * 计算梯度$\\mathbf{g} \\leftarrow \\partial_{(\\mathbf{w},b)} \\frac{1}{|\\mathcal{B}|} \\sum_{i \\in \\mathcal{B}} l(\\mathbf{x}^{(i)}, y^{(i)}, \\mathbf{w}, b)$\n",
        "    * 更新参数$(\\mathbf{w}, b) \\leftarrow (\\mathbf{w}, b) - \\eta \\mathbf{g}$\n",
        "\n",
        "在每个*迭代周期*（epoch）中，我们使用`data_iter`函数遍历整个数据集，\n",
        "并将训练数据集中所有样本都使用一次（假设样本数能够被批量大小整除）。\n",
        "这里的迭代周期个数`num_epochs`和学习率`lr`都是超参数，分别设为3和0.03。\n",
        "设置超参数很棘手，需要通过反复试验进行调整。\n",
        "我们现在忽略这些细节，以后会在 :numref:`chap_optimization`中详细介绍。\n"
      ]
    },
    {
      "cell_type": "code",
      "execution_count": 32,
      "id": "9163db58",
      "metadata": {
        "execution": {
          "iopub.execute_input": "2023-08-18T07:02:04.903791Z",
          "iopub.status.busy": "2023-08-18T07:02:04.903216Z",
          "iopub.status.idle": "2023-08-18T07:02:04.908499Z",
          "shell.execute_reply": "2023-08-18T07:02:04.907341Z"
        },
        "origin_pos": 33,
        "tab": [
          "pytorch"
        ],
        "id": "9163db58"
      },
      "outputs": [],
      "source": [
        "lr = 0.02\n",
        "num_epochs = 5\n",
        "net = linreg\n",
        "loss = squared_loss"
      ]
    },
    {
      "cell_type": "code",
      "execution_count": 33,
      "id": "ad5c2cd1",
      "metadata": {
        "execution": {
          "iopub.execute_input": "2023-08-18T07:02:04.913061Z",
          "iopub.status.busy": "2023-08-18T07:02:04.912436Z",
          "iopub.status.idle": "2023-08-18T07:02:05.067276Z",
          "shell.execute_reply": "2023-08-18T07:02:05.066107Z"
        },
        "origin_pos": 35,
        "tab": [
          "pytorch"
        ],
        "id": "ad5c2cd1",
        "outputId": "b8b68751-79d8-4ea5-93be-86314377eb25",
        "colab": {
          "base_uri": "https://localhost:8080/"
        }
      },
      "outputs": [
        {
          "output_type": "stream",
          "name": "stdout",
          "text": [
            "epoch 1, loss 0.000051\n",
            "epoch 2, loss 0.000051\n",
            "epoch 3, loss 0.000051\n",
            "epoch 4, loss 0.000051\n",
            "epoch 5, loss 0.000051\n"
          ]
        }
      ],
      "source": [
        "for epoch in range(num_epochs):\n",
        "    for X, y in data_iter(batch_size, features, labels):\n",
        "        l = loss(net(X, w, b), y)  # X和y的小批量损失\n",
        "        # 因为l形状是(batch_size,1)，而不是一个标量。l中的所有元素被加到一起，\n",
        "        # 并以此计算关于[w,b]的梯度\n",
        "        l.sum().backward()\n",
        "        sgd([w, b], lr, batch_size)  # 使用参数的梯度更新参数\n",
        "    with torch.no_grad():\n",
        "        train_l = loss(net(features, w, b), labels)\n",
        "        print(f'epoch {epoch + 1}, loss {float(train_l.mean()):f}')"
      ]
    },
    {
      "cell_type": "markdown",
      "id": "427d8cda",
      "metadata": {
        "origin_pos": 38,
        "id": "427d8cda"
      },
      "source": [
        "因为我们使用的是自己合成的数据集，所以我们知道真正的参数是什么。\n",
        "因此，我们可以通过[**比较真实参数和通过训练学到的参数来评估训练的成功程度**]。\n",
        "事实上，真实参数和通过训练学到的参数确实非常接近。\n"
      ]
    },
    {
      "cell_type": "code",
      "execution_count": 34,
      "id": "a4c3d525",
      "metadata": {
        "execution": {
          "iopub.execute_input": "2023-08-18T07:02:05.072546Z",
          "iopub.status.busy": "2023-08-18T07:02:05.071769Z",
          "iopub.status.idle": "2023-08-18T07:02:05.079203Z",
          "shell.execute_reply": "2023-08-18T07:02:05.078107Z"
        },
        "origin_pos": 39,
        "tab": [
          "pytorch"
        ],
        "id": "a4c3d525",
        "outputId": "fb708aea-0556-4e40-984f-62d8119da139",
        "colab": {
          "base_uri": "https://localhost:8080/"
        }
      },
      "outputs": [
        {
          "output_type": "stream",
          "name": "stdout",
          "text": [
            "w的估计误差: tensor([ 0.0005, -0.0005], grad_fn=<SubBackward0>)\n",
            "b的估计误差: tensor([0.0003], grad_fn=<RsubBackward1>)\n"
          ]
        }
      ],
      "source": [
        "print(f'w的估计误差: {true_w - w.reshape(true_w.shape)}')\n",
        "print(f'b的估计误差: {true_b - b}')"
      ]
    },
    {
      "cell_type": "markdown",
      "id": "9f3d71ee",
      "metadata": {
        "origin_pos": 40,
        "id": "9f3d71ee"
      },
      "source": [
        "注意，我们不应该想当然地认为我们能够完美地求解参数。\n",
        "在机器学习中，我们通常不太关心恢复真正的参数，而更关心如何高度准确预测参数。\n",
        "幸运的是，即使是在复杂的优化问题上，随机梯度下降通常也能找到非常好的解。\n",
        "其中一个原因是，在深度网络中存在许多参数组合能够实现高度精确的预测。\n",
        "\n",
        "## 小结\n",
        "\n",
        "* 我们学习了深度网络是如何实现和优化的。在这一过程中只使用张量和自动微分，不需要定义层或复杂的优化器。\n",
        "* 这一节只触及到了表面知识。在下面的部分中，我们将基于刚刚介绍的概念描述其他模型，并学习如何更简洁地实现其他模型。\n",
        "\n",
        "## 练习\n",
        "\n",
        "1. 如果我们将权重初始化为零，会发生什么。算法仍然有效吗？\n",
        "1. 假设试图为电压和电流的关系建立一个模型。自动微分可以用来学习模型的参数吗?\n",
        "1. 能基于[普朗克定律](https://en.wikipedia.org/wiki/Planck%27s_law)使用光谱能量密度来确定物体的温度吗？\n",
        "1. 计算二阶导数时可能会遇到什么问题？这些问题可以如何解决？\n",
        "1. 为什么在`squared_loss`函数中需要使用`reshape`函数？\n",
        "1. 尝试使用不同的学习率，观察损失函数值下降的快慢。\n",
        "1. 如果样本个数不能被批量大小整除，`data_iter`函数的行为会有什么变化？\n"
      ]
    },
    {
      "cell_type": "markdown",
      "id": "193224b1",
      "metadata": {
        "origin_pos": 42,
        "tab": [
          "pytorch"
        ],
        "id": "193224b1"
      },
      "source": [
        "[Discussions](https://discuss.d2l.ai/t/1778)\n"
      ]
    }
  ],
  "metadata": {
    "kernelspec": {
      "display_name": "Python 3",
      "name": "python3"
    },
    "language_info": {
      "name": "python"
    },
    "required_libs": [],
    "colab": {
      "provenance": []
    }
  },
  "nbformat": 4,
  "nbformat_minor": 5
}